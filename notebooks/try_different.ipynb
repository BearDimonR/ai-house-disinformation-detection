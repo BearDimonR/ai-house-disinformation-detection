{
 "cells": [
  {
   "cell_type": "code",
   "execution_count": 27,
   "id": "af3c48af-fac0-4e57-8136-e14aed75b41d",
   "metadata": {
    "tags": []
   },
   "outputs": [],
   "source": [
    "import warnings\n",
    "\n",
    "import gensim\n",
    "import nltk\n",
    "import numpy as np\n",
    "import optuna\n",
    "import pandas as pd\n",
    "import plotly.express as px\n",
    "import plotly.graph_objects as go\n",
    "import textdistance\n",
    "from matplotlib import pyplot as plt\n",
    "from nltk.corpus import stopwords\n",
    "from nltk.tokenize import word_tokenize\n",
    "from optuna.pruners import SuccessiveHalvingPruner\n",
    "from sentence_transformers import SentenceTransformer, util\n",
    "from sklearn.ensemble import RandomForestClassifier, VotingClassifier\n",
    "from sklearn.feature_extraction.text import CountVectorizer, TfidfVectorizer\n",
    "from sklearn.linear_model import LogisticRegression\n",
    "from sklearn.metrics import (\n",
    "    ConfusionMatrixDisplay,\n",
    "    auc,\n",
    "    f1_score,\n",
    "    roc_auc_score,\n",
    "    roc_curve,\n",
    ")\n",
    "from sklearn.model_selection import StratifiedKFold, cross_validate, train_test_split\n",
    "from sklearn.naive_bayes import MultinomialNB\n",
    "from sklearn.pipeline import make_pipeline\n",
    "from sklearn.svm import SVC\n",
    "from tqdm import tqdm\n",
    "from wordcloud import WordCloud\n",
    "\n",
    "warnings.filterwarnings(\"ignore\")"
   ]
  },
  {
   "cell_type": "code",
   "execution_count": 28,
   "id": "958b4ba8-aa71-4a55-9a81-5ced408f46cf",
   "metadata": {
    "tags": []
   },
   "outputs": [
    {
     "name": "stderr",
     "output_type": "stream",
     "text": [
      "[nltk_data] Downloading package stopwords to\n",
      "[nltk_data]     /Users/dmytro.miedviediev/nltk_data...\n",
      "[nltk_data]   Package stopwords is already up-to-date!\n",
      "[nltk_data] Downloading package punkt to\n",
      "[nltk_data]     /Users/dmytro.miedviediev/nltk_data...\n",
      "[nltk_data]   Package punkt is already up-to-date!\n"
     ]
    },
    {
     "data": {
      "text/plain": [
       "True"
      ]
     },
     "execution_count": 28,
     "metadata": {},
     "output_type": "execute_result"
    }
   ],
   "source": [
    "nltk.download(\"stopwords\")\n",
    "nltk.download(\"punkt\")"
   ]
  },
  {
   "cell_type": "code",
   "execution_count": 29,
   "id": "99a53d50-fa24-4291-aea7-8480787d4c36",
   "metadata": {
    "tags": []
   },
   "outputs": [
    {
     "name": "stdout",
     "output_type": "stream",
     "text": [
      "True\n",
      "True\n"
     ]
    },
    {
     "data": {
      "text/plain": [
       "device(type='mps')"
      ]
     },
     "execution_count": 29,
     "metadata": {},
     "output_type": "execute_result"
    }
   ],
   "source": [
    "# check if m1 gpu available\n",
    "\n",
    "import torch\n",
    "\n",
    "print(torch.backends.mps.is_available())\n",
    "print(torch.backends.mps.is_built())\n",
    "\n",
    "device = torch.device(\"mps\")\n",
    "device"
   ]
  },
  {
   "cell_type": "code",
   "execution_count": 51,
   "id": "2d1838a5-2278-461c-8c4c-828641b3b69f",
   "metadata": {
    "tags": []
   },
   "outputs": [],
   "source": [
    "train = pd.concat(\n",
    "    [\n",
    "        pd.read_csv(\"../datasets/train_extended.csv\"),\n",
    "        pd.read_csv(\"../datasets/naive_bayes_labeled_final.csv\")[\n",
    "            pd.read_csv(\"../datasets/naive_bayes_labeled_final.csv\")[\n",
    "                \"Suspicious_Level\"\n",
    "            ].isin([3])\n",
    "        ],\n",
    "        pd.read_csv(\"../datasets/naive_bayes_labeled_final2.csv\")[\n",
    "            pd.read_csv(\"../datasets/naive_bayes_labeled_final2.csv\")[\n",
    "                \"Suspicious_Level\"\n",
    "            ].isin([3])\n",
    "        ],\n",
    "        pd.read_csv(\"../datasets/naive_bayes_labeled_additional.csv\")[\n",
    "            pd.read_csv(\"../datasets/naive_bayes_labeled_additional.csv\")[\n",
    "                \"Suspicious_Level\"\n",
    "            ].isin([3])\n",
    "        ],\n",
    "        pd.read_csv(\"../datasets/naive_bayes_labeled_final2.csv\")[\n",
    "            pd.read_csv(\"../datasets/naive_bayes_labeled_final2.csv\")[\n",
    "                \"Suspicious_Level\"\n",
    "            ].isin([2])\n",
    "        ],\n",
    "        pd.read_csv(\"../datasets/naive_bayes_labeled_additional.csv\")[\n",
    "            pd.read_csv(\"../datasets/naive_bayes_labeled_additional.csv\")[\n",
    "                \"Suspicious_Level\"\n",
    "            ].isin([2])\n",
    "        ][:100],\n",
    "        pd.read_csv(\"../datasets/naive_bayes_labeled_final2.csv\")[\n",
    "            pd.read_csv(\"../datasets/naive_bayes_labeled_final2.csv\")[\n",
    "                \"Suspicious_Level\"\n",
    "            ].isin([1])\n",
    "        ][:500],\n",
    "        pd.read_csv(\"../datasets/naive_bayes_labeled_additional.csv\")[\n",
    "            pd.read_csv(\"../datasets/naive_bayes_labeled_additional.csv\")[\n",
    "                \"Suspicious_Level\"\n",
    "            ].isin([1])\n",
    "        ][:500],\n",
    "    ]\n",
    ")\n",
    "test = pd.read_csv(\"../datasets/test_extended.csv\")"
   ]
  },
  {
   "cell_type": "code",
   "execution_count": 52,
   "id": "efd0e922-0bed-4725-a461-315c52cbf9f4",
   "metadata": {
    "tags": []
   },
   "outputs": [
    {
     "data": {
      "text/plain": [
       "Suspicious_Level\n",
       "1    1383\n",
       "2     680\n",
       "3     470\n",
       "Name: count, dtype: int64"
      ]
     },
     "execution_count": 52,
     "metadata": {},
     "output_type": "execute_result"
    }
   ],
   "source": [
    "train[\"Suspicious_Level\"].value_counts()"
   ]
  },
  {
   "cell_type": "code",
   "execution_count": 53,
   "id": "efee5c93-4260-4f2d-9519-8685b4b7e930",
   "metadata": {
    "tags": []
   },
   "outputs": [],
   "source": [
    "train = train.drop_duplicates(subset=\"Content\", keep=\"first\")"
   ]
  },
  {
   "cell_type": "code",
   "execution_count": 54,
   "id": "e0f0d5ff-bde2-45e1-8ea9-d4fd7fc9e971",
   "metadata": {
    "tags": []
   },
   "outputs": [],
   "source": [
    "# initialize stop words\n",
    "stop_words = stopwords.words(\"russian\")"
   ]
  },
  {
   "cell_type": "code",
   "execution_count": 55,
   "id": "5d8343d4-56e3-462f-b71e-9eddf2c75372",
   "metadata": {
    "tags": []
   },
   "outputs": [],
   "source": [
    "# text processing section\n",
    "def remove_stop_words(text, join_back=True):\n",
    "    result = []\n",
    "    for token in word_tokenize(text.lower()):\n",
    "        if token not in stop_words and token.isalpha():\n",
    "            result.append(token)\n",
    "    if join_back:\n",
    "        result = \" \".join(result)\n",
    "    return result\n",
    "\n",
    "\n",
    "def preprocess(text, join_back=True):\n",
    "    res = remove_stop_words(text, join_back)\n",
    "    return res"
   ]
  },
  {
   "cell_type": "code",
   "execution_count": 56,
   "id": "2234f85a-4955-467b-8ca8-21e2f9d987eb",
   "metadata": {
    "tags": []
   },
   "outputs": [],
   "source": [
    "X = train[\"Content\"].values\n",
    "y = train[\"Suspicious_Level\"].values"
   ]
  },
  {
   "cell_type": "code",
   "execution_count": 57,
   "id": "84d30e49-aa67-4ed2-8a1f-42fe2c76919b",
   "metadata": {
    "tags": []
   },
   "outputs": [],
   "source": [
    "from imblearn.over_sampling import SMOTE"
   ]
  },
  {
   "cell_type": "code",
   "execution_count": 58,
   "id": "8b6dc3cb-8570-430c-9b25-68965662225a",
   "metadata": {
    "tags": []
   },
   "outputs": [],
   "source": [
    "random_state = 42\n",
    "test_size = 0.2\n",
    "\n",
    "\n",
    "class DisinformationPredictor:\n",
    "    def __init__(self, vectorizer, model, n_splits=5):\n",
    "        self.vectorizer = vectorizer\n",
    "        self.model = model\n",
    "        self.skf = StratifiedKFold(\n",
    "            n_splits=n_splits, random_state=random_state, shuffle=True\n",
    "        )\n",
    "\n",
    "    def encode(self, X):\n",
    "        return self.vectorizer.transform(X)\n",
    "\n",
    "    def fit_encode(self, X):\n",
    "        return self.vectorizer.fit_transform(X)\n",
    "\n",
    "    def validate(self, X, y, visualize=True):\n",
    "        scores = cross_validate(\n",
    "            self.model,\n",
    "            X,\n",
    "            y,\n",
    "            cv=self.skf,\n",
    "            scoring=(\"f1_weighted\", \"f1_macro\"),\n",
    "            verbose=0,\n",
    "            return_estimator=True,\n",
    "            return_train_score=False,\n",
    "        )\n",
    "        # get top results\n",
    "        top_index = np.argmax(scores[\"test_f1_macro\"])\n",
    "        self.model = scores[\"estimator\"][top_index]\n",
    "        del scores[\"estimator\"]\n",
    "        return pd.DataFrame(scores).loc[top_index]\n",
    "\n",
    "    def fit(self, X, y):\n",
    "        self.model.fit(X, y)\n",
    "        return f1_score(y, self.model.predict(X), average=\"macro\")\n",
    "\n",
    "    def predict(self, X):\n",
    "        return self.model.predict(X)"
   ]
  },
  {
   "cell_type": "code",
   "execution_count": 105,
   "id": "e67b2b17-31ff-4620-b79c-61a3cc8def66",
   "metadata": {
    "tags": []
   },
   "outputs": [
    {
     "data": {
      "text/plain": [
       "<2322x30204 sparse matrix of type '<class 'numpy.int64'>'\n",
       "\twith 116928 stored elements in Compressed Sparse Row format>"
      ]
     },
     "execution_count": 105,
     "metadata": {},
     "output_type": "execute_result"
    }
   ],
   "source": [
    "bag_of_words_predictor = DisinformationPredictor(\n",
    "    vectorizer=CountVectorizer(\n",
    "        analyzer=\"word\",\n",
    "        preprocessor=preprocess,\n",
    "        # ngram_range=(1, 2),\n",
    "    ),\n",
    "    model=LogisticRegression(class_weight=\"balanced\"),\n",
    ")\n",
    "\n",
    "bag_of_words_encoded = bag_of_words_predictor.fit_encode(X)\n",
    "bag_of_words_encoded"
   ]
  },
  {
   "cell_type": "code",
   "execution_count": 106,
   "id": "abbdd590-00a3-49fc-9797-3ff4bdab9d32",
   "metadata": {
    "tags": []
   },
   "outputs": [
    {
     "data": {
      "text/plain": [
       "<2322x125531 sparse matrix of type '<class 'numpy.int64'>'\n",
       "\twith 242044 stored elements in Compressed Sparse Row format>"
      ]
     },
     "execution_count": 106,
     "metadata": {},
     "output_type": "execute_result"
    }
   ],
   "source": [
    "model1 = MultinomialNB()\n",
    "model2 = SVC(kernel=\"linear\", class_weight=\"balanced\")\n",
    "model3 = SVC(kernel=\"poly\", class_weight=\"balanced\")\n",
    "model4 = SVC(kernel=\"rbf\", class_weight=\"balanced\")\n",
    "model5 = LogisticRegression(class_weight=\"balanced\")\n",
    "\n",
    "# Create an ensemble of models\n",
    "ensemble_model = VotingClassifier(\n",
    "    estimators=[\n",
    "        (\"nb\", model1),\n",
    "        (\"svm\", model2),\n",
    "        (\"lr\", model5),\n",
    "        (\"svm2\", model3),\n",
    "        (\"svm3\", model4),\n",
    "    ],\n",
    "    voting=\"hard\",\n",
    ")\n",
    "\n",
    "ensemble_predictor = DisinformationPredictor(\n",
    "    vectorizer=CountVectorizer(\n",
    "        analyzer=\"word\",\n",
    "        preprocessor=preprocess,\n",
    "        ngram_range=(1, 2),\n",
    "    ),\n",
    "    model=ensemble_model,\n",
    ")\n",
    "\n",
    "bag_of_words_encoded_ensemble = ensemble_predictor.fit_encode(X)\n",
    "bag_of_words_encoded_ensemble"
   ]
  },
  {
   "cell_type": "code",
   "execution_count": 94,
   "id": "cd7d5c7f-66ef-484e-a90f-292c5c8dc351",
   "metadata": {
    "tags": []
   },
   "outputs": [
    {
     "data": {
      "text/plain": [
       "<2322x125531 sparse matrix of type '<class 'numpy.float64'>'\n",
       "\twith 242044 stored elements in Compressed Sparse Row format>"
      ]
     },
     "execution_count": 94,
     "metadata": {},
     "output_type": "execute_result"
    }
   ],
   "source": [
    "tfidf_predictor = DisinformationPredictor(\n",
    "    vectorizer=TfidfVectorizer(\n",
    "        analyzer=\"word\", preprocessor=preprocess, ngram_range=(1, 2), norm=\"l2\"\n",
    "    ),\n",
    "    model=SVC(class_weight=\"balanced\"),\n",
    ")\n",
    "\n",
    "tfidf_encoded = tfidf_predictor.fit_encode(X)\n",
    "tfidf_encoded"
   ]
  },
  {
   "cell_type": "code",
   "execution_count": 95,
   "id": "fd0b9f0e-cecf-40dc-aeeb-656301284ebc",
   "metadata": {
    "tags": []
   },
   "outputs": [
    {
     "name": "stderr",
     "output_type": "stream",
     "text": [
      "Batches: 100%|████████████████████████████████████████████████████████████████████████████| 73/73 [00:08<00:00,  9.08it/s]\n"
     ]
    }
   ],
   "source": [
    "sent_tr = SentenceTransformer(\"all-MiniLM-L12-v2\", device=device)\n",
    "sent_tr.transform = lambda x: sent_tr.encode(x, show_progress_bar=True, device=device)\n",
    "sent_tr.fit_transform = sent_tr.transform\n",
    "\n",
    "sent_transformer_predictor = DisinformationPredictor(\n",
    "    vectorizer=sent_tr,\n",
    "    model=SVC(class_weight=\"balanced\"),\n",
    ")\n",
    "\n",
    "sent_encoded = sent_transformer_predictor.fit_encode(X)"
   ]
  },
  {
   "cell_type": "code",
   "execution_count": 107,
   "id": "a27c9c7a-c385-4748-8fef-efc700e5a740",
   "metadata": {
    "tags": []
   },
   "outputs": [
    {
     "data": {
      "text/html": [
       "<div>\n",
       "<style scoped>\n",
       "    .dataframe tbody tr th:only-of-type {\n",
       "        vertical-align: middle;\n",
       "    }\n",
       "\n",
       "    .dataframe tbody tr th {\n",
       "        vertical-align: top;\n",
       "    }\n",
       "\n",
       "    .dataframe thead th {\n",
       "        text-align: right;\n",
       "    }\n",
       "</style>\n",
       "<table border=\"1\" class=\"dataframe\">\n",
       "  <thead>\n",
       "    <tr style=\"text-align: right;\">\n",
       "      <th></th>\n",
       "      <th>fit_time</th>\n",
       "      <th>score_time</th>\n",
       "      <th>test_f1_weighted</th>\n",
       "      <th>test_f1_macro</th>\n",
       "    </tr>\n",
       "  </thead>\n",
       "  <tbody>\n",
       "    <tr>\n",
       "      <th>3</th>\n",
       "      <td>0.712131</td>\n",
       "      <td>0.001661</td>\n",
       "      <td>0.898757</td>\n",
       "      <td>0.887385</td>\n",
       "    </tr>\n",
       "  </tbody>\n",
       "</table>\n",
       "</div>"
      ],
      "text/plain": [
       "   fit_time  score_time  test_f1_weighted  test_f1_macro\n",
       "3  0.712131    0.001661          0.898757       0.887385"
      ]
     },
     "execution_count": 107,
     "metadata": {},
     "output_type": "execute_result"
    }
   ],
   "source": [
    "scores = []\n",
    "predictors = zip(\n",
    "    [bag_of_words_predictor],\n",
    "    [bag_of_words_encoded],\n",
    ")\n",
    "for predictor, embeddings in predictors:\n",
    "    # sm = SMOTE(random_state=42, k_neighbors=7, sampling_strategy=\"auto\")\n",
    "    embeddings_x, y_y = embeddings, y  # sm.fit_resample(embeddings, y)\n",
    "    scores.append(predictor.validate(embeddings_x, y_y))\n",
    "scores = pd.DataFrame(scores)\n",
    "scores"
   ]
  },
  {
   "cell_type": "code",
   "execution_count": 108,
   "id": "40ff25e3-1c46-4699-bef3-c3b32fb7ff26",
   "metadata": {
    "tags": []
   },
   "outputs": [
    {
     "name": "stdout",
     "output_type": "stream",
     "text": [
      "0.999312492215718\n"
     ]
    }
   ],
   "source": [
    "X_test = test[\"Content\"].values.astype(str)\n",
    "X_test_encoded = bag_of_words_predictor.encode(X_test)\n",
    "\n",
    "y = train[\"Suspicious_Level\"].values\n",
    "print(bag_of_words_predictor.fit(bag_of_words_encoded, y))\n",
    "test[\"Suspicious_Level\"] = bag_of_words_predictor.predict(X_test_encoded)"
   ]
  },
  {
   "cell_type": "code",
   "execution_count": 109,
   "id": "4010eb9a-9ec9-4342-86ff-da1bc85f4c97",
   "metadata": {
    "tags": []
   },
   "outputs": [
    {
     "data": {
      "text/html": [
       "<div>\n",
       "<style scoped>\n",
       "    .dataframe tbody tr th:only-of-type {\n",
       "        vertical-align: middle;\n",
       "    }\n",
       "\n",
       "    .dataframe tbody tr th {\n",
       "        vertical-align: top;\n",
       "    }\n",
       "\n",
       "    .dataframe thead th {\n",
       "        text-align: right;\n",
       "    }\n",
       "</style>\n",
       "<table border=\"1\" class=\"dataframe\">\n",
       "  <thead>\n",
       "    <tr style=\"text-align: right;\">\n",
       "      <th></th>\n",
       "      <th>MessageId</th>\n",
       "      <th>Suspicious_Level</th>\n",
       "    </tr>\n",
       "  </thead>\n",
       "  <tbody>\n",
       "    <tr>\n",
       "      <th>0</th>\n",
       "      <td>168641</td>\n",
       "      <td>1</td>\n",
       "    </tr>\n",
       "    <tr>\n",
       "      <th>1</th>\n",
       "      <td>36569</td>\n",
       "      <td>1</td>\n",
       "    </tr>\n",
       "    <tr>\n",
       "      <th>2</th>\n",
       "      <td>19697</td>\n",
       "      <td>1</td>\n",
       "    </tr>\n",
       "    <tr>\n",
       "      <th>3</th>\n",
       "      <td>49296</td>\n",
       "      <td>3</td>\n",
       "    </tr>\n",
       "    <tr>\n",
       "      <th>4</th>\n",
       "      <td>11784</td>\n",
       "      <td>1</td>\n",
       "    </tr>\n",
       "    <tr>\n",
       "      <th>...</th>\n",
       "      <td>...</td>\n",
       "      <td>...</td>\n",
       "    </tr>\n",
       "    <tr>\n",
       "      <th>1166</th>\n",
       "      <td>47454</td>\n",
       "      <td>1</td>\n",
       "    </tr>\n",
       "    <tr>\n",
       "      <th>1167</th>\n",
       "      <td>214788</td>\n",
       "      <td>1</td>\n",
       "    </tr>\n",
       "    <tr>\n",
       "      <th>1168</th>\n",
       "      <td>122190</td>\n",
       "      <td>1</td>\n",
       "    </tr>\n",
       "    <tr>\n",
       "      <th>1169</th>\n",
       "      <td>19610</td>\n",
       "      <td>1</td>\n",
       "    </tr>\n",
       "    <tr>\n",
       "      <th>1170</th>\n",
       "      <td>15658</td>\n",
       "      <td>3</td>\n",
       "    </tr>\n",
       "  </tbody>\n",
       "</table>\n",
       "<p>1171 rows × 2 columns</p>\n",
       "</div>"
      ],
      "text/plain": [
       "      MessageId  Suspicious_Level\n",
       "0        168641                 1\n",
       "1         36569                 1\n",
       "2         19697                 1\n",
       "3         49296                 3\n",
       "4         11784                 1\n",
       "...         ...               ...\n",
       "1166      47454                 1\n",
       "1167     214788                 1\n",
       "1168     122190                 1\n",
       "1169      19610                 1\n",
       "1170      15658                 3\n",
       "\n",
       "[1171 rows x 2 columns]"
      ]
     },
     "execution_count": 109,
     "metadata": {},
     "output_type": "execute_result"
    }
   ],
   "source": [
    "submission = test[[\"MessageId\", \"Suspicious_Level\"]]\n",
    "submission"
   ]
  },
  {
   "cell_type": "code",
   "execution_count": 112,
   "id": "4c2fad36-5104-475b-ba72-80737a06ae29",
   "metadata": {
    "tags": []
   },
   "outputs": [],
   "source": [
    "submission.to_csv(\"../datasets/multinominal_submission_fail.csv\", index=False)"
   ]
  },
  {
   "cell_type": "code",
   "execution_count": 113,
   "id": "bb790c57-dd6a-471e-bb3c-775baabe62ee",
   "metadata": {
    "tags": []
   },
   "outputs": [
    {
     "data": {
      "text/plain": [
       "Suspicious_Level\n",
       "3    101\n",
       "1     85\n",
       "2     74\n",
       "Name: count, dtype: int64"
      ]
     },
     "execution_count": 113,
     "metadata": {},
     "output_type": "execute_result"
    }
   ],
   "source": [
    "submission[\n",
    "    submission[\"Suspicious_Level\"]\n",
    "    != pd.read_csv(\"../datasets/naive_bayes_laplace_normalised.csv\")[\"Suspicious_Level\"]\n",
    "][\"Suspicious_Level\"].value_counts()"
   ]
  },
  {
   "cell_type": "markdown",
   "id": "3fe65490-2a36-45ed-ad86-67832d3170c9",
   "metadata": {
    "jp-MarkdownHeadingCollapsed": true,
    "tags": []
   },
   "source": [
    "## Additional"
   ]
  },
  {
   "cell_type": "code",
   "execution_count": 253,
   "id": "cfe7ddf2-2ad5-4920-897d-72f6195e5fd2",
   "metadata": {
    "tags": []
   },
   "outputs": [],
   "source": [
    "def objective(trial):\n",
    "    bag_of_words_predictor = DisinformationPredictor(\n",
    "        vectorizer=CountVectorizer(\n",
    "            analyzer=\"word\",\n",
    "            preprocessor=preprocess,\n",
    "            ngram_range=(1, 2),\n",
    "            max_features=max_features,\n",
    "        ),\n",
    "        model=LogisticRegression(\n",
    "            max_iter=10000,\n",
    "        ),\n",
    "    )\n",
    "\n",
    "    bag_of_words_encoded = bag_of_words_predictor.fit_encode(X)\n",
    "    bag_of_words_encoded\n",
    "\n",
    "    return bag_of_words_predictor.validate(embeddings, y)[\"test_f1_macro\"]"
   ]
  },
  {
   "cell_type": "code",
   "execution_count": 251,
   "id": "23921d6e-8d6a-448a-b00a-07c4dba089f9",
   "metadata": {
    "tags": []
   },
   "outputs": [],
   "source": [
    "def tune():\n",
    "    # 1. Pruner\n",
    "    pruner = SuccessiveHalvingPruner(\n",
    "        min_resource=1, reduction_factor=2, min_early_stopping_rate=0\n",
    "    )\n",
    "\n",
    "    # 2. Create a Study Object\n",
    "    study = optuna.create_study(pruner=pruner, direction=\"maximize\")\n",
    "\n",
    "    # 3. Run the Optimization Process\n",
    "    study.optimize(objective, n_trials=100)  # You can adjust the number of trials\n",
    "\n",
    "    # Print best hyperparameters and corresponding F1 score\n",
    "    print(\"Best trial:\")\n",
    "    trial = study.best_trial\n",
    "    print(f\"Value: {trial.value}\")\n",
    "    print(\"Params: \")\n",
    "    for key, value in trial.params.items():\n",
    "        print(f\"    {key}: {value}\")\n",
    "\n",
    "    return study, trial.params"
   ]
  },
  {
   "cell_type": "code",
   "execution_count": 252,
   "id": "69cbe792-7abf-4104-a5ae-f79a25e26ae4",
   "metadata": {
    "collapsed": true,
    "jupyter": {
     "outputs_hidden": true
    },
    "tags": []
   },
   "outputs": [
    {
     "name": "stderr",
     "output_type": "stream",
     "text": [
      "[I 2023-11-19 00:35:31,111] A new study created in memory with name: no-name-fa3a576b-ca21-4d1f-b4ee-e1e9849fe01c\n",
      "[I 2023-11-19 00:35:31,583] Trial 0 finished with value: 0.4011435718752792 and parameters: {'max_features': 693}. Best is trial 0 with value: 0.4011435718752792.\n",
      "[I 2023-11-19 00:35:32,013] Trial 1 finished with value: 0.4011435718752792 and parameters: {'max_features': 173}. Best is trial 0 with value: 0.4011435718752792.\n",
      "[I 2023-11-19 00:35:32,443] Trial 2 finished with value: 0.4011435718752792 and parameters: {'max_features': 771}. Best is trial 0 with value: 0.4011435718752792.\n",
      "[I 2023-11-19 00:35:32,875] Trial 3 finished with value: 0.4011435718752792 and parameters: {'max_features': 868}. Best is trial 0 with value: 0.4011435718752792.\n",
      "[I 2023-11-19 00:35:33,306] Trial 4 finished with value: 0.4011435718752792 and parameters: {'max_features': 364}. Best is trial 0 with value: 0.4011435718752792.\n",
      "[I 2023-11-19 00:35:33,737] Trial 5 finished with value: 0.4011435718752792 and parameters: {'max_features': 443}. Best is trial 0 with value: 0.4011435718752792.\n",
      "[I 2023-11-19 00:35:34,181] Trial 6 finished with value: 0.4011435718752792 and parameters: {'max_features': 178}. Best is trial 0 with value: 0.4011435718752792.\n",
      "[I 2023-11-19 00:35:34,614] Trial 7 finished with value: 0.4011435718752792 and parameters: {'max_features': 536}. Best is trial 0 with value: 0.4011435718752792.\n",
      "[I 2023-11-19 00:35:35,044] Trial 8 finished with value: 0.4011435718752792 and parameters: {'max_features': 934}. Best is trial 0 with value: 0.4011435718752792.\n",
      "[I 2023-11-19 00:35:35,475] Trial 9 finished with value: 0.4011435718752792 and parameters: {'max_features': 900}. Best is trial 0 with value: 0.4011435718752792.\n",
      "[I 2023-11-19 00:35:35,907] Trial 10 finished with value: 0.4011435718752792 and parameters: {'max_features': 685}. Best is trial 0 with value: 0.4011435718752792.\n",
      "[I 2023-11-19 00:35:36,341] Trial 11 finished with value: 0.4011435718752792 and parameters: {'max_features': 148}. Best is trial 0 with value: 0.4011435718752792.\n",
      "[I 2023-11-19 00:35:36,775] Trial 12 finished with value: 0.4011435718752792 and parameters: {'max_features': 651}. Best is trial 0 with value: 0.4011435718752792.\n",
      "[I 2023-11-19 00:35:37,208] Trial 13 finished with value: 0.4011435718752792 and parameters: {'max_features': 284}. Best is trial 0 with value: 0.4011435718752792.\n",
      "[I 2023-11-19 00:35:37,643] Trial 14 finished with value: 0.4011435718752792 and parameters: {'max_features': 524}. Best is trial 0 with value: 0.4011435718752792.\n",
      "[I 2023-11-19 00:35:38,097] Trial 15 finished with value: 0.4011435718752792 and parameters: {'max_features': 662}. Best is trial 0 with value: 0.4011435718752792.\n",
      "[I 2023-11-19 00:35:38,538] Trial 16 finished with value: 0.4011435718752792 and parameters: {'max_features': 289}. Best is trial 0 with value: 0.4011435718752792.\n",
      "[I 2023-11-19 00:35:38,974] Trial 17 finished with value: 0.4011435718752792 and parameters: {'max_features': 780}. Best is trial 0 with value: 0.4011435718752792.\n",
      "[I 2023-11-19 00:35:39,441] Trial 18 finished with value: 0.4011435718752792 and parameters: {'max_features': 452}. Best is trial 0 with value: 0.4011435718752792.\n",
      "[I 2023-11-19 00:35:39,927] Trial 19 finished with value: 0.4011435718752792 and parameters: {'max_features': 604}. Best is trial 0 with value: 0.4011435718752792.\n",
      "[I 2023-11-19 00:35:40,366] Trial 20 finished with value: 0.4011435718752792 and parameters: {'max_features': 995}. Best is trial 0 with value: 0.4011435718752792.\n",
      "[I 2023-11-19 00:35:40,806] Trial 21 finished with value: 0.4011435718752792 and parameters: {'max_features': 775}. Best is trial 0 with value: 0.4011435718752792.\n",
      "[I 2023-11-19 00:35:41,255] Trial 22 finished with value: 0.4011435718752792 and parameters: {'max_features': 780}. Best is trial 0 with value: 0.4011435718752792.\n",
      "[I 2023-11-19 00:35:41,697] Trial 23 finished with value: 0.4011435718752792 and parameters: {'max_features': 719}. Best is trial 0 with value: 0.4011435718752792.\n",
      "[I 2023-11-19 00:35:42,136] Trial 24 finished with value: 0.4011435718752792 and parameters: {'max_features': 830}. Best is trial 0 with value: 0.4011435718752792.\n",
      "[I 2023-11-19 00:35:42,592] Trial 25 finished with value: 0.4011435718752792 and parameters: {'max_features': 609}. Best is trial 0 with value: 0.4011435718752792.\n",
      "[I 2023-11-19 00:35:43,041] Trial 26 finished with value: 0.4011435718752792 and parameters: {'max_features': 450}. Best is trial 0 with value: 0.4011435718752792.\n",
      "[I 2023-11-19 00:35:43,483] Trial 27 finished with value: 0.4011435718752792 and parameters: {'max_features': 730}. Best is trial 0 with value: 0.4011435718752792.\n",
      "[I 2023-11-19 00:35:43,928] Trial 28 finished with value: 0.4011435718752792 and parameters: {'max_features': 228}. Best is trial 0 with value: 0.4011435718752792.\n",
      "[I 2023-11-19 00:35:44,365] Trial 29 finished with value: 0.4011435718752792 and parameters: {'max_features': 828}. Best is trial 0 with value: 0.4011435718752792.\n",
      "[I 2023-11-19 00:35:44,806] Trial 30 finished with value: 0.4011435718752792 and parameters: {'max_features': 108}. Best is trial 0 with value: 0.4011435718752792.\n",
      "[I 2023-11-19 00:35:45,245] Trial 31 finished with value: 0.4011435718752792 and parameters: {'max_features': 889}. Best is trial 0 with value: 0.4011435718752792.\n",
      "[I 2023-11-19 00:35:45,688] Trial 32 finished with value: 0.4011435718752792 and parameters: {'max_features': 856}. Best is trial 0 with value: 0.4011435718752792.\n",
      "[I 2023-11-19 00:35:46,129] Trial 33 finished with value: 0.4011435718752792 and parameters: {'max_features': 974}. Best is trial 0 with value: 0.4011435718752792.\n",
      "[W 2023-11-19 00:35:46,210] Trial 34 failed with parameters: {'max_features': 368} because of the following error: KeyboardInterrupt().\n",
      "Traceback (most recent call last):\n",
      "  File \"/opt/homebrew/Caskroom/miniconda/base/envs/ai-house-disinformation-detection/lib/python3.10/site-packages/optuna/study/_optimize.py\", line 200, in _run_trial\n",
      "    value_or_values = func(trial)\n",
      "  File \"/var/folders/sz/v3_t6bcs4d181khybwcyf3240000gp/T/ipykernel_50216/3408254570.py\", line 16, in objective\n",
      "    bag_of_words_encoded = bag_of_words_predictor.fit_encode(X)\n",
      "  File \"/var/folders/sz/v3_t6bcs4d181khybwcyf3240000gp/T/ipykernel_50216/2692721007.py\", line 17, in fit_encode\n",
      "    return self.vectorizer.fit_transform(X)\n",
      "  File \"/opt/homebrew/Caskroom/miniconda/base/envs/ai-house-disinformation-detection/lib/python3.10/site-packages/sklearn/base.py\", line 1152, in wrapper\n",
      "    return fit_method(estimator, *args, **kwargs)\n",
      "  File \"/opt/homebrew/Caskroom/miniconda/base/envs/ai-house-disinformation-detection/lib/python3.10/site-packages/sklearn/feature_extraction/text.py\", line 1389, in fit_transform\n",
      "    vocabulary, X = self._count_vocab(raw_documents, self.fixed_vocabulary_)\n",
      "  File \"/opt/homebrew/Caskroom/miniconda/base/envs/ai-house-disinformation-detection/lib/python3.10/site-packages/sklearn/feature_extraction/text.py\", line 1276, in _count_vocab\n",
      "    for feature in analyze(doc):\n",
      "  File \"/opt/homebrew/Caskroom/miniconda/base/envs/ai-house-disinformation-detection/lib/python3.10/site-packages/sklearn/feature_extraction/text.py\", line 110, in _analyze\n",
      "    doc = preprocessor(doc)\n",
      "  File \"/var/folders/sz/v3_t6bcs4d181khybwcyf3240000gp/T/ipykernel_50216/713195109.py\", line 13, in preprocess\n",
      "    res = remove_stop_words(text, join_back)\n",
      "  File \"/var/folders/sz/v3_t6bcs4d181khybwcyf3240000gp/T/ipykernel_50216/713195109.py\", line 5, in remove_stop_words\n",
      "    if token not in stop_words and token.isalpha():\n",
      "KeyboardInterrupt\n",
      "[W 2023-11-19 00:35:46,211] Trial 34 failed with value None.\n"
     ]
    },
    {
     "ename": "KeyboardInterrupt",
     "evalue": "",
     "output_type": "error",
     "traceback": [
      "\u001b[0;31m---------------------------------------------------------------------------\u001b[0m",
      "\u001b[0;31mKeyboardInterrupt\u001b[0m                         Traceback (most recent call last)",
      "Cell \u001b[0;32mIn[252], line 1\u001b[0m\n\u001b[0;32m----> 1\u001b[0m study, params \u001b[38;5;241m=\u001b[39m \u001b[43mtune\u001b[49m\u001b[43m(\u001b[49m\u001b[43m)\u001b[49m\n",
      "Cell \u001b[0;32mIn[251], line 11\u001b[0m, in \u001b[0;36mtune\u001b[0;34m()\u001b[0m\n\u001b[1;32m      8\u001b[0m study \u001b[38;5;241m=\u001b[39m optuna\u001b[38;5;241m.\u001b[39mcreate_study(pruner\u001b[38;5;241m=\u001b[39mpruner, direction\u001b[38;5;241m=\u001b[39m\u001b[38;5;124m\"\u001b[39m\u001b[38;5;124mmaximize\u001b[39m\u001b[38;5;124m\"\u001b[39m)\n\u001b[1;32m     10\u001b[0m \u001b[38;5;66;03m# 3. Run the Optimization Process\u001b[39;00m\n\u001b[0;32m---> 11\u001b[0m \u001b[43mstudy\u001b[49m\u001b[38;5;241;43m.\u001b[39;49m\u001b[43moptimize\u001b[49m\u001b[43m(\u001b[49m\u001b[43mobjective\u001b[49m\u001b[43m,\u001b[49m\u001b[43m \u001b[49m\u001b[43mn_trials\u001b[49m\u001b[38;5;241;43m=\u001b[39;49m\u001b[38;5;241;43m100\u001b[39;49m\u001b[43m)\u001b[49m  \u001b[38;5;66;03m# You can adjust the number of trials\u001b[39;00m\n\u001b[1;32m     13\u001b[0m \u001b[38;5;66;03m# Print best hyperparameters and corresponding F1 score\u001b[39;00m\n\u001b[1;32m     14\u001b[0m \u001b[38;5;28mprint\u001b[39m(\u001b[38;5;124m\"\u001b[39m\u001b[38;5;124mBest trial:\u001b[39m\u001b[38;5;124m\"\u001b[39m)\n",
      "File \u001b[0;32m/opt/homebrew/Caskroom/miniconda/base/envs/ai-house-disinformation-detection/lib/python3.10/site-packages/optuna/study/study.py:451\u001b[0m, in \u001b[0;36mStudy.optimize\u001b[0;34m(self, func, n_trials, timeout, n_jobs, catch, callbacks, gc_after_trial, show_progress_bar)\u001b[0m\n\u001b[1;32m    348\u001b[0m \u001b[38;5;28;01mdef\u001b[39;00m \u001b[38;5;21moptimize\u001b[39m(\n\u001b[1;32m    349\u001b[0m     \u001b[38;5;28mself\u001b[39m,\n\u001b[1;32m    350\u001b[0m     func: ObjectiveFuncType,\n\u001b[0;32m   (...)\u001b[0m\n\u001b[1;32m    357\u001b[0m     show_progress_bar: \u001b[38;5;28mbool\u001b[39m \u001b[38;5;241m=\u001b[39m \u001b[38;5;28;01mFalse\u001b[39;00m,\n\u001b[1;32m    358\u001b[0m ) \u001b[38;5;241m-\u001b[39m\u001b[38;5;241m>\u001b[39m \u001b[38;5;28;01mNone\u001b[39;00m:\n\u001b[1;32m    359\u001b[0m \u001b[38;5;250m    \u001b[39m\u001b[38;5;124;03m\"\"\"Optimize an objective function.\u001b[39;00m\n\u001b[1;32m    360\u001b[0m \n\u001b[1;32m    361\u001b[0m \u001b[38;5;124;03m    Optimization is done by choosing a suitable set of hyperparameter values from a given\u001b[39;00m\n\u001b[0;32m   (...)\u001b[0m\n\u001b[1;32m    449\u001b[0m \u001b[38;5;124;03m            If nested invocation of this method occurs.\u001b[39;00m\n\u001b[1;32m    450\u001b[0m \u001b[38;5;124;03m    \"\"\"\u001b[39;00m\n\u001b[0;32m--> 451\u001b[0m     \u001b[43m_optimize\u001b[49m\u001b[43m(\u001b[49m\n\u001b[1;32m    452\u001b[0m \u001b[43m        \u001b[49m\u001b[43mstudy\u001b[49m\u001b[38;5;241;43m=\u001b[39;49m\u001b[38;5;28;43mself\u001b[39;49m\u001b[43m,\u001b[49m\n\u001b[1;32m    453\u001b[0m \u001b[43m        \u001b[49m\u001b[43mfunc\u001b[49m\u001b[38;5;241;43m=\u001b[39;49m\u001b[43mfunc\u001b[49m\u001b[43m,\u001b[49m\n\u001b[1;32m    454\u001b[0m \u001b[43m        \u001b[49m\u001b[43mn_trials\u001b[49m\u001b[38;5;241;43m=\u001b[39;49m\u001b[43mn_trials\u001b[49m\u001b[43m,\u001b[49m\n\u001b[1;32m    455\u001b[0m \u001b[43m        \u001b[49m\u001b[43mtimeout\u001b[49m\u001b[38;5;241;43m=\u001b[39;49m\u001b[43mtimeout\u001b[49m\u001b[43m,\u001b[49m\n\u001b[1;32m    456\u001b[0m \u001b[43m        \u001b[49m\u001b[43mn_jobs\u001b[49m\u001b[38;5;241;43m=\u001b[39;49m\u001b[43mn_jobs\u001b[49m\u001b[43m,\u001b[49m\n\u001b[1;32m    457\u001b[0m \u001b[43m        \u001b[49m\u001b[43mcatch\u001b[49m\u001b[38;5;241;43m=\u001b[39;49m\u001b[38;5;28;43mtuple\u001b[39;49m\u001b[43m(\u001b[49m\u001b[43mcatch\u001b[49m\u001b[43m)\u001b[49m\u001b[43m \u001b[49m\u001b[38;5;28;43;01mif\u001b[39;49;00m\u001b[43m \u001b[49m\u001b[38;5;28;43misinstance\u001b[39;49m\u001b[43m(\u001b[49m\u001b[43mcatch\u001b[49m\u001b[43m,\u001b[49m\u001b[43m \u001b[49m\u001b[43mIterable\u001b[49m\u001b[43m)\u001b[49m\u001b[43m \u001b[49m\u001b[38;5;28;43;01melse\u001b[39;49;00m\u001b[43m \u001b[49m\u001b[43m(\u001b[49m\u001b[43mcatch\u001b[49m\u001b[43m,\u001b[49m\u001b[43m)\u001b[49m\u001b[43m,\u001b[49m\n\u001b[1;32m    458\u001b[0m \u001b[43m        \u001b[49m\u001b[43mcallbacks\u001b[49m\u001b[38;5;241;43m=\u001b[39;49m\u001b[43mcallbacks\u001b[49m\u001b[43m,\u001b[49m\n\u001b[1;32m    459\u001b[0m \u001b[43m        \u001b[49m\u001b[43mgc_after_trial\u001b[49m\u001b[38;5;241;43m=\u001b[39;49m\u001b[43mgc_after_trial\u001b[49m\u001b[43m,\u001b[49m\n\u001b[1;32m    460\u001b[0m \u001b[43m        \u001b[49m\u001b[43mshow_progress_bar\u001b[49m\u001b[38;5;241;43m=\u001b[39;49m\u001b[43mshow_progress_bar\u001b[49m\u001b[43m,\u001b[49m\n\u001b[1;32m    461\u001b[0m \u001b[43m    \u001b[49m\u001b[43m)\u001b[49m\n",
      "File \u001b[0;32m/opt/homebrew/Caskroom/miniconda/base/envs/ai-house-disinformation-detection/lib/python3.10/site-packages/optuna/study/_optimize.py:66\u001b[0m, in \u001b[0;36m_optimize\u001b[0;34m(study, func, n_trials, timeout, n_jobs, catch, callbacks, gc_after_trial, show_progress_bar)\u001b[0m\n\u001b[1;32m     64\u001b[0m \u001b[38;5;28;01mtry\u001b[39;00m:\n\u001b[1;32m     65\u001b[0m     \u001b[38;5;28;01mif\u001b[39;00m n_jobs \u001b[38;5;241m==\u001b[39m \u001b[38;5;241m1\u001b[39m:\n\u001b[0;32m---> 66\u001b[0m         \u001b[43m_optimize_sequential\u001b[49m\u001b[43m(\u001b[49m\n\u001b[1;32m     67\u001b[0m \u001b[43m            \u001b[49m\u001b[43mstudy\u001b[49m\u001b[43m,\u001b[49m\n\u001b[1;32m     68\u001b[0m \u001b[43m            \u001b[49m\u001b[43mfunc\u001b[49m\u001b[43m,\u001b[49m\n\u001b[1;32m     69\u001b[0m \u001b[43m            \u001b[49m\u001b[43mn_trials\u001b[49m\u001b[43m,\u001b[49m\n\u001b[1;32m     70\u001b[0m \u001b[43m            \u001b[49m\u001b[43mtimeout\u001b[49m\u001b[43m,\u001b[49m\n\u001b[1;32m     71\u001b[0m \u001b[43m            \u001b[49m\u001b[43mcatch\u001b[49m\u001b[43m,\u001b[49m\n\u001b[1;32m     72\u001b[0m \u001b[43m            \u001b[49m\u001b[43mcallbacks\u001b[49m\u001b[43m,\u001b[49m\n\u001b[1;32m     73\u001b[0m \u001b[43m            \u001b[49m\u001b[43mgc_after_trial\u001b[49m\u001b[43m,\u001b[49m\n\u001b[1;32m     74\u001b[0m \u001b[43m            \u001b[49m\u001b[43mreseed_sampler_rng\u001b[49m\u001b[38;5;241;43m=\u001b[39;49m\u001b[38;5;28;43;01mFalse\u001b[39;49;00m\u001b[43m,\u001b[49m\n\u001b[1;32m     75\u001b[0m \u001b[43m            \u001b[49m\u001b[43mtime_start\u001b[49m\u001b[38;5;241;43m=\u001b[39;49m\u001b[38;5;28;43;01mNone\u001b[39;49;00m\u001b[43m,\u001b[49m\n\u001b[1;32m     76\u001b[0m \u001b[43m            \u001b[49m\u001b[43mprogress_bar\u001b[49m\u001b[38;5;241;43m=\u001b[39;49m\u001b[43mprogress_bar\u001b[49m\u001b[43m,\u001b[49m\n\u001b[1;32m     77\u001b[0m \u001b[43m        \u001b[49m\u001b[43m)\u001b[49m\n\u001b[1;32m     78\u001b[0m     \u001b[38;5;28;01melse\u001b[39;00m:\n\u001b[1;32m     79\u001b[0m         \u001b[38;5;28;01mif\u001b[39;00m n_jobs \u001b[38;5;241m==\u001b[39m \u001b[38;5;241m-\u001b[39m\u001b[38;5;241m1\u001b[39m:\n",
      "File \u001b[0;32m/opt/homebrew/Caskroom/miniconda/base/envs/ai-house-disinformation-detection/lib/python3.10/site-packages/optuna/study/_optimize.py:163\u001b[0m, in \u001b[0;36m_optimize_sequential\u001b[0;34m(study, func, n_trials, timeout, catch, callbacks, gc_after_trial, reseed_sampler_rng, time_start, progress_bar)\u001b[0m\n\u001b[1;32m    160\u001b[0m         \u001b[38;5;28;01mbreak\u001b[39;00m\n\u001b[1;32m    162\u001b[0m \u001b[38;5;28;01mtry\u001b[39;00m:\n\u001b[0;32m--> 163\u001b[0m     frozen_trial \u001b[38;5;241m=\u001b[39m \u001b[43m_run_trial\u001b[49m\u001b[43m(\u001b[49m\u001b[43mstudy\u001b[49m\u001b[43m,\u001b[49m\u001b[43m \u001b[49m\u001b[43mfunc\u001b[49m\u001b[43m,\u001b[49m\u001b[43m \u001b[49m\u001b[43mcatch\u001b[49m\u001b[43m)\u001b[49m\n\u001b[1;32m    164\u001b[0m \u001b[38;5;28;01mfinally\u001b[39;00m:\n\u001b[1;32m    165\u001b[0m     \u001b[38;5;66;03m# The following line mitigates memory problems that can be occurred in some\u001b[39;00m\n\u001b[1;32m    166\u001b[0m     \u001b[38;5;66;03m# environments (e.g., services that use computing containers such as GitHub Actions).\u001b[39;00m\n\u001b[1;32m    167\u001b[0m     \u001b[38;5;66;03m# Please refer to the following PR for further details:\u001b[39;00m\n\u001b[1;32m    168\u001b[0m     \u001b[38;5;66;03m# https://github.com/optuna/optuna/pull/325.\u001b[39;00m\n\u001b[1;32m    169\u001b[0m     \u001b[38;5;28;01mif\u001b[39;00m gc_after_trial:\n",
      "File \u001b[0;32m/opt/homebrew/Caskroom/miniconda/base/envs/ai-house-disinformation-detection/lib/python3.10/site-packages/optuna/study/_optimize.py:251\u001b[0m, in \u001b[0;36m_run_trial\u001b[0;34m(study, func, catch)\u001b[0m\n\u001b[1;32m    244\u001b[0m         \u001b[38;5;28;01massert\u001b[39;00m \u001b[38;5;28;01mFalse\u001b[39;00m, \u001b[38;5;124m\"\u001b[39m\u001b[38;5;124mShould not reach.\u001b[39m\u001b[38;5;124m\"\u001b[39m\n\u001b[1;32m    246\u001b[0m \u001b[38;5;28;01mif\u001b[39;00m (\n\u001b[1;32m    247\u001b[0m     frozen_trial\u001b[38;5;241m.\u001b[39mstate \u001b[38;5;241m==\u001b[39m TrialState\u001b[38;5;241m.\u001b[39mFAIL\n\u001b[1;32m    248\u001b[0m     \u001b[38;5;129;01mand\u001b[39;00m func_err \u001b[38;5;129;01mis\u001b[39;00m \u001b[38;5;129;01mnot\u001b[39;00m \u001b[38;5;28;01mNone\u001b[39;00m\n\u001b[1;32m    249\u001b[0m     \u001b[38;5;129;01mand\u001b[39;00m \u001b[38;5;129;01mnot\u001b[39;00m \u001b[38;5;28misinstance\u001b[39m(func_err, catch)\n\u001b[1;32m    250\u001b[0m ):\n\u001b[0;32m--> 251\u001b[0m     \u001b[38;5;28;01mraise\u001b[39;00m func_err\n\u001b[1;32m    252\u001b[0m \u001b[38;5;28;01mreturn\u001b[39;00m frozen_trial\n",
      "File \u001b[0;32m/opt/homebrew/Caskroom/miniconda/base/envs/ai-house-disinformation-detection/lib/python3.10/site-packages/optuna/study/_optimize.py:200\u001b[0m, in \u001b[0;36m_run_trial\u001b[0;34m(study, func, catch)\u001b[0m\n\u001b[1;32m    198\u001b[0m \u001b[38;5;28;01mwith\u001b[39;00m get_heartbeat_thread(trial\u001b[38;5;241m.\u001b[39m_trial_id, study\u001b[38;5;241m.\u001b[39m_storage):\n\u001b[1;32m    199\u001b[0m     \u001b[38;5;28;01mtry\u001b[39;00m:\n\u001b[0;32m--> 200\u001b[0m         value_or_values \u001b[38;5;241m=\u001b[39m \u001b[43mfunc\u001b[49m\u001b[43m(\u001b[49m\u001b[43mtrial\u001b[49m\u001b[43m)\u001b[49m\n\u001b[1;32m    201\u001b[0m     \u001b[38;5;28;01mexcept\u001b[39;00m exceptions\u001b[38;5;241m.\u001b[39mTrialPruned \u001b[38;5;28;01mas\u001b[39;00m e:\n\u001b[1;32m    202\u001b[0m         \u001b[38;5;66;03m# TODO(mamu): Handle multi-objective cases.\u001b[39;00m\n\u001b[1;32m    203\u001b[0m         state \u001b[38;5;241m=\u001b[39m TrialState\u001b[38;5;241m.\u001b[39mPRUNED\n",
      "Cell \u001b[0;32mIn[250], line 16\u001b[0m, in \u001b[0;36mobjective\u001b[0;34m(trial)\u001b[0m\n\u001b[1;32m      2\u001b[0m max_features \u001b[38;5;241m=\u001b[39m trial\u001b[38;5;241m.\u001b[39msuggest_int(\u001b[38;5;124m\"\u001b[39m\u001b[38;5;124mmax_features\u001b[39m\u001b[38;5;124m\"\u001b[39m, \u001b[38;5;241m100\u001b[39m, \u001b[38;5;241m1000\u001b[39m)\n\u001b[1;32m      4\u001b[0m bag_of_words_predictor \u001b[38;5;241m=\u001b[39m DisinformationPredictor(\n\u001b[1;32m      5\u001b[0m     vectorizer\u001b[38;5;241m=\u001b[39mCountVectorizer(\n\u001b[1;32m      6\u001b[0m         analyzer\u001b[38;5;241m=\u001b[39m\u001b[38;5;124m\"\u001b[39m\u001b[38;5;124mword\u001b[39m\u001b[38;5;124m\"\u001b[39m,\n\u001b[0;32m   (...)\u001b[0m\n\u001b[1;32m     13\u001b[0m     ),\n\u001b[1;32m     14\u001b[0m )\n\u001b[0;32m---> 16\u001b[0m bag_of_words_encoded \u001b[38;5;241m=\u001b[39m \u001b[43mbag_of_words_predictor\u001b[49m\u001b[38;5;241;43m.\u001b[39;49m\u001b[43mfit_encode\u001b[49m\u001b[43m(\u001b[49m\u001b[43mX\u001b[49m\u001b[43m)\u001b[49m\n\u001b[1;32m     17\u001b[0m bag_of_words_encoded\n\u001b[1;32m     19\u001b[0m \u001b[38;5;28;01mreturn\u001b[39;00m bag_of_words_predictor\u001b[38;5;241m.\u001b[39mvalidate(embeddings, y)[\u001b[38;5;124m\"\u001b[39m\u001b[38;5;124mtest_f1_macro\u001b[39m\u001b[38;5;124m\"\u001b[39m]\n",
      "Cell \u001b[0;32mIn[207], line 17\u001b[0m, in \u001b[0;36mDisinformationPredictor.fit_encode\u001b[0;34m(self, X)\u001b[0m\n\u001b[1;32m     16\u001b[0m \u001b[38;5;28;01mdef\u001b[39;00m \u001b[38;5;21mfit_encode\u001b[39m(\u001b[38;5;28mself\u001b[39m, X):\n\u001b[0;32m---> 17\u001b[0m     \u001b[38;5;28;01mreturn\u001b[39;00m \u001b[38;5;28;43mself\u001b[39;49m\u001b[38;5;241;43m.\u001b[39;49m\u001b[43mvectorizer\u001b[49m\u001b[38;5;241;43m.\u001b[39;49m\u001b[43mfit_transform\u001b[49m\u001b[43m(\u001b[49m\u001b[43mX\u001b[49m\u001b[43m)\u001b[49m\n",
      "File \u001b[0;32m/opt/homebrew/Caskroom/miniconda/base/envs/ai-house-disinformation-detection/lib/python3.10/site-packages/sklearn/base.py:1152\u001b[0m, in \u001b[0;36m_fit_context.<locals>.decorator.<locals>.wrapper\u001b[0;34m(estimator, *args, **kwargs)\u001b[0m\n\u001b[1;32m   1145\u001b[0m     estimator\u001b[38;5;241m.\u001b[39m_validate_params()\n\u001b[1;32m   1147\u001b[0m \u001b[38;5;28;01mwith\u001b[39;00m config_context(\n\u001b[1;32m   1148\u001b[0m     skip_parameter_validation\u001b[38;5;241m=\u001b[39m(\n\u001b[1;32m   1149\u001b[0m         prefer_skip_nested_validation \u001b[38;5;129;01mor\u001b[39;00m global_skip_validation\n\u001b[1;32m   1150\u001b[0m     )\n\u001b[1;32m   1151\u001b[0m ):\n\u001b[0;32m-> 1152\u001b[0m     \u001b[38;5;28;01mreturn\u001b[39;00m \u001b[43mfit_method\u001b[49m\u001b[43m(\u001b[49m\u001b[43mestimator\u001b[49m\u001b[43m,\u001b[49m\u001b[43m \u001b[49m\u001b[38;5;241;43m*\u001b[39;49m\u001b[43margs\u001b[49m\u001b[43m,\u001b[49m\u001b[43m \u001b[49m\u001b[38;5;241;43m*\u001b[39;49m\u001b[38;5;241;43m*\u001b[39;49m\u001b[43mkwargs\u001b[49m\u001b[43m)\u001b[49m\n",
      "File \u001b[0;32m/opt/homebrew/Caskroom/miniconda/base/envs/ai-house-disinformation-detection/lib/python3.10/site-packages/sklearn/feature_extraction/text.py:1389\u001b[0m, in \u001b[0;36mCountVectorizer.fit_transform\u001b[0;34m(self, raw_documents, y)\u001b[0m\n\u001b[1;32m   1381\u001b[0m             warnings\u001b[38;5;241m.\u001b[39mwarn(\n\u001b[1;32m   1382\u001b[0m                 \u001b[38;5;124m\"\u001b[39m\u001b[38;5;124mUpper case characters found in\u001b[39m\u001b[38;5;124m\"\u001b[39m\n\u001b[1;32m   1383\u001b[0m                 \u001b[38;5;124m\"\u001b[39m\u001b[38;5;124m vocabulary while \u001b[39m\u001b[38;5;124m'\u001b[39m\u001b[38;5;124mlowercase\u001b[39m\u001b[38;5;124m'\u001b[39m\u001b[38;5;124m\"\u001b[39m\n\u001b[1;32m   1384\u001b[0m                 \u001b[38;5;124m\"\u001b[39m\u001b[38;5;124m is True. These entries will not\u001b[39m\u001b[38;5;124m\"\u001b[39m\n\u001b[1;32m   1385\u001b[0m                 \u001b[38;5;124m\"\u001b[39m\u001b[38;5;124m be matched with any documents\u001b[39m\u001b[38;5;124m\"\u001b[39m\n\u001b[1;32m   1386\u001b[0m             )\n\u001b[1;32m   1387\u001b[0m             \u001b[38;5;28;01mbreak\u001b[39;00m\n\u001b[0;32m-> 1389\u001b[0m vocabulary, X \u001b[38;5;241m=\u001b[39m \u001b[38;5;28;43mself\u001b[39;49m\u001b[38;5;241;43m.\u001b[39;49m\u001b[43m_count_vocab\u001b[49m\u001b[43m(\u001b[49m\u001b[43mraw_documents\u001b[49m\u001b[43m,\u001b[49m\u001b[43m \u001b[49m\u001b[38;5;28;43mself\u001b[39;49m\u001b[38;5;241;43m.\u001b[39;49m\u001b[43mfixed_vocabulary_\u001b[49m\u001b[43m)\u001b[49m\n\u001b[1;32m   1391\u001b[0m \u001b[38;5;28;01mif\u001b[39;00m \u001b[38;5;28mself\u001b[39m\u001b[38;5;241m.\u001b[39mbinary:\n\u001b[1;32m   1392\u001b[0m     X\u001b[38;5;241m.\u001b[39mdata\u001b[38;5;241m.\u001b[39mfill(\u001b[38;5;241m1\u001b[39m)\n",
      "File \u001b[0;32m/opt/homebrew/Caskroom/miniconda/base/envs/ai-house-disinformation-detection/lib/python3.10/site-packages/sklearn/feature_extraction/text.py:1276\u001b[0m, in \u001b[0;36mCountVectorizer._count_vocab\u001b[0;34m(self, raw_documents, fixed_vocab)\u001b[0m\n\u001b[1;32m   1274\u001b[0m \u001b[38;5;28;01mfor\u001b[39;00m doc \u001b[38;5;129;01min\u001b[39;00m raw_documents:\n\u001b[1;32m   1275\u001b[0m     feature_counter \u001b[38;5;241m=\u001b[39m {}\n\u001b[0;32m-> 1276\u001b[0m     \u001b[38;5;28;01mfor\u001b[39;00m feature \u001b[38;5;129;01min\u001b[39;00m \u001b[43manalyze\u001b[49m\u001b[43m(\u001b[49m\u001b[43mdoc\u001b[49m\u001b[43m)\u001b[49m:\n\u001b[1;32m   1277\u001b[0m         \u001b[38;5;28;01mtry\u001b[39;00m:\n\u001b[1;32m   1278\u001b[0m             feature_idx \u001b[38;5;241m=\u001b[39m vocabulary[feature]\n",
      "File \u001b[0;32m/opt/homebrew/Caskroom/miniconda/base/envs/ai-house-disinformation-detection/lib/python3.10/site-packages/sklearn/feature_extraction/text.py:110\u001b[0m, in \u001b[0;36m_analyze\u001b[0;34m(doc, analyzer, tokenizer, ngrams, preprocessor, decoder, stop_words)\u001b[0m\n\u001b[1;32m    108\u001b[0m \u001b[38;5;28;01melse\u001b[39;00m:\n\u001b[1;32m    109\u001b[0m     \u001b[38;5;28;01mif\u001b[39;00m preprocessor \u001b[38;5;129;01mis\u001b[39;00m \u001b[38;5;129;01mnot\u001b[39;00m \u001b[38;5;28;01mNone\u001b[39;00m:\n\u001b[0;32m--> 110\u001b[0m         doc \u001b[38;5;241m=\u001b[39m \u001b[43mpreprocessor\u001b[49m\u001b[43m(\u001b[49m\u001b[43mdoc\u001b[49m\u001b[43m)\u001b[49m\n\u001b[1;32m    111\u001b[0m     \u001b[38;5;28;01mif\u001b[39;00m tokenizer \u001b[38;5;129;01mis\u001b[39;00m \u001b[38;5;129;01mnot\u001b[39;00m \u001b[38;5;28;01mNone\u001b[39;00m:\n\u001b[1;32m    112\u001b[0m         doc \u001b[38;5;241m=\u001b[39m tokenizer(doc)\n",
      "Cell \u001b[0;32mIn[112], line 13\u001b[0m, in \u001b[0;36mpreprocess\u001b[0;34m(text, join_back)\u001b[0m\n\u001b[1;32m     12\u001b[0m \u001b[38;5;28;01mdef\u001b[39;00m \u001b[38;5;21mpreprocess\u001b[39m(text, join_back\u001b[38;5;241m=\u001b[39m\u001b[38;5;28;01mTrue\u001b[39;00m):\n\u001b[0;32m---> 13\u001b[0m     res \u001b[38;5;241m=\u001b[39m \u001b[43mremove_stop_words\u001b[49m\u001b[43m(\u001b[49m\u001b[43mtext\u001b[49m\u001b[43m,\u001b[49m\u001b[43m \u001b[49m\u001b[43mjoin_back\u001b[49m\u001b[43m)\u001b[49m\n\u001b[1;32m     14\u001b[0m     \u001b[38;5;28;01mreturn\u001b[39;00m res\n",
      "Cell \u001b[0;32mIn[112], line 5\u001b[0m, in \u001b[0;36mremove_stop_words\u001b[0;34m(text, join_back)\u001b[0m\n\u001b[1;32m      3\u001b[0m result \u001b[38;5;241m=\u001b[39m []\n\u001b[1;32m      4\u001b[0m \u001b[38;5;28;01mfor\u001b[39;00m token \u001b[38;5;129;01min\u001b[39;00m word_tokenize(text\u001b[38;5;241m.\u001b[39mlower()):\n\u001b[0;32m----> 5\u001b[0m     \u001b[38;5;28;01mif\u001b[39;00m token \u001b[38;5;129;01mnot\u001b[39;00m \u001b[38;5;129;01min\u001b[39;00m stop_words \u001b[38;5;129;01mand\u001b[39;00m \u001b[43mtoken\u001b[49m\u001b[38;5;241;43m.\u001b[39;49m\u001b[43misalpha\u001b[49m\u001b[43m(\u001b[49m\u001b[43m)\u001b[49m:\n\u001b[1;32m      6\u001b[0m         result\u001b[38;5;241m.\u001b[39mappend(token)\n\u001b[1;32m      7\u001b[0m \u001b[38;5;28;01mif\u001b[39;00m join_back:\n",
      "\u001b[0;31mKeyboardInterrupt\u001b[0m: "
     ]
    }
   ],
   "source": [
    "study, params = tune()"
   ]
  },
  {
   "cell_type": "code",
   "execution_count": 352,
   "id": "2cea3154-e54b-41ed-91b4-d20b41d7b604",
   "metadata": {
    "tags": []
   },
   "outputs": [],
   "source": [
    "test[[0, 1, 2]] = pd.DataFrame(\n",
    "    bag_of_words_predictor.model.predict_proba(X_test_encoded)\n",
    ")"
   ]
  },
  {
   "cell_type": "code",
   "execution_count": 353,
   "id": "af1f4883-64ae-492c-bdc9-1e08f5b68f9f",
   "metadata": {
    "tags": []
   },
   "outputs": [],
   "source": [
    "test.to_csv(\"test_linear_regression.csv\", index=False)"
   ]
  },
  {
   "cell_type": "markdown",
   "id": "e1f545d5-075b-498e-ad8d-612cc692372c",
   "metadata": {},
   "source": [
    "## Unsupervised"
   ]
  },
  {
   "cell_type": "code",
   "execution_count": 175,
   "id": "3b9ac4b5-7dc0-4411-8cd3-89c870bfeba2",
   "metadata": {},
   "outputs": [],
   "source": [
    "unsupervised_data = pd.read_csv(\"../datasets/filtered_unsupervised_data2.0.csv\")"
   ]
  },
  {
   "cell_type": "code",
   "execution_count": 176,
   "id": "676575af-f3b6-45a1-af4b-91491fd3b3c8",
   "metadata": {
    "tags": []
   },
   "outputs": [
    {
     "name": "stdout",
     "output_type": "stream",
     "text": [
      "1.0\n"
     ]
    }
   ],
   "source": [
    "X_unsupervised = unsupervised_data[\"Content\"].values.astype(str)\n",
    "X_unsupervised = bag_of_words_predictor.encode(X_unsupervised)\n",
    "\n",
    "y = train[\"Suspicious_Level\"].values\n",
    "print(bag_of_words_predictor.fit(bag_of_words_encoded, y))"
   ]
  },
  {
   "cell_type": "code",
   "execution_count": 177,
   "id": "97db35b8-1777-4d04-bb58-54dc175b31b1",
   "metadata": {
    "tags": []
   },
   "outputs": [],
   "source": [
    "unsupervised_data[[0, 1, 2]] = bag_of_words_predictor.model.predict_proba(\n",
    "    X_unsupervised\n",
    ")\n",
    "unsupervised_data[\"Suspicious_Level\"] = bag_of_words_predictor.model.predict(\n",
    "    X_unsupervised\n",
    ")"
   ]
  },
  {
   "cell_type": "code",
   "execution_count": 178,
   "id": "e9de8e96-490c-45f9-8641-6b046fa95b8f",
   "metadata": {
    "tags": []
   },
   "outputs": [
    {
     "data": {
      "text/html": [
       "<div>\n",
       "<style scoped>\n",
       "    .dataframe tbody tr th:only-of-type {\n",
       "        vertical-align: middle;\n",
       "    }\n",
       "\n",
       "    .dataframe tbody tr th {\n",
       "        vertical-align: top;\n",
       "    }\n",
       "\n",
       "    .dataframe thead th {\n",
       "        text-align: right;\n",
       "    }\n",
       "</style>\n",
       "<table border=\"1\" class=\"dataframe\">\n",
       "  <thead>\n",
       "    <tr style=\"text-align: right;\">\n",
       "      <th></th>\n",
       "      <th>ChannelName</th>\n",
       "      <th>Date</th>\n",
       "      <th>Content</th>\n",
       "      <th>0</th>\n",
       "      <th>1</th>\n",
       "      <th>2</th>\n",
       "      <th>Suspicious_Level</th>\n",
       "    </tr>\n",
       "  </thead>\n",
       "  <tbody>\n",
       "    <tr>\n",
       "      <th>154</th>\n",
       "      <td>zpnewsru</td>\n",
       "      <td>2023-10-01 09:07:22.000</td>\n",
       "      <td>Балицкий поздравил военнослужащих с Днем сухоп...</td>\n",
       "      <td>0.968080</td>\n",
       "      <td>0.019237</td>\n",
       "      <td>0.012683</td>\n",
       "      <td>1</td>\n",
       "    </tr>\n",
       "    <tr>\n",
       "      <th>161</th>\n",
       "      <td>zpnewsru</td>\n",
       "      <td>2023-10-01 08:35:20.000</td>\n",
       "      <td>Балицкий: Бойцы сухопутных войск дают отпор ог...</td>\n",
       "      <td>0.967809</td>\n",
       "      <td>0.013144</td>\n",
       "      <td>0.019046</td>\n",
       "      <td>1</td>\n",
       "    </tr>\n",
       "    <tr>\n",
       "      <th>282</th>\n",
       "      <td>crossnews_ru</td>\n",
       "      <td>2023-10-01 07:15:12.000</td>\n",
       "      <td>Великое национальное собрание (парламент) Турц...</td>\n",
       "      <td>0.972306</td>\n",
       "      <td>0.019685</td>\n",
       "      <td>0.008009</td>\n",
       "      <td>1</td>\n",
       "    </tr>\n",
       "    <tr>\n",
       "      <th>825</th>\n",
       "      <td>vesticrimea</td>\n",
       "      <td>2023-10-01 07:44:07.000</td>\n",
       "      <td>❗️ Над Джанкоем сбили ракету, сообщил глава Кр...</td>\n",
       "      <td>0.959174</td>\n",
       "      <td>0.023008</td>\n",
       "      <td>0.017818</td>\n",
       "      <td>1</td>\n",
       "    </tr>\n",
       "    <tr>\n",
       "      <th>928</th>\n",
       "      <td>rt_ru_news</td>\n",
       "      <td>2023-10-01 09:43:13.000</td>\n",
       "      <td>Эрдоган назвал взрыв около здания МВД Турции «...</td>\n",
       "      <td>0.985001</td>\n",
       "      <td>0.010422</td>\n",
       "      <td>0.004577</td>\n",
       "      <td>1</td>\n",
       "    </tr>\n",
       "    <tr>\n",
       "      <th>...</th>\n",
       "      <td>...</td>\n",
       "      <td>...</td>\n",
       "      <td>...</td>\n",
       "      <td>...</td>\n",
       "      <td>...</td>\n",
       "      <td>...</td>\n",
       "      <td>...</td>\n",
       "    </tr>\n",
       "    <tr>\n",
       "      <th>79195</th>\n",
       "      <td>zspecialnews</td>\n",
       "      <td>2023-10-26 13:16:01.000</td>\n",
       "      <td>\"Иксоводы\" 336 гвардейской бригады морской пех...</td>\n",
       "      <td>0.087213</td>\n",
       "      <td>0.869853</td>\n",
       "      <td>0.042934</td>\n",
       "      <td>2</td>\n",
       "    </tr>\n",
       "    <tr>\n",
       "      <th>79209</th>\n",
       "      <td>bfmnews</td>\n",
       "      <td>2023-10-26 14:07:08.000</td>\n",
       "      <td>В Кремле заявили, что тренировка стратегически...</td>\n",
       "      <td>0.966073</td>\n",
       "      <td>0.014463</td>\n",
       "      <td>0.019464</td>\n",
       "      <td>1</td>\n",
       "    </tr>\n",
       "    <tr>\n",
       "      <th>79311</th>\n",
       "      <td>russiancanadiannews</td>\n",
       "      <td>2023-10-26 12:41:38.000</td>\n",
       "      <td>‼️🇷🇺Героические кадры: наш разведчик при штурм...</td>\n",
       "      <td>0.079456</td>\n",
       "      <td>0.894481</td>\n",
       "      <td>0.026063</td>\n",
       "      <td>2</td>\n",
       "    </tr>\n",
       "    <tr>\n",
       "      <th>80671</th>\n",
       "      <td>rgrunews</td>\n",
       "      <td>2023-10-27 11:03:02.000</td>\n",
       "      <td>\"Это - вопрос, быть нашей стране или не быть\"\\...</td>\n",
       "      <td>0.952632</td>\n",
       "      <td>0.023009</td>\n",
       "      <td>0.024359</td>\n",
       "      <td>1</td>\n",
       "    </tr>\n",
       "    <tr>\n",
       "      <th>81042</th>\n",
       "      <td>rt_ru_news</td>\n",
       "      <td>2023-10-27 03:41:46.000</td>\n",
       "      <td>Два человека пострадали в результате обстрела ...</td>\n",
       "      <td>0.952888</td>\n",
       "      <td>0.025401</td>\n",
       "      <td>0.021710</td>\n",
       "      <td>1</td>\n",
       "    </tr>\n",
       "  </tbody>\n",
       "</table>\n",
       "<p>233 rows × 7 columns</p>\n",
       "</div>"
      ],
      "text/plain": [
       "               ChannelName                     Date  \\\n",
       "154               zpnewsru  2023-10-01 09:07:22.000   \n",
       "161               zpnewsru  2023-10-01 08:35:20.000   \n",
       "282           crossnews_ru  2023-10-01 07:15:12.000   \n",
       "825            vesticrimea  2023-10-01 07:44:07.000   \n",
       "928             rt_ru_news  2023-10-01 09:43:13.000   \n",
       "...                    ...                      ...   \n",
       "79195         zspecialnews  2023-10-26 13:16:01.000   \n",
       "79209              bfmnews  2023-10-26 14:07:08.000   \n",
       "79311  russiancanadiannews  2023-10-26 12:41:38.000   \n",
       "80671             rgrunews  2023-10-27 11:03:02.000   \n",
       "81042           rt_ru_news  2023-10-27 03:41:46.000   \n",
       "\n",
       "                                                 Content         0         1  \\\n",
       "154    Балицкий поздравил военнослужащих с Днем сухоп...  0.968080  0.019237   \n",
       "161    Балицкий: Бойцы сухопутных войск дают отпор ог...  0.967809  0.013144   \n",
       "282    Великое национальное собрание (парламент) Турц...  0.972306  0.019685   \n",
       "825    ❗️ Над Джанкоем сбили ракету, сообщил глава Кр...  0.959174  0.023008   \n",
       "928    Эрдоган назвал взрыв около здания МВД Турции «...  0.985001  0.010422   \n",
       "...                                                  ...       ...       ...   \n",
       "79195  \"Иксоводы\" 336 гвардейской бригады морской пех...  0.087213  0.869853   \n",
       "79209  В Кремле заявили, что тренировка стратегически...  0.966073  0.014463   \n",
       "79311  ‼️🇷🇺Героические кадры: наш разведчик при штурм...  0.079456  0.894481   \n",
       "80671  \"Это - вопрос, быть нашей стране или не быть\"\\...  0.952632  0.023009   \n",
       "81042  Два человека пострадали в результате обстрела ...  0.952888  0.025401   \n",
       "\n",
       "              2  Suspicious_Level  \n",
       "154    0.012683                 1  \n",
       "161    0.019046                 1  \n",
       "282    0.008009                 1  \n",
       "825    0.017818                 1  \n",
       "928    0.004577                 1  \n",
       "...         ...               ...  \n",
       "79195  0.042934                 2  \n",
       "79209  0.019464                 1  \n",
       "79311  0.026063                 2  \n",
       "80671  0.024359                 1  \n",
       "81042  0.021710                 1  \n",
       "\n",
       "[233 rows x 7 columns]"
      ]
     },
     "execution_count": 178,
     "metadata": {},
     "output_type": "execute_result"
    }
   ],
   "source": [
    "unsupervised_data_selected = unsupervised_data[\n",
    "    (unsupervised_data[0] >= 0.95)\n",
    "    | (unsupervised_data[1] >= 0.85)\n",
    "    | (unsupervised_data[2] >= 0.7)\n",
    "]\n",
    "unsupervised_data_selected"
   ]
  },
  {
   "cell_type": "code",
   "execution_count": 16,
   "id": "fdfa9ea7-d0da-4093-9657-22bb3a961631",
   "metadata": {
    "tags": []
   },
   "outputs": [],
   "source": [
    "import pandas as pd\n",
    "import textdistance\n",
    "\n",
    "\n",
    "def similarity_ratio(str1, str2):\n",
    "    return textdistance.jaccard(str1, str2)\n",
    "\n",
    "\n",
    "def drop_similar_duplicates(df, text_column, similarity_threshold=0.9):\n",
    "    df_copy = df.copy()\n",
    "    df_copy[\"DuplicateFlag\"] = False\n",
    "\n",
    "    for i, row in tqdm(df_copy.iterrows()):\n",
    "        if not df_copy.at[i, \"DuplicateFlag\"]:\n",
    "            current_text = row[text_column]\n",
    "            df_copy[\"Similarity\"] = df_copy[text_column].apply(\n",
    "                lambda x: similarity_ratio(current_text, x)\n",
    "            )\n",
    "            duplicates = df_copy[\n",
    "                df_copy[\"Similarity\"] >= similarity_threshold\n",
    "            ].index.tolist()\n",
    "\n",
    "            # Mark duplicates as True in 'DuplicateFlag' column using loc\n",
    "            df_copy.loc[\n",
    "                duplicates[:-1], \"DuplicateFlag\"\n",
    "            ] = True  # Keep the last occurrence\n",
    "\n",
    "    # Drop rows marked as duplicates\n",
    "    df_copy = df_copy[df_copy[\"DuplicateFlag\"] == False]\n",
    "\n",
    "    # Drop the temporary columns\n",
    "    df_copy = df_copy.drop([\"DuplicateFlag\", \"Similarity\"], axis=1)\n",
    "\n",
    "    return df_copy\n",
    "\n",
    "\n",
    "# Drop duplicates based on 90% similarity\n",
    "# unsupervised_data_selected = drop_similar_duplicates(\n",
    "#     unsupervised_data_selected, \"Content\", similarity_threshold=0.8\n",
    "# )"
   ]
  },
  {
   "cell_type": "code",
   "execution_count": 180,
   "id": "9ff25d97-b5a7-44fc-a35a-4fe2f3eb6676",
   "metadata": {
    "tags": []
   },
   "outputs": [
    {
     "data": {
      "text/html": [
       "<div>\n",
       "<style scoped>\n",
       "    .dataframe tbody tr th:only-of-type {\n",
       "        vertical-align: middle;\n",
       "    }\n",
       "\n",
       "    .dataframe tbody tr th {\n",
       "        vertical-align: top;\n",
       "    }\n",
       "\n",
       "    .dataframe thead th {\n",
       "        text-align: right;\n",
       "    }\n",
       "</style>\n",
       "<table border=\"1\" class=\"dataframe\">\n",
       "  <thead>\n",
       "    <tr style=\"text-align: right;\">\n",
       "      <th></th>\n",
       "      <th>ChannelName</th>\n",
       "      <th>Date</th>\n",
       "      <th>Content</th>\n",
       "      <th>0</th>\n",
       "      <th>1</th>\n",
       "      <th>2</th>\n",
       "      <th>Suspicious_Level</th>\n",
       "    </tr>\n",
       "  </thead>\n",
       "  <tbody>\n",
       "    <tr>\n",
       "      <th>154</th>\n",
       "      <td>zpnewsru</td>\n",
       "      <td>2023-10-01 09:07:22.000</td>\n",
       "      <td>Балицкий поздравил военнослужащих с Днем сухоп...</td>\n",
       "      <td>0.968080</td>\n",
       "      <td>0.019237</td>\n",
       "      <td>0.012683</td>\n",
       "      <td>1</td>\n",
       "    </tr>\n",
       "    <tr>\n",
       "      <th>161</th>\n",
       "      <td>zpnewsru</td>\n",
       "      <td>2023-10-01 08:35:20.000</td>\n",
       "      <td>Балицкий: Бойцы сухопутных войск дают отпор ог...</td>\n",
       "      <td>0.967809</td>\n",
       "      <td>0.013144</td>\n",
       "      <td>0.019046</td>\n",
       "      <td>1</td>\n",
       "    </tr>\n",
       "    <tr>\n",
       "      <th>282</th>\n",
       "      <td>crossnews_ru</td>\n",
       "      <td>2023-10-01 07:15:12.000</td>\n",
       "      <td>Великое национальное собрание (парламент) Турц...</td>\n",
       "      <td>0.972306</td>\n",
       "      <td>0.019685</td>\n",
       "      <td>0.008009</td>\n",
       "      <td>1</td>\n",
       "    </tr>\n",
       "    <tr>\n",
       "      <th>825</th>\n",
       "      <td>vesticrimea</td>\n",
       "      <td>2023-10-01 07:44:07.000</td>\n",
       "      <td>❗️ Над Джанкоем сбили ракету, сообщил глава Кр...</td>\n",
       "      <td>0.959174</td>\n",
       "      <td>0.023008</td>\n",
       "      <td>0.017818</td>\n",
       "      <td>1</td>\n",
       "    </tr>\n",
       "    <tr>\n",
       "      <th>928</th>\n",
       "      <td>rt_ru_news</td>\n",
       "      <td>2023-10-01 09:43:13.000</td>\n",
       "      <td>Эрдоган назвал взрыв около здания МВД Турции «...</td>\n",
       "      <td>0.985001</td>\n",
       "      <td>0.010422</td>\n",
       "      <td>0.004577</td>\n",
       "      <td>1</td>\n",
       "    </tr>\n",
       "    <tr>\n",
       "      <th>...</th>\n",
       "      <td>...</td>\n",
       "      <td>...</td>\n",
       "      <td>...</td>\n",
       "      <td>...</td>\n",
       "      <td>...</td>\n",
       "      <td>...</td>\n",
       "      <td>...</td>\n",
       "    </tr>\n",
       "    <tr>\n",
       "      <th>79195</th>\n",
       "      <td>zspecialnews</td>\n",
       "      <td>2023-10-26 13:16:01.000</td>\n",
       "      <td>\"Иксоводы\" 336 гвардейской бригады морской пех...</td>\n",
       "      <td>0.087213</td>\n",
       "      <td>0.869853</td>\n",
       "      <td>0.042934</td>\n",
       "      <td>2</td>\n",
       "    </tr>\n",
       "    <tr>\n",
       "      <th>79209</th>\n",
       "      <td>bfmnews</td>\n",
       "      <td>2023-10-26 14:07:08.000</td>\n",
       "      <td>В Кремле заявили, что тренировка стратегически...</td>\n",
       "      <td>0.966073</td>\n",
       "      <td>0.014463</td>\n",
       "      <td>0.019464</td>\n",
       "      <td>1</td>\n",
       "    </tr>\n",
       "    <tr>\n",
       "      <th>79311</th>\n",
       "      <td>russiancanadiannews</td>\n",
       "      <td>2023-10-26 12:41:38.000</td>\n",
       "      <td>‼️🇷🇺Героические кадры: наш разведчик при штурм...</td>\n",
       "      <td>0.079456</td>\n",
       "      <td>0.894481</td>\n",
       "      <td>0.026063</td>\n",
       "      <td>2</td>\n",
       "    </tr>\n",
       "    <tr>\n",
       "      <th>80671</th>\n",
       "      <td>rgrunews</td>\n",
       "      <td>2023-10-27 11:03:02.000</td>\n",
       "      <td>\"Это - вопрос, быть нашей стране или не быть\"\\...</td>\n",
       "      <td>0.952632</td>\n",
       "      <td>0.023009</td>\n",
       "      <td>0.024359</td>\n",
       "      <td>1</td>\n",
       "    </tr>\n",
       "    <tr>\n",
       "      <th>81042</th>\n",
       "      <td>rt_ru_news</td>\n",
       "      <td>2023-10-27 03:41:46.000</td>\n",
       "      <td>Два человека пострадали в результате обстрела ...</td>\n",
       "      <td>0.952888</td>\n",
       "      <td>0.025401</td>\n",
       "      <td>0.021710</td>\n",
       "      <td>1</td>\n",
       "    </tr>\n",
       "  </tbody>\n",
       "</table>\n",
       "<p>213 rows × 7 columns</p>\n",
       "</div>"
      ],
      "text/plain": [
       "               ChannelName                     Date  \\\n",
       "154               zpnewsru  2023-10-01 09:07:22.000   \n",
       "161               zpnewsru  2023-10-01 08:35:20.000   \n",
       "282           crossnews_ru  2023-10-01 07:15:12.000   \n",
       "825            vesticrimea  2023-10-01 07:44:07.000   \n",
       "928             rt_ru_news  2023-10-01 09:43:13.000   \n",
       "...                    ...                      ...   \n",
       "79195         zspecialnews  2023-10-26 13:16:01.000   \n",
       "79209              bfmnews  2023-10-26 14:07:08.000   \n",
       "79311  russiancanadiannews  2023-10-26 12:41:38.000   \n",
       "80671             rgrunews  2023-10-27 11:03:02.000   \n",
       "81042           rt_ru_news  2023-10-27 03:41:46.000   \n",
       "\n",
       "                                                 Content         0         1  \\\n",
       "154    Балицкий поздравил военнослужащих с Днем сухоп...  0.968080  0.019237   \n",
       "161    Балицкий: Бойцы сухопутных войск дают отпор ог...  0.967809  0.013144   \n",
       "282    Великое национальное собрание (парламент) Турц...  0.972306  0.019685   \n",
       "825    ❗️ Над Джанкоем сбили ракету, сообщил глава Кр...  0.959174  0.023008   \n",
       "928    Эрдоган назвал взрыв около здания МВД Турции «...  0.985001  0.010422   \n",
       "...                                                  ...       ...       ...   \n",
       "79195  \"Иксоводы\" 336 гвардейской бригады морской пех...  0.087213  0.869853   \n",
       "79209  В Кремле заявили, что тренировка стратегически...  0.966073  0.014463   \n",
       "79311  ‼️🇷🇺Героические кадры: наш разведчик при штурм...  0.079456  0.894481   \n",
       "80671  \"Это - вопрос, быть нашей стране или не быть\"\\...  0.952632  0.023009   \n",
       "81042  Два человека пострадали в результате обстрела ...  0.952888  0.025401   \n",
       "\n",
       "              2  Suspicious_Level  \n",
       "154    0.012683                 1  \n",
       "161    0.019046                 1  \n",
       "282    0.008009                 1  \n",
       "825    0.017818                 1  \n",
       "928    0.004577                 1  \n",
       "...         ...               ...  \n",
       "79195  0.042934                 2  \n",
       "79209  0.019464                 1  \n",
       "79311  0.026063                 2  \n",
       "80671  0.024359                 1  \n",
       "81042  0.021710                 1  \n",
       "\n",
       "[213 rows x 7 columns]"
      ]
     },
     "execution_count": 180,
     "metadata": {},
     "output_type": "execute_result"
    }
   ],
   "source": [
    "unsupervised_data_selected"
   ]
  },
  {
   "cell_type": "code",
   "execution_count": 181,
   "id": "4f7b756b-8ff5-4752-8810-b75ad8bedf91",
   "metadata": {
    "tags": []
   },
   "outputs": [],
   "source": [
    "unsupervised_data_selected[\n",
    "    [\"ChannelName\", \"Date\", \"Content\", \"Suspicious_Level\"]\n",
    "].to_csv(\"../datasets/unsupervised_labeled_linear2.csv\", index=False)"
   ]
  },
  {
   "cell_type": "markdown",
   "id": "d8a5d1d5-ea9d-4646-89e7-f6986e1226ee",
   "metadata": {
    "tags": []
   },
   "source": [
    "## Filter unsupervised"
   ]
  },
  {
   "cell_type": "code",
   "execution_count": 6,
   "id": "c3f26e27-2379-4528-92dd-241330fce10b",
   "metadata": {
    "tags": []
   },
   "outputs": [],
   "source": [
    "unsupervised_data = pd.read_csv(\"../datasets/unsupervised_data.csv\")\n",
    "unsupervised_data = unsupervised_data.dropna()"
   ]
  },
  {
   "cell_type": "code",
   "execution_count": 7,
   "id": "11d50c01-deb5-4808-9a06-257ec438df85",
   "metadata": {
    "tags": []
   },
   "outputs": [
    {
     "data": {
      "text/plain": [
       "ChannelName\n",
       "solovievlive          172\n",
       "ukraina_ru            109\n",
       "rian_ru                95\n",
       "tass_agency            92\n",
       "stranaua               87\n",
       "denazi_ua              65\n",
       "uanotru                48\n",
       "donbassr               45\n",
       "openukraine            44\n",
       "readovkanews           42\n",
       "voenacher              36\n",
       "istorijaoruzijaz       28\n",
       "bear007                21\n",
       "newsfrontnotes         21\n",
       "asupersharij           21\n",
       "sheptoon               18\n",
       "notes_veterans         15\n",
       "gardez66               15\n",
       "zerada1                15\n",
       "rezident_ua            13\n",
       "zakharprilepin         13\n",
       "voenkorkotenok         12\n",
       "kremlin_sekret         11\n",
       "rsotmdivision          11\n",
       "spletnicca             11\n",
       "za_derjavy             10\n",
       "readovkaru              9\n",
       "tsibulya_ua             8\n",
       "zola_of_renovation      8\n",
       "montyan2                8\n",
       "Name: count, dtype: int64"
      ]
     },
     "execution_count": 7,
     "metadata": {},
     "output_type": "execute_result"
    }
   ],
   "source": [
    "test[\"ChannelName\"].value_counts()[:30]"
   ]
  },
  {
   "cell_type": "code",
   "execution_count": 8,
   "id": "be289d2a-4d21-48b2-ac48-7c908ebdd5b4",
   "metadata": {
    "tags": []
   },
   "outputs": [],
   "source": [
    "filtered_try2 = unsupervised_data[\n",
    "    (\n",
    "        unsupervised_data[\"ChannelName\"].str.lower().str.contains(\"live\")\n",
    "        | unsupervised_data[\"ChannelName\"].str.lower().str.contains(\"ua\")\n",
    "        | unsupervised_data[\"ChannelName\"].str.lower().str.contains(\"ria\")\n",
    "        | unsupervised_data[\"ChannelName\"].str.lower().str.contains(\"tass\")\n",
    "        | unsupervised_data[\"ChannelName\"].str.lower().str.contains(\"strana\")\n",
    "        | unsupervised_data[\"ChannelName\"].str.lower().str.contains(\"denazi\")\n",
    "        | unsupervised_data[\"ChannelName\"].str.lower().str.contains(\"donba\")\n",
    "        | unsupervised_data[\"ChannelName\"].str.lower().str.contains(\"agency\")\n",
    "        | unsupervised_data[\"ChannelName\"].str.lower().str.contains(\"news\")\n",
    "        | unsupervised_data[\"ChannelName\"].str.lower().str.contains(\"front\")\n",
    "        | unsupervised_data[\"ChannelName\"].str.lower().str.contains(\"rezident\")\n",
    "        | unsupervised_data[\"ChannelName\"].str.lower().str.contains(\"splet\")\n",
    "        | unsupervised_data[\"ChannelName\"].str.lower().str.contains(\"ze\")\n",
    "        | unsupervised_data[\"ChannelName\"].str.lower().str.contains(\"azov\")\n",
    "        | unsupervised_data[\"ChannelName\"].str.lower().str.contains(\"kotenok\")\n",
    "        | unsupervised_data[\"ChannelName\"].str.lower().str.contains(\"kotenok\")\n",
    "    )\n",
    "    & ~(\n",
    "        unsupervised_data[\"ChannelName\"].str.lower().str.contains(\"chat\")\n",
    "        | unsupervised_data[\"ChannelName\"].str.lower().str.contains(\"comment\")\n",
    "        | unsupervised_data[\"ChannelName\"].str.lower().str.contains(\"hze7fcbzsdhnzm0\")\n",
    "        | unsupervised_data[\"ChannelName\"].str.lower().str.contains(\"kor2\")\n",
    "        | unsupervised_data[\"ChannelName\"].str.lower().str.contains(\"discuss\")\n",
    "        | unsupervised_data[\"ChannelName\"]\n",
    "        .str.lower()\n",
    "        .str.contains(\"refugeesinswitzerland\")\n",
    "        | unsupervised_data[\"ChannelName\"].str.lower().str.contains(\"ru2chnews\")\n",
    "        | unsupervised_data[\"ChannelName\"].str.lower().str.contains(\"amplify\")\n",
    "        | unsupervised_data[\"ChannelName\"]\n",
    "        .str.lower()\n",
    "        .str.contains(\"rss_tass_en_rt_fr_not_offical\")\n",
    "        | unsupervised_data[\"ChannelName\"].str.lower().str.contains(\"okolofnews\")\n",
    "        | unsupervised_data[\"ChannelName\"].str.lower().str.contains(\"ukraineat\")\n",
    "        | unsupervised_data[\"ChannelName\"].str.lower().str.contains(\"ukrnastup\")\n",
    "        | unsupervised_data[\"ChannelName\"].str.lower().str.contains(\"islamicfront99\")\n",
    "        | unsupervised_data[\"ChannelName\"].str.lower().str.contains(\"franceukraine\")\n",
    "        | unsupervised_data[\"ChannelName\"].str.lower().str.contains(\"ukrainereality\")\n",
    "        | unsupervised_data[\"ChannelName\"].str.lower().str.contains(\"donbassnew1\")\n",
    "        | unsupervised_data[\"ChannelName\"]\n",
    "        .str.lower()\n",
    "        .str.contains(\"the_rusian_front_onli\")\n",
    "    )\n",
    "]"
   ]
  },
  {
   "cell_type": "code",
   "execution_count": 24,
   "id": "1b8ed466-a6ed-4032-9fc2-907dab70c89a",
   "metadata": {
    "tags": []
   },
   "outputs": [],
   "source": [
    "filtered_try2 = filtered_try2[\n",
    "    (filtered_try2[\"Content\"].str.len() >= 200)\n",
    "    & (filtered_try2[\"Content\"].str.len() <= 700)\n",
    "]"
   ]
  },
  {
   "cell_type": "code",
   "execution_count": 18,
   "id": "86f2953f-d5c7-4ca9-9c54-1ec9e50a9657",
   "metadata": {
    "tags": []
   },
   "outputs": [],
   "source": [
    "filtered_try2 = filtered_try2.drop_duplicates(subset=\"Content\", keep=\"first\")"
   ]
  },
  {
   "cell_type": "code",
   "execution_count": 25,
   "id": "87cfef5b-df18-40cf-b549-47b6f6e93f69",
   "metadata": {
    "tags": []
   },
   "outputs": [
    {
     "data": {
      "text/html": [
       "<div>\n",
       "<style scoped>\n",
       "    .dataframe tbody tr th:only-of-type {\n",
       "        vertical-align: middle;\n",
       "    }\n",
       "\n",
       "    .dataframe tbody tr th {\n",
       "        vertical-align: top;\n",
       "    }\n",
       "\n",
       "    .dataframe thead th {\n",
       "        text-align: right;\n",
       "    }\n",
       "</style>\n",
       "<table border=\"1\" class=\"dataframe\">\n",
       "  <thead>\n",
       "    <tr style=\"text-align: right;\">\n",
       "      <th></th>\n",
       "      <th>ChannelName</th>\n",
       "      <th>Date</th>\n",
       "      <th>Content</th>\n",
       "    </tr>\n",
       "  </thead>\n",
       "  <tbody>\n",
       "    <tr>\n",
       "      <th>143</th>\n",
       "      <td>nikitinaraskazet</td>\n",
       "      <td>2023-10-01 21:00:39.000</td>\n",
       "      <td>В ГОСДУМЕ ОБЪЯСНИЛИ, ЗА КАКИЕ ПОСТРОЙКИ НА ДАЧ...</td>\n",
       "    </tr>\n",
       "    <tr>\n",
       "      <th>2162</th>\n",
       "      <td>evacuationukraine</td>\n",
       "      <td>2023-10-01 02:44:51.000</td>\n",
       "      <td>1 жовтня – День захисників і захисниць України...</td>\n",
       "    </tr>\n",
       "    <tr>\n",
       "      <th>2418</th>\n",
       "      <td>nashdonbass</td>\n",
       "      <td>2023-10-01 02:42:22.000</td>\n",
       "      <td>Вот так выглядело начало Второй Мировой Войны....</td>\n",
       "    </tr>\n",
       "    <tr>\n",
       "      <th>2452</th>\n",
       "      <td>nashdonbass</td>\n",
       "      <td>2023-10-01 01:28:44.000</td>\n",
       "      <td>Дмитрий Медведев в своём поздравлении с Днём В...</td>\n",
       "    </tr>\n",
       "    <tr>\n",
       "      <th>2551</th>\n",
       "      <td>russiancanadiannews</td>\n",
       "      <td>2023-10-01 02:24:50.000</td>\n",
       "      <td>⚡️⚡️ Вот и подключились украинские лоббисты в ...</td>\n",
       "    </tr>\n",
       "    <tr>\n",
       "      <th>...</th>\n",
       "      <td>...</td>\n",
       "      <td>...</td>\n",
       "      <td>...</td>\n",
       "    </tr>\n",
       "    <tr>\n",
       "      <th>15681816</th>\n",
       "      <td>newsvladivostok</td>\n",
       "      <td>2023-10-27 01:22:24.000</td>\n",
       "      <td>Господя, а зачем ему это делать? \\nМоя подруга...</td>\n",
       "    </tr>\n",
       "    <tr>\n",
       "      <th>15681834</th>\n",
       "      <td>newsby_info</td>\n",
       "      <td>2023-10-27 03:01:37.000</td>\n",
       "      <td>☑️ Главные новости на утро 27  октября:\\n\\n🔹СШ...</td>\n",
       "    </tr>\n",
       "    <tr>\n",
       "      <th>15681846</th>\n",
       "      <td>tengrinews</td>\n",
       "      <td>2023-10-27 02:53:11.000</td>\n",
       "      <td>Экс-депутат маслихата Актобе Сания Муратова ар...</td>\n",
       "    </tr>\n",
       "    <tr>\n",
       "      <th>15681852</th>\n",
       "      <td>tengrinews</td>\n",
       "      <td>2023-10-27 01:44:36.000</td>\n",
       "      <td>Некоторые подробности задержания Марата Бекета...</td>\n",
       "    </tr>\n",
       "    <tr>\n",
       "      <th>15681868</th>\n",
       "      <td>ukrain1an_news</td>\n",
       "      <td>2023-10-27 00:16:16.000</td>\n",
       "      <td>Міжнародні політики, які вже висловили співчут...</td>\n",
       "    </tr>\n",
       "  </tbody>\n",
       "</table>\n",
       "<p>138714 rows × 3 columns</p>\n",
       "</div>"
      ],
      "text/plain": [
       "                  ChannelName                     Date  \\\n",
       "143          nikitinaraskazet  2023-10-01 21:00:39.000   \n",
       "2162        evacuationukraine  2023-10-01 02:44:51.000   \n",
       "2418              nashdonbass  2023-10-01 02:42:22.000   \n",
       "2452              nashdonbass  2023-10-01 01:28:44.000   \n",
       "2551      russiancanadiannews  2023-10-01 02:24:50.000   \n",
       "...                       ...                      ...   \n",
       "15681816      newsvladivostok  2023-10-27 01:22:24.000   \n",
       "15681834          newsby_info  2023-10-27 03:01:37.000   \n",
       "15681846           tengrinews  2023-10-27 02:53:11.000   \n",
       "15681852           tengrinews  2023-10-27 01:44:36.000   \n",
       "15681868       ukrain1an_news  2023-10-27 00:16:16.000   \n",
       "\n",
       "                                                    Content  \n",
       "143       В ГОСДУМЕ ОБЪЯСНИЛИ, ЗА КАКИЕ ПОСТРОЙКИ НА ДАЧ...  \n",
       "2162      1 жовтня – День захисників і захисниць України...  \n",
       "2418      Вот так выглядело начало Второй Мировой Войны....  \n",
       "2452      Дмитрий Медведев в своём поздравлении с Днём В...  \n",
       "2551      ⚡️⚡️ Вот и подключились украинские лоббисты в ...  \n",
       "...                                                     ...  \n",
       "15681816  Господя, а зачем ему это делать? \\nМоя подруга...  \n",
       "15681834  ☑️ Главные новости на утро 27  октября:\\n\\n🔹СШ...  \n",
       "15681846  Экс-депутат маслихата Актобе Сания Муратова ар...  \n",
       "15681852  Некоторые подробности задержания Марата Бекета...  \n",
       "15681868  Міжнародні політики, які вже висловили співчут...  \n",
       "\n",
       "[138714 rows x 3 columns]"
      ]
     },
     "execution_count": 25,
     "metadata": {},
     "output_type": "execute_result"
    }
   ],
   "source": [
    "filtered_try2"
   ]
  },
  {
   "cell_type": "code",
   "execution_count": 20,
   "id": "3ec634dd-90c0-419e-8122-ad8ee827d136",
   "metadata": {
    "collapsed": true,
    "jupyter": {
     "outputs_hidden": true
    },
    "tags": []
   },
   "outputs": [
    {
     "name": "stderr",
     "output_type": "stream",
     "text": [
      "4it [00:50, 12.55s/it]\n"
     ]
    },
    {
     "ename": "KeyboardInterrupt",
     "evalue": "",
     "output_type": "error",
     "traceback": [
      "\u001b[0;31m---------------------------------------------------------------------------\u001b[0m",
      "\u001b[0;31mKeyboardInterrupt\u001b[0m                         Traceback (most recent call last)",
      "Cell \u001b[0;32mIn[20], line 1\u001b[0m\n\u001b[0;32m----> 1\u001b[0m filtered_try2 \u001b[38;5;241m=\u001b[39m \u001b[43mdrop_similar_duplicates\u001b[49m\u001b[43m(\u001b[49m\n\u001b[1;32m      2\u001b[0m \u001b[43m    \u001b[49m\u001b[43mfiltered_try2\u001b[49m\u001b[43m,\u001b[49m\u001b[43m \u001b[49m\u001b[38;5;124;43m\"\u001b[39;49m\u001b[38;5;124;43mContent\u001b[39;49m\u001b[38;5;124;43m\"\u001b[39;49m\u001b[43m,\u001b[49m\u001b[43m \u001b[49m\u001b[43msimilarity_threshold\u001b[49m\u001b[38;5;241;43m=\u001b[39;49m\u001b[38;5;241;43m0.8\u001b[39;49m\n\u001b[1;32m      3\u001b[0m \u001b[43m)\u001b[49m\n",
      "Cell \u001b[0;32mIn[16], line 16\u001b[0m, in \u001b[0;36mdrop_similar_duplicates\u001b[0;34m(df, text_column, similarity_threshold)\u001b[0m\n\u001b[1;32m     14\u001b[0m \u001b[38;5;28;01mif\u001b[39;00m \u001b[38;5;129;01mnot\u001b[39;00m df_copy\u001b[38;5;241m.\u001b[39mat[i, \u001b[38;5;124m\"\u001b[39m\u001b[38;5;124mDuplicateFlag\u001b[39m\u001b[38;5;124m\"\u001b[39m]:\n\u001b[1;32m     15\u001b[0m     current_text \u001b[38;5;241m=\u001b[39m row[text_column]\n\u001b[0;32m---> 16\u001b[0m     df_copy[\u001b[38;5;124m\"\u001b[39m\u001b[38;5;124mSimilarity\u001b[39m\u001b[38;5;124m\"\u001b[39m] \u001b[38;5;241m=\u001b[39m \u001b[43mdf_copy\u001b[49m\u001b[43m[\u001b[49m\u001b[43mtext_column\u001b[49m\u001b[43m]\u001b[49m\u001b[38;5;241;43m.\u001b[39;49m\u001b[43mapply\u001b[49m\u001b[43m(\u001b[49m\n\u001b[1;32m     17\u001b[0m \u001b[43m        \u001b[49m\u001b[38;5;28;43;01mlambda\u001b[39;49;00m\u001b[43m \u001b[49m\u001b[43mx\u001b[49m\u001b[43m:\u001b[49m\u001b[43m \u001b[49m\u001b[43msimilarity_ratio\u001b[49m\u001b[43m(\u001b[49m\u001b[43mcurrent_text\u001b[49m\u001b[43m,\u001b[49m\u001b[43m \u001b[49m\u001b[43mx\u001b[49m\u001b[43m)\u001b[49m\n\u001b[1;32m     18\u001b[0m \u001b[43m    \u001b[49m\u001b[43m)\u001b[49m\n\u001b[1;32m     19\u001b[0m     duplicates \u001b[38;5;241m=\u001b[39m df_copy[\n\u001b[1;32m     20\u001b[0m         df_copy[\u001b[38;5;124m\"\u001b[39m\u001b[38;5;124mSimilarity\u001b[39m\u001b[38;5;124m\"\u001b[39m] \u001b[38;5;241m>\u001b[39m\u001b[38;5;241m=\u001b[39m similarity_threshold\n\u001b[1;32m     21\u001b[0m     ]\u001b[38;5;241m.\u001b[39mindex\u001b[38;5;241m.\u001b[39mtolist()\n\u001b[1;32m     23\u001b[0m     \u001b[38;5;66;03m# Mark duplicates as True in 'DuplicateFlag' column using loc\u001b[39;00m\n",
      "File \u001b[0;32m/opt/homebrew/Caskroom/miniconda/base/envs/ai-house-disinformation-detection/lib/python3.10/site-packages/pandas/core/series.py:4760\u001b[0m, in \u001b[0;36mSeries.apply\u001b[0;34m(self, func, convert_dtype, args, by_row, **kwargs)\u001b[0m\n\u001b[1;32m   4625\u001b[0m \u001b[38;5;28;01mdef\u001b[39;00m \u001b[38;5;21mapply\u001b[39m(\n\u001b[1;32m   4626\u001b[0m     \u001b[38;5;28mself\u001b[39m,\n\u001b[1;32m   4627\u001b[0m     func: AggFuncType,\n\u001b[0;32m   (...)\u001b[0m\n\u001b[1;32m   4632\u001b[0m     \u001b[38;5;241m*\u001b[39m\u001b[38;5;241m*\u001b[39mkwargs,\n\u001b[1;32m   4633\u001b[0m ) \u001b[38;5;241m-\u001b[39m\u001b[38;5;241m>\u001b[39m DataFrame \u001b[38;5;241m|\u001b[39m Series:\n\u001b[1;32m   4634\u001b[0m \u001b[38;5;250m    \u001b[39m\u001b[38;5;124;03m\"\"\"\u001b[39;00m\n\u001b[1;32m   4635\u001b[0m \u001b[38;5;124;03m    Invoke function on values of Series.\u001b[39;00m\n\u001b[1;32m   4636\u001b[0m \n\u001b[0;32m   (...)\u001b[0m\n\u001b[1;32m   4751\u001b[0m \u001b[38;5;124;03m    dtype: float64\u001b[39;00m\n\u001b[1;32m   4752\u001b[0m \u001b[38;5;124;03m    \"\"\"\u001b[39;00m\n\u001b[1;32m   4753\u001b[0m     \u001b[38;5;28;01mreturn\u001b[39;00m \u001b[43mSeriesApply\u001b[49m\u001b[43m(\u001b[49m\n\u001b[1;32m   4754\u001b[0m \u001b[43m        \u001b[49m\u001b[38;5;28;43mself\u001b[39;49m\u001b[43m,\u001b[49m\n\u001b[1;32m   4755\u001b[0m \u001b[43m        \u001b[49m\u001b[43mfunc\u001b[49m\u001b[43m,\u001b[49m\n\u001b[1;32m   4756\u001b[0m \u001b[43m        \u001b[49m\u001b[43mconvert_dtype\u001b[49m\u001b[38;5;241;43m=\u001b[39;49m\u001b[43mconvert_dtype\u001b[49m\u001b[43m,\u001b[49m\n\u001b[1;32m   4757\u001b[0m \u001b[43m        \u001b[49m\u001b[43mby_row\u001b[49m\u001b[38;5;241;43m=\u001b[39;49m\u001b[43mby_row\u001b[49m\u001b[43m,\u001b[49m\n\u001b[1;32m   4758\u001b[0m \u001b[43m        \u001b[49m\u001b[43margs\u001b[49m\u001b[38;5;241;43m=\u001b[39;49m\u001b[43margs\u001b[49m\u001b[43m,\u001b[49m\n\u001b[1;32m   4759\u001b[0m \u001b[43m        \u001b[49m\u001b[43mkwargs\u001b[49m\u001b[38;5;241;43m=\u001b[39;49m\u001b[43mkwargs\u001b[49m\u001b[43m,\u001b[49m\n\u001b[0;32m-> 4760\u001b[0m \u001b[43m    \u001b[49m\u001b[43m)\u001b[49m\u001b[38;5;241;43m.\u001b[39;49m\u001b[43mapply\u001b[49m\u001b[43m(\u001b[49m\u001b[43m)\u001b[49m\n",
      "File \u001b[0;32m/opt/homebrew/Caskroom/miniconda/base/envs/ai-house-disinformation-detection/lib/python3.10/site-packages/pandas/core/apply.py:1207\u001b[0m, in \u001b[0;36mSeriesApply.apply\u001b[0;34m(self)\u001b[0m\n\u001b[1;32m   1204\u001b[0m     \u001b[38;5;28;01mreturn\u001b[39;00m \u001b[38;5;28mself\u001b[39m\u001b[38;5;241m.\u001b[39mapply_compat()\n\u001b[1;32m   1206\u001b[0m \u001b[38;5;66;03m# self.func is Callable\u001b[39;00m\n\u001b[0;32m-> 1207\u001b[0m \u001b[38;5;28;01mreturn\u001b[39;00m \u001b[38;5;28;43mself\u001b[39;49m\u001b[38;5;241;43m.\u001b[39;49m\u001b[43mapply_standard\u001b[49m\u001b[43m(\u001b[49m\u001b[43m)\u001b[49m\n",
      "File \u001b[0;32m/opt/homebrew/Caskroom/miniconda/base/envs/ai-house-disinformation-detection/lib/python3.10/site-packages/pandas/core/apply.py:1287\u001b[0m, in \u001b[0;36mSeriesApply.apply_standard\u001b[0;34m(self)\u001b[0m\n\u001b[1;32m   1281\u001b[0m \u001b[38;5;66;03m# row-wise access\u001b[39;00m\n\u001b[1;32m   1282\u001b[0m \u001b[38;5;66;03m# apply doesn't have a `na_action` keyword and for backward compat reasons\u001b[39;00m\n\u001b[1;32m   1283\u001b[0m \u001b[38;5;66;03m# we need to give `na_action=\"ignore\"` for categorical data.\u001b[39;00m\n\u001b[1;32m   1284\u001b[0m \u001b[38;5;66;03m# TODO: remove the `na_action=\"ignore\"` when that default has been changed in\u001b[39;00m\n\u001b[1;32m   1285\u001b[0m \u001b[38;5;66;03m#  Categorical (GH51645).\u001b[39;00m\n\u001b[1;32m   1286\u001b[0m action \u001b[38;5;241m=\u001b[39m \u001b[38;5;124m\"\u001b[39m\u001b[38;5;124mignore\u001b[39m\u001b[38;5;124m\"\u001b[39m \u001b[38;5;28;01mif\u001b[39;00m \u001b[38;5;28misinstance\u001b[39m(obj\u001b[38;5;241m.\u001b[39mdtype, CategoricalDtype) \u001b[38;5;28;01melse\u001b[39;00m \u001b[38;5;28;01mNone\u001b[39;00m\n\u001b[0;32m-> 1287\u001b[0m mapped \u001b[38;5;241m=\u001b[39m \u001b[43mobj\u001b[49m\u001b[38;5;241;43m.\u001b[39;49m\u001b[43m_map_values\u001b[49m\u001b[43m(\u001b[49m\n\u001b[1;32m   1288\u001b[0m \u001b[43m    \u001b[49m\u001b[43mmapper\u001b[49m\u001b[38;5;241;43m=\u001b[39;49m\u001b[43mcurried\u001b[49m\u001b[43m,\u001b[49m\u001b[43m \u001b[49m\u001b[43mna_action\u001b[49m\u001b[38;5;241;43m=\u001b[39;49m\u001b[43maction\u001b[49m\u001b[43m,\u001b[49m\u001b[43m \u001b[49m\u001b[43mconvert\u001b[49m\u001b[38;5;241;43m=\u001b[39;49m\u001b[38;5;28;43mself\u001b[39;49m\u001b[38;5;241;43m.\u001b[39;49m\u001b[43mconvert_dtype\u001b[49m\n\u001b[1;32m   1289\u001b[0m \u001b[43m\u001b[49m\u001b[43m)\u001b[49m\n\u001b[1;32m   1291\u001b[0m \u001b[38;5;28;01mif\u001b[39;00m \u001b[38;5;28mlen\u001b[39m(mapped) \u001b[38;5;129;01mand\u001b[39;00m \u001b[38;5;28misinstance\u001b[39m(mapped[\u001b[38;5;241m0\u001b[39m], ABCSeries):\n\u001b[1;32m   1292\u001b[0m     \u001b[38;5;66;03m# GH#43986 Need to do list(mapped) in order to get treated as nested\u001b[39;00m\n\u001b[1;32m   1293\u001b[0m     \u001b[38;5;66;03m#  See also GH#25959 regarding EA support\u001b[39;00m\n\u001b[1;32m   1294\u001b[0m     \u001b[38;5;28;01mreturn\u001b[39;00m obj\u001b[38;5;241m.\u001b[39m_constructor_expanddim(\u001b[38;5;28mlist\u001b[39m(mapped), index\u001b[38;5;241m=\u001b[39mobj\u001b[38;5;241m.\u001b[39mindex)\n",
      "File \u001b[0;32m/opt/homebrew/Caskroom/miniconda/base/envs/ai-house-disinformation-detection/lib/python3.10/site-packages/pandas/core/base.py:921\u001b[0m, in \u001b[0;36mIndexOpsMixin._map_values\u001b[0;34m(self, mapper, na_action, convert)\u001b[0m\n\u001b[1;32m    918\u001b[0m \u001b[38;5;28;01mif\u001b[39;00m \u001b[38;5;28misinstance\u001b[39m(arr, ExtensionArray):\n\u001b[1;32m    919\u001b[0m     \u001b[38;5;28;01mreturn\u001b[39;00m arr\u001b[38;5;241m.\u001b[39mmap(mapper, na_action\u001b[38;5;241m=\u001b[39mna_action)\n\u001b[0;32m--> 921\u001b[0m \u001b[38;5;28;01mreturn\u001b[39;00m \u001b[43malgorithms\u001b[49m\u001b[38;5;241;43m.\u001b[39;49m\u001b[43mmap_array\u001b[49m\u001b[43m(\u001b[49m\u001b[43marr\u001b[49m\u001b[43m,\u001b[49m\u001b[43m \u001b[49m\u001b[43mmapper\u001b[49m\u001b[43m,\u001b[49m\u001b[43m \u001b[49m\u001b[43mna_action\u001b[49m\u001b[38;5;241;43m=\u001b[39;49m\u001b[43mna_action\u001b[49m\u001b[43m,\u001b[49m\u001b[43m \u001b[49m\u001b[43mconvert\u001b[49m\u001b[38;5;241;43m=\u001b[39;49m\u001b[43mconvert\u001b[49m\u001b[43m)\u001b[49m\n",
      "File \u001b[0;32m/opt/homebrew/Caskroom/miniconda/base/envs/ai-house-disinformation-detection/lib/python3.10/site-packages/pandas/core/algorithms.py:1814\u001b[0m, in \u001b[0;36mmap_array\u001b[0;34m(arr, mapper, na_action, convert)\u001b[0m\n\u001b[1;32m   1812\u001b[0m values \u001b[38;5;241m=\u001b[39m arr\u001b[38;5;241m.\u001b[39mastype(\u001b[38;5;28mobject\u001b[39m, copy\u001b[38;5;241m=\u001b[39m\u001b[38;5;28;01mFalse\u001b[39;00m)\n\u001b[1;32m   1813\u001b[0m \u001b[38;5;28;01mif\u001b[39;00m na_action \u001b[38;5;129;01mis\u001b[39;00m \u001b[38;5;28;01mNone\u001b[39;00m:\n\u001b[0;32m-> 1814\u001b[0m     \u001b[38;5;28;01mreturn\u001b[39;00m \u001b[43mlib\u001b[49m\u001b[38;5;241;43m.\u001b[39;49m\u001b[43mmap_infer\u001b[49m\u001b[43m(\u001b[49m\u001b[43mvalues\u001b[49m\u001b[43m,\u001b[49m\u001b[43m \u001b[49m\u001b[43mmapper\u001b[49m\u001b[43m,\u001b[49m\u001b[43m \u001b[49m\u001b[43mconvert\u001b[49m\u001b[38;5;241;43m=\u001b[39;49m\u001b[43mconvert\u001b[49m\u001b[43m)\u001b[49m\n\u001b[1;32m   1815\u001b[0m \u001b[38;5;28;01melse\u001b[39;00m:\n\u001b[1;32m   1816\u001b[0m     \u001b[38;5;28;01mreturn\u001b[39;00m lib\u001b[38;5;241m.\u001b[39mmap_infer_mask(\n\u001b[1;32m   1817\u001b[0m         values, mapper, mask\u001b[38;5;241m=\u001b[39misna(values)\u001b[38;5;241m.\u001b[39mview(np\u001b[38;5;241m.\u001b[39muint8), convert\u001b[38;5;241m=\u001b[39mconvert\n\u001b[1;32m   1818\u001b[0m     )\n",
      "File \u001b[0;32mlib.pyx:2920\u001b[0m, in \u001b[0;36mpandas._libs.lib.map_infer\u001b[0;34m()\u001b[0m\n",
      "Cell \u001b[0;32mIn[16], line 17\u001b[0m, in \u001b[0;36mdrop_similar_duplicates.<locals>.<lambda>\u001b[0;34m(x)\u001b[0m\n\u001b[1;32m     14\u001b[0m \u001b[38;5;28;01mif\u001b[39;00m \u001b[38;5;129;01mnot\u001b[39;00m df_copy\u001b[38;5;241m.\u001b[39mat[i, \u001b[38;5;124m\"\u001b[39m\u001b[38;5;124mDuplicateFlag\u001b[39m\u001b[38;5;124m\"\u001b[39m]:\n\u001b[1;32m     15\u001b[0m     current_text \u001b[38;5;241m=\u001b[39m row[text_column]\n\u001b[1;32m     16\u001b[0m     df_copy[\u001b[38;5;124m\"\u001b[39m\u001b[38;5;124mSimilarity\u001b[39m\u001b[38;5;124m\"\u001b[39m] \u001b[38;5;241m=\u001b[39m df_copy[text_column]\u001b[38;5;241m.\u001b[39mapply(\n\u001b[0;32m---> 17\u001b[0m         \u001b[38;5;28;01mlambda\u001b[39;00m x: \u001b[43msimilarity_ratio\u001b[49m\u001b[43m(\u001b[49m\u001b[43mcurrent_text\u001b[49m\u001b[43m,\u001b[49m\u001b[43m \u001b[49m\u001b[43mx\u001b[49m\u001b[43m)\u001b[49m\n\u001b[1;32m     18\u001b[0m     )\n\u001b[1;32m     19\u001b[0m     duplicates \u001b[38;5;241m=\u001b[39m df_copy[\n\u001b[1;32m     20\u001b[0m         df_copy[\u001b[38;5;124m\"\u001b[39m\u001b[38;5;124mSimilarity\u001b[39m\u001b[38;5;124m\"\u001b[39m] \u001b[38;5;241m>\u001b[39m\u001b[38;5;241m=\u001b[39m similarity_threshold\n\u001b[1;32m     21\u001b[0m     ]\u001b[38;5;241m.\u001b[39mindex\u001b[38;5;241m.\u001b[39mtolist()\n\u001b[1;32m     23\u001b[0m     \u001b[38;5;66;03m# Mark duplicates as True in 'DuplicateFlag' column using loc\u001b[39;00m\n",
      "Cell \u001b[0;32mIn[16], line 6\u001b[0m, in \u001b[0;36msimilarity_ratio\u001b[0;34m(str1, str2)\u001b[0m\n\u001b[1;32m      5\u001b[0m \u001b[38;5;28;01mdef\u001b[39;00m \u001b[38;5;21msimilarity_ratio\u001b[39m(str1, str2):\n\u001b[0;32m----> 6\u001b[0m     \u001b[38;5;28;01mreturn\u001b[39;00m \u001b[43mtextdistance\u001b[49m\u001b[38;5;241;43m.\u001b[39;49m\u001b[43mjaccard\u001b[49m\u001b[43m(\u001b[49m\u001b[43mstr1\u001b[49m\u001b[43m,\u001b[49m\u001b[43m \u001b[49m\u001b[43mstr2\u001b[49m\u001b[43m)\u001b[49m\n",
      "\u001b[0;31mKeyboardInterrupt\u001b[0m: "
     ]
    }
   ],
   "source": [
    "filtered_try2 = drop_similar_duplicates(\n",
    "    filtered_try2, \"Content\", similarity_threshold=0.8\n",
    ")"
   ]
  },
  {
   "cell_type": "code",
   "execution_count": null,
   "id": "248e4148-117d-4bb7-ad3c-52a232deff9d",
   "metadata": {
    "tags": []
   },
   "outputs": [],
   "source": [
    "filtered_try2[\"ChannelName\"].value_counts()"
   ]
  },
  {
   "cell_type": "code",
   "execution_count": 26,
   "id": "f0e904aa-1469-40f7-a61d-cd97debe491a",
   "metadata": {
    "tags": []
   },
   "outputs": [],
   "source": [
    "filtered_try2.to_csv(\"../datasets/last_try_new_data.csv\", index=False)"
   ]
  },
  {
   "cell_type": "code",
   "execution_count": 21,
   "id": "d986c425-4d83-4a98-9c71-19262557bc71",
   "metadata": {
    "tags": []
   },
   "outputs": [
    {
     "ename": "KeyboardInterrupt",
     "evalue": "",
     "output_type": "error",
     "traceback": [
      "\u001b[0;31m---------------------------------------------------------------------------\u001b[0m",
      "\u001b[0;31mKeyboardInterrupt\u001b[0m                         Traceback (most recent call last)",
      "Cell \u001b[0;32mIn[21], line 2\u001b[0m\n\u001b[1;32m      1\u001b[0m filtered_unsupervised \u001b[38;5;241m=\u001b[39m unsupervised_data[\n\u001b[0;32m----> 2\u001b[0m     (\u001b[43munsupervised_data\u001b[49m\u001b[43m[\u001b[49m\u001b[38;5;124;43m\"\u001b[39;49m\u001b[38;5;124;43mContent\u001b[39;49m\u001b[38;5;124;43m\"\u001b[39;49m\u001b[43m]\u001b[49m\u001b[38;5;241;43m.\u001b[39;49m\u001b[43mstr\u001b[49m\u001b[38;5;241;43m.\u001b[39;49m\u001b[43mlen\u001b[49m\u001b[43m(\u001b[49m\u001b[43m)\u001b[49m \u001b[38;5;241m>\u001b[39m \u001b[38;5;241m200\u001b[39m)\n\u001b[1;32m      3\u001b[0m     \u001b[38;5;241m&\u001b[39m (unsupervised_data[\u001b[38;5;124m\"\u001b[39m\u001b[38;5;124mContent\u001b[39m\u001b[38;5;124m\"\u001b[39m]\u001b[38;5;241m.\u001b[39mstr\u001b[38;5;241m.\u001b[39mlen() \u001b[38;5;241m<\u001b[39m \u001b[38;5;241m600\u001b[39m)\n\u001b[1;32m      4\u001b[0m ]\n\u001b[1;32m      5\u001b[0m filtered_unsupervised \u001b[38;5;241m=\u001b[39m filtered_unsupervised\u001b[38;5;241m.\u001b[39mdrop_duplicates(\n\u001b[1;32m      6\u001b[0m     subset\u001b[38;5;241m=\u001b[39m\u001b[38;5;124m\"\u001b[39m\u001b[38;5;124mContent\u001b[39m\u001b[38;5;124m\"\u001b[39m, keep\u001b[38;5;241m=\u001b[39m\u001b[38;5;124m\"\u001b[39m\u001b[38;5;124mfirst\u001b[39m\u001b[38;5;124m\"\u001b[39m\n\u001b[1;32m      7\u001b[0m )\n\u001b[1;32m      8\u001b[0m filtered_unsupervised\n",
      "File \u001b[0;32m/opt/homebrew/Caskroom/miniconda/base/envs/ai-house-disinformation-detection/lib/python3.10/site-packages/pandas/core/strings/accessor.py:3068\u001b[0m, in \u001b[0;36mStringMethods.len\u001b[0;34m(self)\u001b[0m\n\u001b[1;32m   3022\u001b[0m \u001b[38;5;28;01mdef\u001b[39;00m \u001b[38;5;21mlen\u001b[39m(\u001b[38;5;28mself\u001b[39m):\n\u001b[1;32m   3023\u001b[0m \u001b[38;5;250m    \u001b[39m\u001b[38;5;124;03m\"\"\"\u001b[39;00m\n\u001b[1;32m   3024\u001b[0m \u001b[38;5;124;03m    Compute the length of each element in the Series/Index.\u001b[39;00m\n\u001b[1;32m   3025\u001b[0m \n\u001b[0;32m   (...)\u001b[0m\n\u001b[1;32m   3066\u001b[0m \u001b[38;5;124;03m    dtype: float64\u001b[39;00m\n\u001b[1;32m   3067\u001b[0m \u001b[38;5;124;03m    \"\"\"\u001b[39;00m\n\u001b[0;32m-> 3068\u001b[0m     result \u001b[38;5;241m=\u001b[39m \u001b[38;5;28;43mself\u001b[39;49m\u001b[38;5;241;43m.\u001b[39;49m\u001b[43m_data\u001b[49m\u001b[38;5;241;43m.\u001b[39;49m\u001b[43marray\u001b[49m\u001b[38;5;241;43m.\u001b[39;49m\u001b[43m_str_len\u001b[49m\u001b[43m(\u001b[49m\u001b[43m)\u001b[49m\n\u001b[1;32m   3069\u001b[0m     \u001b[38;5;28;01mreturn\u001b[39;00m \u001b[38;5;28mself\u001b[39m\u001b[38;5;241m.\u001b[39m_wrap_result(result, returns_string\u001b[38;5;241m=\u001b[39m\u001b[38;5;28;01mFalse\u001b[39;00m)\n",
      "File \u001b[0;32m/opt/homebrew/Caskroom/miniconda/base/envs/ai-house-disinformation-detection/lib/python3.10/site-packages/pandas/core/strings/object_array.py:302\u001b[0m, in \u001b[0;36mObjectStringArrayMixin._str_len\u001b[0;34m(self)\u001b[0m\n\u001b[1;32m    301\u001b[0m \u001b[38;5;28;01mdef\u001b[39;00m \u001b[38;5;21m_str_len\u001b[39m(\u001b[38;5;28mself\u001b[39m):\n\u001b[0;32m--> 302\u001b[0m     \u001b[38;5;28;01mreturn\u001b[39;00m \u001b[38;5;28;43mself\u001b[39;49m\u001b[38;5;241;43m.\u001b[39;49m\u001b[43m_str_map\u001b[49m\u001b[43m(\u001b[49m\u001b[38;5;28;43mlen\u001b[39;49m\u001b[43m,\u001b[49m\u001b[43m \u001b[49m\u001b[43mdtype\u001b[49m\u001b[38;5;241;43m=\u001b[39;49m\u001b[38;5;124;43m\"\u001b[39;49m\u001b[38;5;124;43mint64\u001b[39;49m\u001b[38;5;124;43m\"\u001b[39;49m\u001b[43m)\u001b[49m\n",
      "File \u001b[0;32m/opt/homebrew/Caskroom/miniconda/base/envs/ai-house-disinformation-detection/lib/python3.10/site-packages/pandas/core/strings/object_array.py:78\u001b[0m, in \u001b[0;36mObjectStringArrayMixin._str_map\u001b[0;34m(self, f, na_value, dtype, convert)\u001b[0m\n\u001b[1;32m     76\u001b[0m map_convert \u001b[38;5;241m=\u001b[39m convert \u001b[38;5;129;01mand\u001b[39;00m \u001b[38;5;129;01mnot\u001b[39;00m np\u001b[38;5;241m.\u001b[39mall(mask)\n\u001b[1;32m     77\u001b[0m \u001b[38;5;28;01mtry\u001b[39;00m:\n\u001b[0;32m---> 78\u001b[0m     result \u001b[38;5;241m=\u001b[39m \u001b[43mlib\u001b[49m\u001b[38;5;241;43m.\u001b[39;49m\u001b[43mmap_infer_mask\u001b[49m\u001b[43m(\u001b[49m\u001b[43marr\u001b[49m\u001b[43m,\u001b[49m\u001b[43m \u001b[49m\u001b[43mf\u001b[49m\u001b[43m,\u001b[49m\u001b[43m \u001b[49m\u001b[43mmask\u001b[49m\u001b[38;5;241;43m.\u001b[39;49m\u001b[43mview\u001b[49m\u001b[43m(\u001b[49m\u001b[43mnp\u001b[49m\u001b[38;5;241;43m.\u001b[39;49m\u001b[43muint8\u001b[49m\u001b[43m)\u001b[49m\u001b[43m,\u001b[49m\u001b[43m \u001b[49m\u001b[43mmap_convert\u001b[49m\u001b[43m)\u001b[49m\n\u001b[1;32m     79\u001b[0m \u001b[38;5;28;01mexcept\u001b[39;00m (\u001b[38;5;167;01mTypeError\u001b[39;00m, \u001b[38;5;167;01mAttributeError\u001b[39;00m) \u001b[38;5;28;01mas\u001b[39;00m err:\n\u001b[1;32m     80\u001b[0m     \u001b[38;5;66;03m# Reraise the exception if callable `f` got wrong number of args.\u001b[39;00m\n\u001b[1;32m     81\u001b[0m     \u001b[38;5;66;03m# The user may want to be warned by this, instead of getting NaN\u001b[39;00m\n\u001b[1;32m     82\u001b[0m     p_err \u001b[38;5;241m=\u001b[39m (\n\u001b[1;32m     83\u001b[0m         \u001b[38;5;124mr\u001b[39m\u001b[38;5;124m\"\u001b[39m\u001b[38;5;124m((takes)|(missing)) (?(2)from \u001b[39m\u001b[38;5;124m\\\u001b[39m\u001b[38;5;124md+ to )?\u001b[39m\u001b[38;5;124m\\\u001b[39m\u001b[38;5;124md+ \u001b[39m\u001b[38;5;124m\"\u001b[39m\n\u001b[1;32m     84\u001b[0m         \u001b[38;5;124mr\u001b[39m\u001b[38;5;124m\"\u001b[39m\u001b[38;5;124m(?(3)required )positional arguments?\u001b[39m\u001b[38;5;124m\"\u001b[39m\n\u001b[1;32m     85\u001b[0m     )\n",
      "File \u001b[0;32mlib.pyx:2884\u001b[0m, in \u001b[0;36mpandas._libs.lib.map_infer_mask\u001b[0;34m()\u001b[0m\n",
      "File \u001b[0;32mlib.pyx:2519\u001b[0m, in \u001b[0;36mpandas._libs.lib.maybe_convert_objects\u001b[0;34m()\u001b[0m\n",
      "File \u001b[0;32m/opt/homebrew/Caskroom/miniconda/base/envs/ai-house-disinformation-detection/lib/python3.10/site-packages/numpy/core/numeric.py:274\u001b[0m, in \u001b[0;36mfull\u001b[0;34m(shape, fill_value, dtype, order, like)\u001b[0m\n\u001b[1;32m    270\u001b[0m \u001b[38;5;28;01mdef\u001b[39;00m \u001b[38;5;21m_full_dispatcher\u001b[39m(shape, fill_value, dtype\u001b[38;5;241m=\u001b[39m\u001b[38;5;28;01mNone\u001b[39;00m, order\u001b[38;5;241m=\u001b[39m\u001b[38;5;28;01mNone\u001b[39;00m, \u001b[38;5;241m*\u001b[39m, like\u001b[38;5;241m=\u001b[39m\u001b[38;5;28;01mNone\u001b[39;00m):\n\u001b[1;32m    271\u001b[0m     \u001b[38;5;28;01mreturn\u001b[39;00m(like,)\n\u001b[0;32m--> 274\u001b[0m \u001b[38;5;129m@set_array_function_like_doc\u001b[39m\n\u001b[1;32m    275\u001b[0m \u001b[38;5;129m@set_module\u001b[39m(\u001b[38;5;124m'\u001b[39m\u001b[38;5;124mnumpy\u001b[39m\u001b[38;5;124m'\u001b[39m)\n\u001b[1;32m    276\u001b[0m \u001b[38;5;28;01mdef\u001b[39;00m \u001b[38;5;21mfull\u001b[39m(shape, fill_value, dtype\u001b[38;5;241m=\u001b[39m\u001b[38;5;28;01mNone\u001b[39;00m, order\u001b[38;5;241m=\u001b[39m\u001b[38;5;124m'\u001b[39m\u001b[38;5;124mC\u001b[39m\u001b[38;5;124m'\u001b[39m, \u001b[38;5;241m*\u001b[39m, like\u001b[38;5;241m=\u001b[39m\u001b[38;5;28;01mNone\u001b[39;00m):\n\u001b[1;32m    277\u001b[0m \u001b[38;5;250m    \u001b[39m\u001b[38;5;124;03m\"\"\"\u001b[39;00m\n\u001b[1;32m    278\u001b[0m \u001b[38;5;124;03m    Return a new array of given shape and type, filled with `fill_value`.\u001b[39;00m\n\u001b[1;32m    279\u001b[0m \n\u001b[0;32m   (...)\u001b[0m\n\u001b[1;32m    320\u001b[0m \n\u001b[1;32m    321\u001b[0m \u001b[38;5;124;03m    \"\"\"\u001b[39;00m\n\u001b[1;32m    322\u001b[0m     \u001b[38;5;28;01mif\u001b[39;00m like \u001b[38;5;129;01mis\u001b[39;00m \u001b[38;5;129;01mnot\u001b[39;00m \u001b[38;5;28;01mNone\u001b[39;00m:\n",
      "\u001b[0;31mKeyboardInterrupt\u001b[0m: "
     ]
    }
   ],
   "source": [
    "filtered_unsupervised = unsupervised_data[\n",
    "    (unsupervised_data[\"Content\"].str.len() > 200)\n",
    "    & (unsupervised_data[\"Content\"].str.len() < 600)\n",
    "]\n",
    "filtered_unsupervised = filtered_unsupervised.drop_duplicates(\n",
    "    subset=\"Content\", keep=\"first\"\n",
    ")\n",
    "filtered_unsupervised"
   ]
  },
  {
   "cell_type": "code",
   "execution_count": 159,
   "id": "49cdcb50-2f37-4ae4-917b-a2cc9ef63ac5",
   "metadata": {
    "tags": []
   },
   "outputs": [],
   "source": [
    "filtered_unsupervised = filtered_unsupervised[\n",
    "    (\n",
    "        filtered_unsupervised[\"ChannelName\"].str.lower().str.contains(\"news\")\n",
    "        | filtered_unsupervised[\"ChannelName\"].str.lower().str.contains(\"vesti\")\n",
    "    )\n",
    "    & ~(\n",
    "        filtered_unsupervised[\"ChannelName\"].str.lower().str.contains(\"ua\")\n",
    "        | filtered_unsupervised[\"ChannelName\"].str.lower().str.contains(\"uk\")\n",
    "        | filtered_unsupervised[\"ChannelName\"].str.lower().str.contains(\"ukraine\")\n",
    "        | filtered_unsupervised[\"ChannelName\"].str.lower().str.contains(\"baraholka\")\n",
    "        | filtered_unsupervised[\"ChannelName\"].str.lower().str.contains(\"comment\")\n",
    "        | filtered_unsupervised[\"ChannelName\"]\n",
    "        .str.lower()\n",
    "        .str.contains(\"monitoring_arktika\")\n",
    "        | filtered_unsupervised[\"ChannelName\"]\n",
    "        .str.lower()\n",
    "        .str.contains(\"hze7fcbzsdhnzm0\")\n",
    "    )\n",
    "]"
   ]
  },
  {
   "cell_type": "code",
   "execution_count": 160,
   "id": "97f5ba77-8239-4a05-bb96-cb91e80b3ba2",
   "metadata": {
    "tags": []
   },
   "outputs": [
    {
     "data": {
      "text/html": [
       "<div>\n",
       "<style scoped>\n",
       "    .dataframe tbody tr th:only-of-type {\n",
       "        vertical-align: middle;\n",
       "    }\n",
       "\n",
       "    .dataframe tbody tr th {\n",
       "        vertical-align: top;\n",
       "    }\n",
       "\n",
       "    .dataframe thead th {\n",
       "        text-align: right;\n",
       "    }\n",
       "</style>\n",
       "<table border=\"1\" class=\"dataframe\">\n",
       "  <thead>\n",
       "    <tr style=\"text-align: right;\">\n",
       "      <th></th>\n",
       "      <th>ChannelName</th>\n",
       "      <th>Date</th>\n",
       "      <th>Content</th>\n",
       "    </tr>\n",
       "  </thead>\n",
       "  <tbody>\n",
       "    <tr>\n",
       "      <th>2551</th>\n",
       "      <td>russiancanadiannews</td>\n",
       "      <td>2023-10-01 02:24:50.000</td>\n",
       "      <td>⚡️⚡️ Вот и подключились украинские лоббисты в ...</td>\n",
       "    </tr>\n",
       "    <tr>\n",
       "      <th>2651</th>\n",
       "      <td>vesticrimea</td>\n",
       "      <td>2023-10-01 03:00:00.000</td>\n",
       "      <td>📚 Ещё 140 управленцев из новых регионов изучил...</td>\n",
       "    </tr>\n",
       "    <tr>\n",
       "      <th>2657</th>\n",
       "      <td>vesticrimea</td>\n",
       "      <td>2023-10-01 02:31:30.000</td>\n",
       "      <td>🇷🇺 Республика Крым активно способствует интегр...</td>\n",
       "    </tr>\n",
       "    <tr>\n",
       "      <th>2681</th>\n",
       "      <td>crimeanewscom</td>\n",
       "      <td>2023-10-01 03:15:26.000</td>\n",
       "      <td>В Крыму проходит молодёжный форум «Россия – эт...</td>\n",
       "    </tr>\n",
       "    <tr>\n",
       "      <th>3048</th>\n",
       "      <td>ostashkonews</td>\n",
       "      <td>2023-10-01 00:24:07.000</td>\n",
       "      <td>🇦🇿🇦🇲 Азербайджан демонстрирует новую партию за...</td>\n",
       "    </tr>\n",
       "    <tr>\n",
       "      <th>...</th>\n",
       "      <td>...</td>\n",
       "      <td>...</td>\n",
       "      <td>...</td>\n",
       "    </tr>\n",
       "    <tr>\n",
       "      <th>15681776</th>\n",
       "      <td>newsvladivostok</td>\n",
       "      <td>2023-10-27 00:26:48.000</td>\n",
       "      <td>Из за первоночалки и процентной ставки,постоян...</td>\n",
       "    </tr>\n",
       "    <tr>\n",
       "      <th>15681780</th>\n",
       "      <td>newsvladivostok</td>\n",
       "      <td>2023-10-27 03:09:21.000</td>\n",
       "      <td>Расскажи мне, половая щель, как и где ВСРЗ рем...</td>\n",
       "    </tr>\n",
       "    <tr>\n",
       "      <th>15681816</th>\n",
       "      <td>newsvladivostok</td>\n",
       "      <td>2023-10-27 01:22:24.000</td>\n",
       "      <td>Господя, а зачем ему это делать? \\nМоя подруга...</td>\n",
       "    </tr>\n",
       "    <tr>\n",
       "      <th>15681834</th>\n",
       "      <td>newsby_info</td>\n",
       "      <td>2023-10-27 03:01:37.000</td>\n",
       "      <td>☑️ Главные новости на утро 27  октября:\\n\\n🔹СШ...</td>\n",
       "    </tr>\n",
       "    <tr>\n",
       "      <th>15681846</th>\n",
       "      <td>tengrinews</td>\n",
       "      <td>2023-10-27 02:53:11.000</td>\n",
       "      <td>Экс-депутат маслихата Актобе Сания Муратова ар...</td>\n",
       "    </tr>\n",
       "  </tbody>\n",
       "</table>\n",
       "<p>81319 rows × 3 columns</p>\n",
       "</div>"
      ],
      "text/plain": [
       "                  ChannelName                     Date  \\\n",
       "2551      russiancanadiannews  2023-10-01 02:24:50.000   \n",
       "2651              vesticrimea  2023-10-01 03:00:00.000   \n",
       "2657              vesticrimea  2023-10-01 02:31:30.000   \n",
       "2681            crimeanewscom  2023-10-01 03:15:26.000   \n",
       "3048             ostashkonews  2023-10-01 00:24:07.000   \n",
       "...                       ...                      ...   \n",
       "15681776      newsvladivostok  2023-10-27 00:26:48.000   \n",
       "15681780      newsvladivostok  2023-10-27 03:09:21.000   \n",
       "15681816      newsvladivostok  2023-10-27 01:22:24.000   \n",
       "15681834          newsby_info  2023-10-27 03:01:37.000   \n",
       "15681846           tengrinews  2023-10-27 02:53:11.000   \n",
       "\n",
       "                                                    Content  \n",
       "2551      ⚡️⚡️ Вот и подключились украинские лоббисты в ...  \n",
       "2651      📚 Ещё 140 управленцев из новых регионов изучил...  \n",
       "2657      🇷🇺 Республика Крым активно способствует интегр...  \n",
       "2681      В Крыму проходит молодёжный форум «Россия – эт...  \n",
       "3048      🇦🇿🇦🇲 Азербайджан демонстрирует новую партию за...  \n",
       "...                                                     ...  \n",
       "15681776  Из за первоночалки и процентной ставки,постоян...  \n",
       "15681780  Расскажи мне, половая щель, как и где ВСРЗ рем...  \n",
       "15681816  Господя, а зачем ему это делать? \\nМоя подруга...  \n",
       "15681834  ☑️ Главные новости на утро 27  октября:\\n\\n🔹СШ...  \n",
       "15681846  Экс-депутат маслихата Актобе Сания Муратова ар...  \n",
       "\n",
       "[81319 rows x 3 columns]"
      ]
     },
     "execution_count": 160,
     "metadata": {},
     "output_type": "execute_result"
    }
   ],
   "source": [
    "filtered_unsupervised"
   ]
  },
  {
   "cell_type": "code",
   "execution_count": 161,
   "id": "454ce1f2-c700-468a-a332-4992e2c6e28b",
   "metadata": {
    "tags": []
   },
   "outputs": [],
   "source": [
    "filtered_unsupervised.to_csv(\"filtered_unsupervised_data2.0.csv\", index=False)"
   ]
  },
  {
   "cell_type": "code",
   "execution_count": 27,
   "id": "747d3118-af86-4a00-b9ce-0d1e7ab657a5",
   "metadata": {},
   "outputs": [
    {
     "name": "stderr",
     "output_type": "stream",
     "text": [
      "Batches: 100%|████████████████████████████████████████████████████████████████████████████| 37/37 [02:39<00:00,  4.31s/it]\n",
      "2023-11-19 06:37:28,100 - BERTopic - Transformed documents to Embeddings\n",
      "2023-11-19 06:37:30,054 - BERTopic - Reduced dimensionality\n",
      "2023-11-19 06:37:30,076 - BERTopic - Clustered reduced embeddings\n"
     ]
    }
   ],
   "source": [
    "from bertopic import BERTopic\n",
    "from hdbscan import HDBSCAN\n",
    "\n",
    "vectorizer_model = CountVectorizer(stop_words=stop_words, preprocessor=preprocess)\n",
    "hdbscan_model = HDBSCAN(\n",
    "    min_cluster_size=20,\n",
    "    metric=\"euclidean\",\n",
    "    cluster_selection_method=\"eom\",\n",
    "    prediction_data=True,\n",
    "    min_samples=20,\n",
    ")\n",
    "\n",
    "topic_model = BERTopic(\n",
    "    embedding_model=\"paraphrase-multilingual-mpnet-base-v2\",\n",
    "    verbose=True,\n",
    "    vectorizer_model=vectorizer_model,\n",
    "    hdbscan_model=hdbscan_model,\n",
    "    min_topic_size=20,\n",
    ")\n",
    "\n",
    "topics, probs = topic_model.fit_transform(test[\"Content\"].to_list())"
   ]
  },
  {
   "cell_type": "code",
   "execution_count": 28,
   "id": "27f11a6c-d427-4039-afb3-9b1f27ce5e97",
   "metadata": {
    "tags": []
   },
   "outputs": [
    {
     "data": {
      "text/html": [
       "<div>\n",
       "<style scoped>\n",
       "    .dataframe tbody tr th:only-of-type {\n",
       "        vertical-align: middle;\n",
       "    }\n",
       "\n",
       "    .dataframe tbody tr th {\n",
       "        vertical-align: top;\n",
       "    }\n",
       "\n",
       "    .dataframe thead th {\n",
       "        text-align: right;\n",
       "    }\n",
       "</style>\n",
       "<table border=\"1\" class=\"dataframe\">\n",
       "  <thead>\n",
       "    <tr style=\"text-align: right;\">\n",
       "      <th></th>\n",
       "      <th>Topic</th>\n",
       "      <th>Count</th>\n",
       "      <th>Name</th>\n",
       "      <th>Representation</th>\n",
       "      <th>Representative_Docs</th>\n",
       "    </tr>\n",
       "  </thead>\n",
       "  <tbody>\n",
       "    <tr>\n",
       "      <th>0</th>\n",
       "      <td>-1</td>\n",
       "      <td>450</td>\n",
       "      <td>-1_это_сша_россии_заявил</td>\n",
       "      <td>[это, сша, россии, заявил, время, года, которы...</td>\n",
       "      <td>[\"Счастливого конца не будет\", - заявил Зеленс...</td>\n",
       "    </tr>\n",
       "    <tr>\n",
       "      <th>1</th>\n",
       "      <td>0</td>\n",
       "      <td>155</td>\n",
       "      <td>0_всу_направлении_районе_области</td>\n",
       "      <td>[всу, направлении, районе, области, противник,...</td>\n",
       "      <td>[❗️ Главное из нового брифинга Минобороны Росс...</td>\n",
       "    </tr>\n",
       "    <tr>\n",
       "      <th>2</th>\n",
       "      <td>1</td>\n",
       "      <td>146</td>\n",
       "      <td>1_это_россии_лет_всем</td>\n",
       "      <td>[это, россии, лет, всем, году, всё, людей, кот...</td>\n",
       "      <td>[ДУМНЫЕ ДЬЯКИ И ЖЕЛЕЗНЫЙ ФЕЛИКС\\n\\nНа установл...</td>\n",
       "    </tr>\n",
       "    <tr>\n",
       "      <th>3</th>\n",
       "      <td>2</td>\n",
       "      <td>91</td>\n",
       "      <td>2_это_украины_зеленский_украине</td>\n",
       "      <td>[это, украины, зеленский, украине, сша, войну,...</td>\n",
       "      <td>[Вы только посмотрите, что Зеленский наговорил...</td>\n",
       "    </tr>\n",
       "    <tr>\n",
       "      <th>4</th>\n",
       "      <td>3</td>\n",
       "      <td>72</td>\n",
       "      <td>3_ким_чен_ын_кндр</td>\n",
       "      <td>[ким, чен, ын, кндр, путин, россию, путина, вс...</td>\n",
       "      <td>[❗️Лидер КНДР Ким Чен Ын по приглашению Путина...</td>\n",
       "    </tr>\n",
       "    <tr>\n",
       "      <th>5</th>\n",
       "      <td>4</td>\n",
       "      <td>63</td>\n",
       "      <td>4_выборы_выборах_выборов_регионах</td>\n",
       "      <td>[выборы, выборах, выборов, регионах, лдпр, гол...</td>\n",
       "      <td>[Выборы глав регионов были самыми неконкурентн...</td>\n",
       "    </tr>\n",
       "    <tr>\n",
       "      <th>6</th>\n",
       "      <td>5</td>\n",
       "      <td>34</td>\n",
       "      <td>5_коррупцию_деньги_украины_зеленского</td>\n",
       "      <td>[коррупцию, деньги, украины, зеленского, прези...</td>\n",
       "      <td>[Глава фракции «Слуга народа» Давид Арахамия н...</td>\n",
       "    </tr>\n",
       "    <tr>\n",
       "      <th>7</th>\n",
       "      <td>6</td>\n",
       "      <td>31</td>\n",
       "      <td>6_армении_армян_азербайджана_армии</td>\n",
       "      <td>[армении, армян, азербайджана, армии, арменией...</td>\n",
       "      <td>[Пашинян последовательно уничтожает Армению. Т...</td>\n",
       "    </tr>\n",
       "    <tr>\n",
       "      <th>8</th>\n",
       "      <td>7</td>\n",
       "      <td>29</td>\n",
       "      <td>7_суд_колонии_режима_натаров</td>\n",
       "      <td>[суд, колонии, режима, натаров, строгого, приг...</td>\n",
       "      <td>[⚡️⚡️Высокопоставленный педофил-коррупционер п...</td>\n",
       "    </tr>\n",
       "    <tr>\n",
       "      <th>9</th>\n",
       "      <td>8</td>\n",
       "      <td>28</td>\n",
       "      <td>8_курс_рублей_цб_рост</td>\n",
       "      <td>[курс, рублей, цб, рост, рубля, уровне, руб, д...</td>\n",
       "      <td>[Кабмин прогнозирует курс доллара в следующем ...</td>\n",
       "    </tr>\n",
       "    <tr>\n",
       "      <th>10</th>\n",
       "      <td>9</td>\n",
       "      <td>26</td>\n",
       "      <td>9_ес_граждан_страны_вещи</td>\n",
       "      <td>[ес, граждан, страны, вещи, личные, россиян, л...</td>\n",
       "      <td>[🇪🇺🇷🇺В ЕС усиливают охоту за имуществом гражда...</td>\n",
       "    </tr>\n",
       "    <tr>\n",
       "      <th>11</th>\n",
       "      <td>10</td>\n",
       "      <td>24</td>\n",
       "      <td>10_бербок_taurus_мид_киев</td>\n",
       "      <td>[бербок, taurus, мид, киев, германии, украине,...</td>\n",
       "      <td>[Решения о поставках Германией дальнобойных ра...</td>\n",
       "    </tr>\n",
       "    <tr>\n",
       "      <th>12</th>\n",
       "      <td>11</td>\n",
       "      <td>22</td>\n",
       "      <td>11_пво_ракет_himars_комплексов</td>\n",
       "      <td>[пво, ракет, himars, комплексов, целей, нашу, ...</td>\n",
       "      <td>[Постепенно наша система ПВО закрывает небо в ...</td>\n",
       "    </tr>\n",
       "  </tbody>\n",
       "</table>\n",
       "</div>"
      ],
      "text/plain": [
       "    Topic  Count                                   Name  \\\n",
       "0      -1    450               -1_это_сша_россии_заявил   \n",
       "1       0    155       0_всу_направлении_районе_области   \n",
       "2       1    146                  1_это_россии_лет_всем   \n",
       "3       2     91        2_это_украины_зеленский_украине   \n",
       "4       3     72                      3_ким_чен_ын_кндр   \n",
       "5       4     63      4_выборы_выборах_выборов_регионах   \n",
       "6       5     34  5_коррупцию_деньги_украины_зеленского   \n",
       "7       6     31     6_армении_армян_азербайджана_армии   \n",
       "8       7     29           7_суд_колонии_режима_натаров   \n",
       "9       8     28                  8_курс_рублей_цб_рост   \n",
       "10      9     26               9_ес_граждан_страны_вещи   \n",
       "11     10     24              10_бербок_taurus_мид_киев   \n",
       "12     11     22         11_пво_ракет_himars_комплексов   \n",
       "\n",
       "                                       Representation  \\\n",
       "0   [это, сша, россии, заявил, время, года, которы...   \n",
       "1   [всу, направлении, районе, области, противник,...   \n",
       "2   [это, россии, лет, всем, году, всё, людей, кот...   \n",
       "3   [это, украины, зеленский, украине, сша, войну,...   \n",
       "4   [ким, чен, ын, кндр, путин, россию, путина, вс...   \n",
       "5   [выборы, выборах, выборов, регионах, лдпр, гол...   \n",
       "6   [коррупцию, деньги, украины, зеленского, прези...   \n",
       "7   [армении, армян, азербайджана, армии, арменией...   \n",
       "8   [суд, колонии, режима, натаров, строгого, приг...   \n",
       "9   [курс, рублей, цб, рост, рубля, уровне, руб, д...   \n",
       "10  [ес, граждан, страны, вещи, личные, россиян, л...   \n",
       "11  [бербок, taurus, мид, киев, германии, украине,...   \n",
       "12  [пво, ракет, himars, комплексов, целей, нашу, ...   \n",
       "\n",
       "                                  Representative_Docs  \n",
       "0   [\"Счастливого конца не будет\", - заявил Зеленс...  \n",
       "1   [❗️ Главное из нового брифинга Минобороны Росс...  \n",
       "2   [ДУМНЫЕ ДЬЯКИ И ЖЕЛЕЗНЫЙ ФЕЛИКС\\n\\nНа установл...  \n",
       "3   [Вы только посмотрите, что Зеленский наговорил...  \n",
       "4   [❗️Лидер КНДР Ким Чен Ын по приглашению Путина...  \n",
       "5   [Выборы глав регионов были самыми неконкурентн...  \n",
       "6   [Глава фракции «Слуга народа» Давид Арахамия н...  \n",
       "7   [Пашинян последовательно уничтожает Армению. Т...  \n",
       "8   [⚡️⚡️Высокопоставленный педофил-коррупционер п...  \n",
       "9   [Кабмин прогнозирует курс доллара в следующем ...  \n",
       "10  [🇪🇺🇷🇺В ЕС усиливают охоту за имуществом гражда...  \n",
       "11  [Решения о поставках Германией дальнобойных ра...  \n",
       "12  [Постепенно наша система ПВО закрывает небо в ...  "
      ]
     },
     "execution_count": 28,
     "metadata": {},
     "output_type": "execute_result"
    }
   ],
   "source": [
    "topic_model.get_topic_info()"
   ]
  },
  {
   "cell_type": "code",
   "execution_count": 29,
   "id": "88696be7-532b-496b-877d-07a141b9e8c4",
   "metadata": {
    "tags": []
   },
   "outputs": [
    {
     "data": {
      "application/vnd.plotly.v1+json": {
       "config": {
        "plotlyServerURL": "https://plot.ly"
       },
       "data": [
        {
         "customdata": [
          [
           0,
           "всу | направлении | районе | области | противник",
           155
          ],
          [
           1,
           "это | россии | лет | всем | году",
           146
          ],
          [
           2,
           "это | украины | зеленский | украине | сша",
           91
          ],
          [
           3,
           "ким | чен | ын | кндр | путин",
           72
          ],
          [
           4,
           "выборы | выборах | выборов | регионах | лдпр",
           63
          ],
          [
           5,
           "коррупцию | деньги | украины | зеленского | президент",
           34
          ],
          [
           6,
           "армении | армян | азербайджана | армии | арменией",
           31
          ],
          [
           7,
           "суд | колонии | режима | натаров | строгого",
           29
          ],
          [
           8,
           "курс | рублей | цб | рост | рубля",
           28
          ],
          [
           9,
           "ес | граждан | страны | вещи | личные",
           26
          ],
          [
           10,
           "бербок | taurus | мид | киев | германии",
           24
          ],
          [
           11,
           "пво | ракет | himars | комплексов | целей",
           22
          ]
         ],
         "hovertemplate": "<b>Topic %{customdata[0]}</b><br>%{customdata[1]}<br>Size: %{customdata[2]}",
         "legendgroup": "",
         "marker": {
          "color": "#B0BEC5",
          "line": {
           "color": "DarkSlateGrey",
           "width": 2
          },
          "size": [
           155,
           146,
           91,
           72,
           63,
           34,
           31,
           29,
           28,
           26,
           24,
           22
          ],
          "sizemode": "area",
          "sizeref": 0.096875,
          "symbol": "circle"
         },
         "mode": "markers",
         "name": "",
         "orientation": "v",
         "showlegend": false,
         "type": "scatter",
         "x": [
          19.859304428100586,
          3.9575014114379883,
          4.13382625579834,
          3.109264850616455,
          3.516695261001587,
          4.022012233734131,
          4.214986801147461,
          3.8818984031677246,
          4.553261756896973,
          3.6716151237487793,
          4.7891645431518555,
          19.63408660888672
         ],
         "xaxis": "x",
         "y": [
          -1.0262670516967773,
          17.97611427307129,
          16.237396240234375,
          18.229167938232422,
          17.74598503112793,
          16.71014976501465,
          15.647367477416992,
          18.507770538330078,
          16.315847396850586,
          16.129505157470703,
          16.897117614746094,
          -0.8010368347167969
         ],
         "yaxis": "y"
        }
       ],
       "layout": {
        "annotations": [
         {
          "showarrow": false,
          "text": "D1",
          "x": 2.6428751230239866,
          "y": 10.051864504814148,
          "yshift": 10
         },
         {
          "showarrow": false,
          "text": "D2",
          "x": 12.74053760766983,
          "xshift": 10,
          "y": 21.28393611907959
         }
        ],
        "height": 650,
        "hoverlabel": {
         "bgcolor": "white",
         "font": {
          "family": "Rockwell",
          "size": 16
         }
        },
        "legend": {
         "itemsizing": "constant",
         "tracegroupgap": 0
        },
        "margin": {
         "t": 60
        },
        "shapes": [
         {
          "line": {
           "color": "#CFD8DC",
           "width": 2
          },
          "type": "line",
          "x0": 12.74053760766983,
          "x1": 12.74053760766983,
          "y0": -1.180207109451294,
          "y1": 21.28393611907959
         },
         {
          "line": {
           "color": "#9E9E9E",
           "width": 2
          },
          "type": "line",
          "x0": 2.6428751230239866,
          "x1": 22.838200092315674,
          "y0": 10.051864504814148,
          "y1": 10.051864504814148
         }
        ],
        "sliders": [
         {
          "active": 0,
          "pad": {
           "t": 50
          },
          "steps": [
           {
            "args": [
             {
              "marker.color": [
               [
                "red",
                "#B0BEC5",
                "#B0BEC5",
                "#B0BEC5",
                "#B0BEC5",
                "#B0BEC5",
                "#B0BEC5",
                "#B0BEC5",
                "#B0BEC5",
                "#B0BEC5",
                "#B0BEC5",
                "#B0BEC5"
               ]
              ]
             }
            ],
            "label": "Topic 0",
            "method": "update"
           },
           {
            "args": [
             {
              "marker.color": [
               [
                "#B0BEC5",
                "red",
                "#B0BEC5",
                "#B0BEC5",
                "#B0BEC5",
                "#B0BEC5",
                "#B0BEC5",
                "#B0BEC5",
                "#B0BEC5",
                "#B0BEC5",
                "#B0BEC5",
                "#B0BEC5"
               ]
              ]
             }
            ],
            "label": "Topic 1",
            "method": "update"
           },
           {
            "args": [
             {
              "marker.color": [
               [
                "#B0BEC5",
                "#B0BEC5",
                "red",
                "#B0BEC5",
                "#B0BEC5",
                "#B0BEC5",
                "#B0BEC5",
                "#B0BEC5",
                "#B0BEC5",
                "#B0BEC5",
                "#B0BEC5",
                "#B0BEC5"
               ]
              ]
             }
            ],
            "label": "Topic 2",
            "method": "update"
           },
           {
            "args": [
             {
              "marker.color": [
               [
                "#B0BEC5",
                "#B0BEC5",
                "#B0BEC5",
                "red",
                "#B0BEC5",
                "#B0BEC5",
                "#B0BEC5",
                "#B0BEC5",
                "#B0BEC5",
                "#B0BEC5",
                "#B0BEC5",
                "#B0BEC5"
               ]
              ]
             }
            ],
            "label": "Topic 3",
            "method": "update"
           },
           {
            "args": [
             {
              "marker.color": [
               [
                "#B0BEC5",
                "#B0BEC5",
                "#B0BEC5",
                "#B0BEC5",
                "red",
                "#B0BEC5",
                "#B0BEC5",
                "#B0BEC5",
                "#B0BEC5",
                "#B0BEC5",
                "#B0BEC5",
                "#B0BEC5"
               ]
              ]
             }
            ],
            "label": "Topic 4",
            "method": "update"
           },
           {
            "args": [
             {
              "marker.color": [
               [
                "#B0BEC5",
                "#B0BEC5",
                "#B0BEC5",
                "#B0BEC5",
                "#B0BEC5",
                "red",
                "#B0BEC5",
                "#B0BEC5",
                "#B0BEC5",
                "#B0BEC5",
                "#B0BEC5",
                "#B0BEC5"
               ]
              ]
             }
            ],
            "label": "Topic 5",
            "method": "update"
           },
           {
            "args": [
             {
              "marker.color": [
               [
                "#B0BEC5",
                "#B0BEC5",
                "#B0BEC5",
                "#B0BEC5",
                "#B0BEC5",
                "#B0BEC5",
                "red",
                "#B0BEC5",
                "#B0BEC5",
                "#B0BEC5",
                "#B0BEC5",
                "#B0BEC5"
               ]
              ]
             }
            ],
            "label": "Topic 6",
            "method": "update"
           },
           {
            "args": [
             {
              "marker.color": [
               [
                "#B0BEC5",
                "#B0BEC5",
                "#B0BEC5",
                "#B0BEC5",
                "#B0BEC5",
                "#B0BEC5",
                "#B0BEC5",
                "red",
                "#B0BEC5",
                "#B0BEC5",
                "#B0BEC5",
                "#B0BEC5"
               ]
              ]
             }
            ],
            "label": "Topic 7",
            "method": "update"
           },
           {
            "args": [
             {
              "marker.color": [
               [
                "#B0BEC5",
                "#B0BEC5",
                "#B0BEC5",
                "#B0BEC5",
                "#B0BEC5",
                "#B0BEC5",
                "#B0BEC5",
                "#B0BEC5",
                "red",
                "#B0BEC5",
                "#B0BEC5",
                "#B0BEC5"
               ]
              ]
             }
            ],
            "label": "Topic 8",
            "method": "update"
           },
           {
            "args": [
             {
              "marker.color": [
               [
                "#B0BEC5",
                "#B0BEC5",
                "#B0BEC5",
                "#B0BEC5",
                "#B0BEC5",
                "#B0BEC5",
                "#B0BEC5",
                "#B0BEC5",
                "#B0BEC5",
                "red",
                "#B0BEC5",
                "#B0BEC5"
               ]
              ]
             }
            ],
            "label": "Topic 9",
            "method": "update"
           },
           {
            "args": [
             {
              "marker.color": [
               [
                "#B0BEC5",
                "#B0BEC5",
                "#B0BEC5",
                "#B0BEC5",
                "#B0BEC5",
                "#B0BEC5",
                "#B0BEC5",
                "#B0BEC5",
                "#B0BEC5",
                "#B0BEC5",
                "red",
                "#B0BEC5"
               ]
              ]
             }
            ],
            "label": "Topic 10",
            "method": "update"
           },
           {
            "args": [
             {
              "marker.color": [
               [
                "#B0BEC5",
                "#B0BEC5",
                "#B0BEC5",
                "#B0BEC5",
                "#B0BEC5",
                "#B0BEC5",
                "#B0BEC5",
                "#B0BEC5",
                "#B0BEC5",
                "#B0BEC5",
                "#B0BEC5",
                "red"
               ]
              ]
             }
            ],
            "label": "Topic 11",
            "method": "update"
           }
          ]
         }
        ],
        "template": {
         "data": {
          "bar": [
           {
            "error_x": {
             "color": "rgb(36,36,36)"
            },
            "error_y": {
             "color": "rgb(36,36,36)"
            },
            "marker": {
             "line": {
              "color": "white",
              "width": 0.5
             },
             "pattern": {
              "fillmode": "overlay",
              "size": 10,
              "solidity": 0.2
             }
            },
            "type": "bar"
           }
          ],
          "barpolar": [
           {
            "marker": {
             "line": {
              "color": "white",
              "width": 0.5
             },
             "pattern": {
              "fillmode": "overlay",
              "size": 10,
              "solidity": 0.2
             }
            },
            "type": "barpolar"
           }
          ],
          "carpet": [
           {
            "aaxis": {
             "endlinecolor": "rgb(36,36,36)",
             "gridcolor": "white",
             "linecolor": "white",
             "minorgridcolor": "white",
             "startlinecolor": "rgb(36,36,36)"
            },
            "baxis": {
             "endlinecolor": "rgb(36,36,36)",
             "gridcolor": "white",
             "linecolor": "white",
             "minorgridcolor": "white",
             "startlinecolor": "rgb(36,36,36)"
            },
            "type": "carpet"
           }
          ],
          "choropleth": [
           {
            "colorbar": {
             "outlinewidth": 1,
             "tickcolor": "rgb(36,36,36)",
             "ticks": "outside"
            },
            "type": "choropleth"
           }
          ],
          "contour": [
           {
            "colorbar": {
             "outlinewidth": 1,
             "tickcolor": "rgb(36,36,36)",
             "ticks": "outside"
            },
            "colorscale": [
             [
              0,
              "#440154"
             ],
             [
              0.1111111111111111,
              "#482878"
             ],
             [
              0.2222222222222222,
              "#3e4989"
             ],
             [
              0.3333333333333333,
              "#31688e"
             ],
             [
              0.4444444444444444,
              "#26828e"
             ],
             [
              0.5555555555555556,
              "#1f9e89"
             ],
             [
              0.6666666666666666,
              "#35b779"
             ],
             [
              0.7777777777777778,
              "#6ece58"
             ],
             [
              0.8888888888888888,
              "#b5de2b"
             ],
             [
              1,
              "#fde725"
             ]
            ],
            "type": "contour"
           }
          ],
          "contourcarpet": [
           {
            "colorbar": {
             "outlinewidth": 1,
             "tickcolor": "rgb(36,36,36)",
             "ticks": "outside"
            },
            "type": "contourcarpet"
           }
          ],
          "heatmap": [
           {
            "colorbar": {
             "outlinewidth": 1,
             "tickcolor": "rgb(36,36,36)",
             "ticks": "outside"
            },
            "colorscale": [
             [
              0,
              "#440154"
             ],
             [
              0.1111111111111111,
              "#482878"
             ],
             [
              0.2222222222222222,
              "#3e4989"
             ],
             [
              0.3333333333333333,
              "#31688e"
             ],
             [
              0.4444444444444444,
              "#26828e"
             ],
             [
              0.5555555555555556,
              "#1f9e89"
             ],
             [
              0.6666666666666666,
              "#35b779"
             ],
             [
              0.7777777777777778,
              "#6ece58"
             ],
             [
              0.8888888888888888,
              "#b5de2b"
             ],
             [
              1,
              "#fde725"
             ]
            ],
            "type": "heatmap"
           }
          ],
          "heatmapgl": [
           {
            "colorbar": {
             "outlinewidth": 1,
             "tickcolor": "rgb(36,36,36)",
             "ticks": "outside"
            },
            "colorscale": [
             [
              0,
              "#440154"
             ],
             [
              0.1111111111111111,
              "#482878"
             ],
             [
              0.2222222222222222,
              "#3e4989"
             ],
             [
              0.3333333333333333,
              "#31688e"
             ],
             [
              0.4444444444444444,
              "#26828e"
             ],
             [
              0.5555555555555556,
              "#1f9e89"
             ],
             [
              0.6666666666666666,
              "#35b779"
             ],
             [
              0.7777777777777778,
              "#6ece58"
             ],
             [
              0.8888888888888888,
              "#b5de2b"
             ],
             [
              1,
              "#fde725"
             ]
            ],
            "type": "heatmapgl"
           }
          ],
          "histogram": [
           {
            "marker": {
             "line": {
              "color": "white",
              "width": 0.6
             }
            },
            "type": "histogram"
           }
          ],
          "histogram2d": [
           {
            "colorbar": {
             "outlinewidth": 1,
             "tickcolor": "rgb(36,36,36)",
             "ticks": "outside"
            },
            "colorscale": [
             [
              0,
              "#440154"
             ],
             [
              0.1111111111111111,
              "#482878"
             ],
             [
              0.2222222222222222,
              "#3e4989"
             ],
             [
              0.3333333333333333,
              "#31688e"
             ],
             [
              0.4444444444444444,
              "#26828e"
             ],
             [
              0.5555555555555556,
              "#1f9e89"
             ],
             [
              0.6666666666666666,
              "#35b779"
             ],
             [
              0.7777777777777778,
              "#6ece58"
             ],
             [
              0.8888888888888888,
              "#b5de2b"
             ],
             [
              1,
              "#fde725"
             ]
            ],
            "type": "histogram2d"
           }
          ],
          "histogram2dcontour": [
           {
            "colorbar": {
             "outlinewidth": 1,
             "tickcolor": "rgb(36,36,36)",
             "ticks": "outside"
            },
            "colorscale": [
             [
              0,
              "#440154"
             ],
             [
              0.1111111111111111,
              "#482878"
             ],
             [
              0.2222222222222222,
              "#3e4989"
             ],
             [
              0.3333333333333333,
              "#31688e"
             ],
             [
              0.4444444444444444,
              "#26828e"
             ],
             [
              0.5555555555555556,
              "#1f9e89"
             ],
             [
              0.6666666666666666,
              "#35b779"
             ],
             [
              0.7777777777777778,
              "#6ece58"
             ],
             [
              0.8888888888888888,
              "#b5de2b"
             ],
             [
              1,
              "#fde725"
             ]
            ],
            "type": "histogram2dcontour"
           }
          ],
          "mesh3d": [
           {
            "colorbar": {
             "outlinewidth": 1,
             "tickcolor": "rgb(36,36,36)",
             "ticks": "outside"
            },
            "type": "mesh3d"
           }
          ],
          "parcoords": [
           {
            "line": {
             "colorbar": {
              "outlinewidth": 1,
              "tickcolor": "rgb(36,36,36)",
              "ticks": "outside"
             }
            },
            "type": "parcoords"
           }
          ],
          "pie": [
           {
            "automargin": true,
            "type": "pie"
           }
          ],
          "scatter": [
           {
            "fillpattern": {
             "fillmode": "overlay",
             "size": 10,
             "solidity": 0.2
            },
            "type": "scatter"
           }
          ],
          "scatter3d": [
           {
            "line": {
             "colorbar": {
              "outlinewidth": 1,
              "tickcolor": "rgb(36,36,36)",
              "ticks": "outside"
             }
            },
            "marker": {
             "colorbar": {
              "outlinewidth": 1,
              "tickcolor": "rgb(36,36,36)",
              "ticks": "outside"
             }
            },
            "type": "scatter3d"
           }
          ],
          "scattercarpet": [
           {
            "marker": {
             "colorbar": {
              "outlinewidth": 1,
              "tickcolor": "rgb(36,36,36)",
              "ticks": "outside"
             }
            },
            "type": "scattercarpet"
           }
          ],
          "scattergeo": [
           {
            "marker": {
             "colorbar": {
              "outlinewidth": 1,
              "tickcolor": "rgb(36,36,36)",
              "ticks": "outside"
             }
            },
            "type": "scattergeo"
           }
          ],
          "scattergl": [
           {
            "marker": {
             "colorbar": {
              "outlinewidth": 1,
              "tickcolor": "rgb(36,36,36)",
              "ticks": "outside"
             }
            },
            "type": "scattergl"
           }
          ],
          "scattermapbox": [
           {
            "marker": {
             "colorbar": {
              "outlinewidth": 1,
              "tickcolor": "rgb(36,36,36)",
              "ticks": "outside"
             }
            },
            "type": "scattermapbox"
           }
          ],
          "scatterpolar": [
           {
            "marker": {
             "colorbar": {
              "outlinewidth": 1,
              "tickcolor": "rgb(36,36,36)",
              "ticks": "outside"
             }
            },
            "type": "scatterpolar"
           }
          ],
          "scatterpolargl": [
           {
            "marker": {
             "colorbar": {
              "outlinewidth": 1,
              "tickcolor": "rgb(36,36,36)",
              "ticks": "outside"
             }
            },
            "type": "scatterpolargl"
           }
          ],
          "scatterternary": [
           {
            "marker": {
             "colorbar": {
              "outlinewidth": 1,
              "tickcolor": "rgb(36,36,36)",
              "ticks": "outside"
             }
            },
            "type": "scatterternary"
           }
          ],
          "surface": [
           {
            "colorbar": {
             "outlinewidth": 1,
             "tickcolor": "rgb(36,36,36)",
             "ticks": "outside"
            },
            "colorscale": [
             [
              0,
              "#440154"
             ],
             [
              0.1111111111111111,
              "#482878"
             ],
             [
              0.2222222222222222,
              "#3e4989"
             ],
             [
              0.3333333333333333,
              "#31688e"
             ],
             [
              0.4444444444444444,
              "#26828e"
             ],
             [
              0.5555555555555556,
              "#1f9e89"
             ],
             [
              0.6666666666666666,
              "#35b779"
             ],
             [
              0.7777777777777778,
              "#6ece58"
             ],
             [
              0.8888888888888888,
              "#b5de2b"
             ],
             [
              1,
              "#fde725"
             ]
            ],
            "type": "surface"
           }
          ],
          "table": [
           {
            "cells": {
             "fill": {
              "color": "rgb(237,237,237)"
             },
             "line": {
              "color": "white"
             }
            },
            "header": {
             "fill": {
              "color": "rgb(217,217,217)"
             },
             "line": {
              "color": "white"
             }
            },
            "type": "table"
           }
          ]
         },
         "layout": {
          "annotationdefaults": {
           "arrowhead": 0,
           "arrowwidth": 1
          },
          "autotypenumbers": "strict",
          "coloraxis": {
           "colorbar": {
            "outlinewidth": 1,
            "tickcolor": "rgb(36,36,36)",
            "ticks": "outside"
           }
          },
          "colorscale": {
           "diverging": [
            [
             0,
             "rgb(103,0,31)"
            ],
            [
             0.1,
             "rgb(178,24,43)"
            ],
            [
             0.2,
             "rgb(214,96,77)"
            ],
            [
             0.3,
             "rgb(244,165,130)"
            ],
            [
             0.4,
             "rgb(253,219,199)"
            ],
            [
             0.5,
             "rgb(247,247,247)"
            ],
            [
             0.6,
             "rgb(209,229,240)"
            ],
            [
             0.7,
             "rgb(146,197,222)"
            ],
            [
             0.8,
             "rgb(67,147,195)"
            ],
            [
             0.9,
             "rgb(33,102,172)"
            ],
            [
             1,
             "rgb(5,48,97)"
            ]
           ],
           "sequential": [
            [
             0,
             "#440154"
            ],
            [
             0.1111111111111111,
             "#482878"
            ],
            [
             0.2222222222222222,
             "#3e4989"
            ],
            [
             0.3333333333333333,
             "#31688e"
            ],
            [
             0.4444444444444444,
             "#26828e"
            ],
            [
             0.5555555555555556,
             "#1f9e89"
            ],
            [
             0.6666666666666666,
             "#35b779"
            ],
            [
             0.7777777777777778,
             "#6ece58"
            ],
            [
             0.8888888888888888,
             "#b5de2b"
            ],
            [
             1,
             "#fde725"
            ]
           ],
           "sequentialminus": [
            [
             0,
             "#440154"
            ],
            [
             0.1111111111111111,
             "#482878"
            ],
            [
             0.2222222222222222,
             "#3e4989"
            ],
            [
             0.3333333333333333,
             "#31688e"
            ],
            [
             0.4444444444444444,
             "#26828e"
            ],
            [
             0.5555555555555556,
             "#1f9e89"
            ],
            [
             0.6666666666666666,
             "#35b779"
            ],
            [
             0.7777777777777778,
             "#6ece58"
            ],
            [
             0.8888888888888888,
             "#b5de2b"
            ],
            [
             1,
             "#fde725"
            ]
           ]
          },
          "colorway": [
           "#1F77B4",
           "#FF7F0E",
           "#2CA02C",
           "#D62728",
           "#9467BD",
           "#8C564B",
           "#E377C2",
           "#7F7F7F",
           "#BCBD22",
           "#17BECF"
          ],
          "font": {
           "color": "rgb(36,36,36)"
          },
          "geo": {
           "bgcolor": "white",
           "lakecolor": "white",
           "landcolor": "white",
           "showlakes": true,
           "showland": true,
           "subunitcolor": "white"
          },
          "hoverlabel": {
           "align": "left"
          },
          "hovermode": "closest",
          "mapbox": {
           "style": "light"
          },
          "paper_bgcolor": "white",
          "plot_bgcolor": "white",
          "polar": {
           "angularaxis": {
            "gridcolor": "rgb(232,232,232)",
            "linecolor": "rgb(36,36,36)",
            "showgrid": false,
            "showline": true,
            "ticks": "outside"
           },
           "bgcolor": "white",
           "radialaxis": {
            "gridcolor": "rgb(232,232,232)",
            "linecolor": "rgb(36,36,36)",
            "showgrid": false,
            "showline": true,
            "ticks": "outside"
           }
          },
          "scene": {
           "xaxis": {
            "backgroundcolor": "white",
            "gridcolor": "rgb(232,232,232)",
            "gridwidth": 2,
            "linecolor": "rgb(36,36,36)",
            "showbackground": true,
            "showgrid": false,
            "showline": true,
            "ticks": "outside",
            "zeroline": false,
            "zerolinecolor": "rgb(36,36,36)"
           },
           "yaxis": {
            "backgroundcolor": "white",
            "gridcolor": "rgb(232,232,232)",
            "gridwidth": 2,
            "linecolor": "rgb(36,36,36)",
            "showbackground": true,
            "showgrid": false,
            "showline": true,
            "ticks": "outside",
            "zeroline": false,
            "zerolinecolor": "rgb(36,36,36)"
           },
           "zaxis": {
            "backgroundcolor": "white",
            "gridcolor": "rgb(232,232,232)",
            "gridwidth": 2,
            "linecolor": "rgb(36,36,36)",
            "showbackground": true,
            "showgrid": false,
            "showline": true,
            "ticks": "outside",
            "zeroline": false,
            "zerolinecolor": "rgb(36,36,36)"
           }
          },
          "shapedefaults": {
           "fillcolor": "black",
           "line": {
            "width": 0
           },
           "opacity": 0.3
          },
          "ternary": {
           "aaxis": {
            "gridcolor": "rgb(232,232,232)",
            "linecolor": "rgb(36,36,36)",
            "showgrid": false,
            "showline": true,
            "ticks": "outside"
           },
           "baxis": {
            "gridcolor": "rgb(232,232,232)",
            "linecolor": "rgb(36,36,36)",
            "showgrid": false,
            "showline": true,
            "ticks": "outside"
           },
           "bgcolor": "white",
           "caxis": {
            "gridcolor": "rgb(232,232,232)",
            "linecolor": "rgb(36,36,36)",
            "showgrid": false,
            "showline": true,
            "ticks": "outside"
           }
          },
          "title": {
           "x": 0.05
          },
          "xaxis": {
           "automargin": true,
           "gridcolor": "rgb(232,232,232)",
           "linecolor": "rgb(36,36,36)",
           "showgrid": false,
           "showline": true,
           "ticks": "outside",
           "title": {
            "standoff": 15
           },
           "zeroline": false,
           "zerolinecolor": "rgb(36,36,36)"
          },
          "yaxis": {
           "automargin": true,
           "gridcolor": "rgb(232,232,232)",
           "linecolor": "rgb(36,36,36)",
           "showgrid": false,
           "showline": true,
           "ticks": "outside",
           "title": {
            "standoff": 15
           },
           "zeroline": false,
           "zerolinecolor": "rgb(36,36,36)"
          }
         }
        },
        "title": {
         "font": {
          "color": "Black",
          "size": 22
         },
         "text": "<b>Intertopic Distance Map</b>",
         "x": 0.5,
         "xanchor": "center",
         "y": 0.95,
         "yanchor": "top"
        },
        "width": 650,
        "xaxis": {
         "anchor": "y",
         "domain": [
          0,
          1
         ],
         "range": [
          2.6428751230239866,
          22.838200092315674
         ],
         "title": {
          "text": ""
         },
         "type": "linear",
         "visible": false
        },
        "yaxis": {
         "anchor": "x",
         "domain": [
          0,
          1
         ],
         "range": [
          -1.180207109451294,
          21.28393611907959
         ],
         "title": {
          "text": ""
         },
         "type": "linear",
         "visible": false
        }
       }
      },
      "image/png": "[encoded data removed]",
      "text/html": [
       "<div>                            <div id=\"360906be-c2ab-4a1e-987e-1216aecba14d\" class=\"plotly-graph-div\" style=\"height:650px; width:650px;\"></div>            <script type=\"text/javascript\">                require([\"plotly\"], function(Plotly) {                    window.PLOTLYENV=window.PLOTLYENV || {};                                    if (document.getElementById(\"360906be-c2ab-4a1e-987e-1216aecba14d\")) {                    Plotly.newPlot(                        \"360906be-c2ab-4a1e-987e-1216aecba14d\",                        [{\"customdata\":[[0,\"\\u0432\\u0441\\u0443 | \\u043d\\u0430\\u043f\\u0440\\u0430\\u0432\\u043b\\u0435\\u043d\\u0438\\u0438 | \\u0440\\u0430\\u0439\\u043e\\u043d\\u0435 | \\u043e\\u0431\\u043b\\u0430\\u0441\\u0442\\u0438 | \\u043f\\u0440\\u043e\\u0442\\u0438\\u0432\\u043d\\u0438\\u043a\",155],[1,\"\\u044d\\u0442\\u043e | \\u0440\\u043e\\u0441\\u0441\\u0438\\u0438 | \\u043b\\u0435\\u0442 | \\u0432\\u0441\\u0435\\u043c | \\u0433\\u043e\\u0434\\u0443\",146],[2,\"\\u044d\\u0442\\u043e | \\u0443\\u043a\\u0440\\u0430\\u0438\\u043d\\u044b | \\u0437\\u0435\\u043b\\u0435\\u043d\\u0441\\u043a\\u0438\\u0439 | \\u0443\\u043a\\u0440\\u0430\\u0438\\u043d\\u0435 | \\u0441\\u0448\\u0430\",91],[3,\"\\u043a\\u0438\\u043c | \\u0447\\u0435\\u043d | \\u044b\\u043d | \\u043a\\u043d\\u0434\\u0440 | \\u043f\\u0443\\u0442\\u0438\\u043d\",72],[4,\"\\u0432\\u044b\\u0431\\u043e\\u0440\\u044b | \\u0432\\u044b\\u0431\\u043e\\u0440\\u0430\\u0445 | \\u0432\\u044b\\u0431\\u043e\\u0440\\u043e\\u0432 | \\u0440\\u0435\\u0433\\u0438\\u043e\\u043d\\u0430\\u0445 | \\u043b\\u0434\\u043f\\u0440\",63],[5,\"\\u043a\\u043e\\u0440\\u0440\\u0443\\u043f\\u0446\\u0438\\u044e | \\u0434\\u0435\\u043d\\u044c\\u0433\\u0438 | \\u0443\\u043a\\u0440\\u0430\\u0438\\u043d\\u044b | \\u0437\\u0435\\u043b\\u0435\\u043d\\u0441\\u043a\\u043e\\u0433\\u043e | \\u043f\\u0440\\u0435\\u0437\\u0438\\u0434\\u0435\\u043d\\u0442\",34],[6,\"\\u0430\\u0440\\u043c\\u0435\\u043d\\u0438\\u0438 | \\u0430\\u0440\\u043c\\u044f\\u043d | \\u0430\\u0437\\u0435\\u0440\\u0431\\u0430\\u0439\\u0434\\u0436\\u0430\\u043d\\u0430 | \\u0430\\u0440\\u043c\\u0438\\u0438 | \\u0430\\u0440\\u043c\\u0435\\u043d\\u0438\\u0435\\u0439\",31],[7,\"\\u0441\\u0443\\u0434 | \\u043a\\u043e\\u043b\\u043e\\u043d\\u0438\\u0438 | \\u0440\\u0435\\u0436\\u0438\\u043c\\u0430 | \\u043d\\u0430\\u0442\\u0430\\u0440\\u043e\\u0432 | \\u0441\\u0442\\u0440\\u043e\\u0433\\u043e\\u0433\\u043e\",29],[8,\"\\u043a\\u0443\\u0440\\u0441 | \\u0440\\u0443\\u0431\\u043b\\u0435\\u0439 | \\u0446\\u0431 | \\u0440\\u043e\\u0441\\u0442 | \\u0440\\u0443\\u0431\\u043b\\u044f\",28],[9,\"\\u0435\\u0441 | \\u0433\\u0440\\u0430\\u0436\\u0434\\u0430\\u043d | \\u0441\\u0442\\u0440\\u0430\\u043d\\u044b | \\u0432\\u0435\\u0449\\u0438 | \\u043b\\u0438\\u0447\\u043d\\u044b\\u0435\",26],[10,\"\\u0431\\u0435\\u0440\\u0431\\u043e\\u043a | taurus | \\u043c\\u0438\\u0434 | \\u043a\\u0438\\u0435\\u0432 | \\u0433\\u0435\\u0440\\u043c\\u0430\\u043d\\u0438\\u0438\",24],[11,\"\\u043f\\u0432\\u043e | \\u0440\\u0430\\u043a\\u0435\\u0442 | himars | \\u043a\\u043e\\u043c\\u043f\\u043b\\u0435\\u043a\\u0441\\u043e\\u0432 | \\u0446\\u0435\\u043b\\u0435\\u0439\",22]],\"hovertemplate\":\"\\u003cb\\u003eTopic %{customdata[0]}\\u003c\\u002fb\\u003e\\u003cbr\\u003e%{customdata[1]}\\u003cbr\\u003eSize: %{customdata[2]}\",\"legendgroup\":\"\",\"marker\":{\"color\":\"#B0BEC5\",\"size\":[155,146,91,72,63,34,31,29,28,26,24,22],\"sizemode\":\"area\",\"sizeref\":0.096875,\"symbol\":\"circle\",\"line\":{\"color\":\"DarkSlateGrey\",\"width\":2}},\"mode\":\"markers\",\"name\":\"\",\"orientation\":\"v\",\"showlegend\":false,\"x\":[19.859304428100586,3.9575014114379883,4.13382625579834,3.109264850616455,3.516695261001587,4.022012233734131,4.214986801147461,3.8818984031677246,4.553261756896973,3.6716151237487793,4.7891645431518555,19.63408660888672],\"xaxis\":\"x\",\"y\":[-1.0262670516967773,17.97611427307129,16.237396240234375,18.229167938232422,17.74598503112793,16.71014976501465,15.647367477416992,18.507770538330078,16.315847396850586,16.129505157470703,16.897117614746094,-0.8010368347167969],\"yaxis\":\"y\",\"type\":\"scatter\"}],                        {\"template\":{\"data\":{\"barpolar\":[{\"marker\":{\"line\":{\"color\":\"white\",\"width\":0.5},\"pattern\":{\"fillmode\":\"overlay\",\"size\":10,\"solidity\":0.2}},\"type\":\"barpolar\"}],\"bar\":[{\"error_x\":{\"color\":\"rgb(36,36,36)\"},\"error_y\":{\"color\":\"rgb(36,36,36)\"},\"marker\":{\"line\":{\"color\":\"white\",\"width\":0.5},\"pattern\":{\"fillmode\":\"overlay\",\"size\":10,\"solidity\":0.2}},\"type\":\"bar\"}],\"carpet\":[{\"aaxis\":{\"endlinecolor\":\"rgb(36,36,36)\",\"gridcolor\":\"white\",\"linecolor\":\"white\",\"minorgridcolor\":\"white\",\"startlinecolor\":\"rgb(36,36,36)\"},\"baxis\":{\"endlinecolor\":\"rgb(36,36,36)\",\"gridcolor\":\"white\",\"linecolor\":\"white\",\"minorgridcolor\":\"white\",\"startlinecolor\":\"rgb(36,36,36)\"},\"type\":\"carpet\"}],\"choropleth\":[{\"colorbar\":{\"outlinewidth\":1,\"tickcolor\":\"rgb(36,36,36)\",\"ticks\":\"outside\"},\"type\":\"choropleth\"}],\"contourcarpet\":[{\"colorbar\":{\"outlinewidth\":1,\"tickcolor\":\"rgb(36,36,36)\",\"ticks\":\"outside\"},\"type\":\"contourcarpet\"}],\"contour\":[{\"colorbar\":{\"outlinewidth\":1,\"tickcolor\":\"rgb(36,36,36)\",\"ticks\":\"outside\"},\"colorscale\":[[0.0,\"#440154\"],[0.1111111111111111,\"#482878\"],[0.2222222222222222,\"#3e4989\"],[0.3333333333333333,\"#31688e\"],[0.4444444444444444,\"#26828e\"],[0.5555555555555556,\"#1f9e89\"],[0.6666666666666666,\"#35b779\"],[0.7777777777777778,\"#6ece58\"],[0.8888888888888888,\"#b5de2b\"],[1.0,\"#fde725\"]],\"type\":\"contour\"}],\"heatmapgl\":[{\"colorbar\":{\"outlinewidth\":1,\"tickcolor\":\"rgb(36,36,36)\",\"ticks\":\"outside\"},\"colorscale\":[[0.0,\"#440154\"],[0.1111111111111111,\"#482878\"],[0.2222222222222222,\"#3e4989\"],[0.3333333333333333,\"#31688e\"],[0.4444444444444444,\"#26828e\"],[0.5555555555555556,\"#1f9e89\"],[0.6666666666666666,\"#35b779\"],[0.7777777777777778,\"#6ece58\"],[0.8888888888888888,\"#b5de2b\"],[1.0,\"#fde725\"]],\"type\":\"heatmapgl\"}],\"heatmap\":[{\"colorbar\":{\"outlinewidth\":1,\"tickcolor\":\"rgb(36,36,36)\",\"ticks\":\"outside\"},\"colorscale\":[[0.0,\"#440154\"],[0.1111111111111111,\"#482878\"],[0.2222222222222222,\"#3e4989\"],[0.3333333333333333,\"#31688e\"],[0.4444444444444444,\"#26828e\"],[0.5555555555555556,\"#1f9e89\"],[0.6666666666666666,\"#35b779\"],[0.7777777777777778,\"#6ece58\"],[0.8888888888888888,\"#b5de2b\"],[1.0,\"#fde725\"]],\"type\":\"heatmap\"}],\"histogram2dcontour\":[{\"colorbar\":{\"outlinewidth\":1,\"tickcolor\":\"rgb(36,36,36)\",\"ticks\":\"outside\"},\"colorscale\":[[0.0,\"#440154\"],[0.1111111111111111,\"#482878\"],[0.2222222222222222,\"#3e4989\"],[0.3333333333333333,\"#31688e\"],[0.4444444444444444,\"#26828e\"],[0.5555555555555556,\"#1f9e89\"],[0.6666666666666666,\"#35b779\"],[0.7777777777777778,\"#6ece58\"],[0.8888888888888888,\"#b5de2b\"],[1.0,\"#fde725\"]],\"type\":\"histogram2dcontour\"}],\"histogram2d\":[{\"colorbar\":{\"outlinewidth\":1,\"tickcolor\":\"rgb(36,36,36)\",\"ticks\":\"outside\"},\"colorscale\":[[0.0,\"#440154\"],[0.1111111111111111,\"#482878\"],[0.2222222222222222,\"#3e4989\"],[0.3333333333333333,\"#31688e\"],[0.4444444444444444,\"#26828e\"],[0.5555555555555556,\"#1f9e89\"],[0.6666666666666666,\"#35b779\"],[0.7777777777777778,\"#6ece58\"],[0.8888888888888888,\"#b5de2b\"],[1.0,\"#fde725\"]],\"type\":\"histogram2d\"}],\"histogram\":[{\"marker\":{\"line\":{\"color\":\"white\",\"width\":0.6}},\"type\":\"histogram\"}],\"mesh3d\":[{\"colorbar\":{\"outlinewidth\":1,\"tickcolor\":\"rgb(36,36,36)\",\"ticks\":\"outside\"},\"type\":\"mesh3d\"}],\"parcoords\":[{\"line\":{\"colorbar\":{\"outlinewidth\":1,\"tickcolor\":\"rgb(36,36,36)\",\"ticks\":\"outside\"}},\"type\":\"parcoords\"}],\"pie\":[{\"automargin\":true,\"type\":\"pie\"}],\"scatter3d\":[{\"line\":{\"colorbar\":{\"outlinewidth\":1,\"tickcolor\":\"rgb(36,36,36)\",\"ticks\":\"outside\"}},\"marker\":{\"colorbar\":{\"outlinewidth\":1,\"tickcolor\":\"rgb(36,36,36)\",\"ticks\":\"outside\"}},\"type\":\"scatter3d\"}],\"scattercarpet\":[{\"marker\":{\"colorbar\":{\"outlinewidth\":1,\"tickcolor\":\"rgb(36,36,36)\",\"ticks\":\"outside\"}},\"type\":\"scattercarpet\"}],\"scattergeo\":[{\"marker\":{\"colorbar\":{\"outlinewidth\":1,\"tickcolor\":\"rgb(36,36,36)\",\"ticks\":\"outside\"}},\"type\":\"scattergeo\"}],\"scattergl\":[{\"marker\":{\"colorbar\":{\"outlinewidth\":1,\"tickcolor\":\"rgb(36,36,36)\",\"ticks\":\"outside\"}},\"type\":\"scattergl\"}],\"scattermapbox\":[{\"marker\":{\"colorbar\":{\"outlinewidth\":1,\"tickcolor\":\"rgb(36,36,36)\",\"ticks\":\"outside\"}},\"type\":\"scattermapbox\"}],\"scatterpolargl\":[{\"marker\":{\"colorbar\":{\"outlinewidth\":1,\"tickcolor\":\"rgb(36,36,36)\",\"ticks\":\"outside\"}},\"type\":\"scatterpolargl\"}],\"scatterpolar\":[{\"marker\":{\"colorbar\":{\"outlinewidth\":1,\"tickcolor\":\"rgb(36,36,36)\",\"ticks\":\"outside\"}},\"type\":\"scatterpolar\"}],\"scatter\":[{\"fillpattern\":{\"fillmode\":\"overlay\",\"size\":10,\"solidity\":0.2},\"type\":\"scatter\"}],\"scatterternary\":[{\"marker\":{\"colorbar\":{\"outlinewidth\":1,\"tickcolor\":\"rgb(36,36,36)\",\"ticks\":\"outside\"}},\"type\":\"scatterternary\"}],\"surface\":[{\"colorbar\":{\"outlinewidth\":1,\"tickcolor\":\"rgb(36,36,36)\",\"ticks\":\"outside\"},\"colorscale\":[[0.0,\"#440154\"],[0.1111111111111111,\"#482878\"],[0.2222222222222222,\"#3e4989\"],[0.3333333333333333,\"#31688e\"],[0.4444444444444444,\"#26828e\"],[0.5555555555555556,\"#1f9e89\"],[0.6666666666666666,\"#35b779\"],[0.7777777777777778,\"#6ece58\"],[0.8888888888888888,\"#b5de2b\"],[1.0,\"#fde725\"]],\"type\":\"surface\"}],\"table\":[{\"cells\":{\"fill\":{\"color\":\"rgb(237,237,237)\"},\"line\":{\"color\":\"white\"}},\"header\":{\"fill\":{\"color\":\"rgb(217,217,217)\"},\"line\":{\"color\":\"white\"}},\"type\":\"table\"}]},\"layout\":{\"annotationdefaults\":{\"arrowhead\":0,\"arrowwidth\":1},\"autotypenumbers\":\"strict\",\"coloraxis\":{\"colorbar\":{\"outlinewidth\":1,\"tickcolor\":\"rgb(36,36,36)\",\"ticks\":\"outside\"}},\"colorscale\":{\"diverging\":[[0.0,\"rgb(103,0,31)\"],[0.1,\"rgb(178,24,43)\"],[0.2,\"rgb(214,96,77)\"],[0.3,\"rgb(244,165,130)\"],[0.4,\"rgb(253,219,199)\"],[0.5,\"rgb(247,247,247)\"],[0.6,\"rgb(209,229,240)\"],[0.7,\"rgb(146,197,222)\"],[0.8,\"rgb(67,147,195)\"],[0.9,\"rgb(33,102,172)\"],[1.0,\"rgb(5,48,97)\"]],\"sequential\":[[0.0,\"#440154\"],[0.1111111111111111,\"#482878\"],[0.2222222222222222,\"#3e4989\"],[0.3333333333333333,\"#31688e\"],[0.4444444444444444,\"#26828e\"],[0.5555555555555556,\"#1f9e89\"],[0.6666666666666666,\"#35b779\"],[0.7777777777777778,\"#6ece58\"],[0.8888888888888888,\"#b5de2b\"],[1.0,\"#fde725\"]],\"sequentialminus\":[[0.0,\"#440154\"],[0.1111111111111111,\"#482878\"],[0.2222222222222222,\"#3e4989\"],[0.3333333333333333,\"#31688e\"],[0.4444444444444444,\"#26828e\"],[0.5555555555555556,\"#1f9e89\"],[0.6666666666666666,\"#35b779\"],[0.7777777777777778,\"#6ece58\"],[0.8888888888888888,\"#b5de2b\"],[1.0,\"#fde725\"]]},\"colorway\":[\"#1F77B4\",\"#FF7F0E\",\"#2CA02C\",\"#D62728\",\"#9467BD\",\"#8C564B\",\"#E377C2\",\"#7F7F7F\",\"#BCBD22\",\"#17BECF\"],\"font\":{\"color\":\"rgb(36,36,36)\"},\"geo\":{\"bgcolor\":\"white\",\"lakecolor\":\"white\",\"landcolor\":\"white\",\"showlakes\":true,\"showland\":true,\"subunitcolor\":\"white\"},\"hoverlabel\":{\"align\":\"left\"},\"hovermode\":\"closest\",\"mapbox\":{\"style\":\"light\"},\"paper_bgcolor\":\"white\",\"plot_bgcolor\":\"white\",\"polar\":{\"angularaxis\":{\"gridcolor\":\"rgb(232,232,232)\",\"linecolor\":\"rgb(36,36,36)\",\"showgrid\":false,\"showline\":true,\"ticks\":\"outside\"},\"bgcolor\":\"white\",\"radialaxis\":{\"gridcolor\":\"rgb(232,232,232)\",\"linecolor\":\"rgb(36,36,36)\",\"showgrid\":false,\"showline\":true,\"ticks\":\"outside\"}},\"scene\":{\"xaxis\":{\"backgroundcolor\":\"white\",\"gridcolor\":\"rgb(232,232,232)\",\"gridwidth\":2,\"linecolor\":\"rgb(36,36,36)\",\"showbackground\":true,\"showgrid\":false,\"showline\":true,\"ticks\":\"outside\",\"zeroline\":false,\"zerolinecolor\":\"rgb(36,36,36)\"},\"yaxis\":{\"backgroundcolor\":\"white\",\"gridcolor\":\"rgb(232,232,232)\",\"gridwidth\":2,\"linecolor\":\"rgb(36,36,36)\",\"showbackground\":true,\"showgrid\":false,\"showline\":true,\"ticks\":\"outside\",\"zeroline\":false,\"zerolinecolor\":\"rgb(36,36,36)\"},\"zaxis\":{\"backgroundcolor\":\"white\",\"gridcolor\":\"rgb(232,232,232)\",\"gridwidth\":2,\"linecolor\":\"rgb(36,36,36)\",\"showbackground\":true,\"showgrid\":false,\"showline\":true,\"ticks\":\"outside\",\"zeroline\":false,\"zerolinecolor\":\"rgb(36,36,36)\"}},\"shapedefaults\":{\"fillcolor\":\"black\",\"line\":{\"width\":0},\"opacity\":0.3},\"ternary\":{\"aaxis\":{\"gridcolor\":\"rgb(232,232,232)\",\"linecolor\":\"rgb(36,36,36)\",\"showgrid\":false,\"showline\":true,\"ticks\":\"outside\"},\"baxis\":{\"gridcolor\":\"rgb(232,232,232)\",\"linecolor\":\"rgb(36,36,36)\",\"showgrid\":false,\"showline\":true,\"ticks\":\"outside\"},\"bgcolor\":\"white\",\"caxis\":{\"gridcolor\":\"rgb(232,232,232)\",\"linecolor\":\"rgb(36,36,36)\",\"showgrid\":false,\"showline\":true,\"ticks\":\"outside\"}},\"title\":{\"x\":0.05},\"xaxis\":{\"automargin\":true,\"gridcolor\":\"rgb(232,232,232)\",\"linecolor\":\"rgb(36,36,36)\",\"showgrid\":false,\"showline\":true,\"ticks\":\"outside\",\"title\":{\"standoff\":15},\"zeroline\":false,\"zerolinecolor\":\"rgb(36,36,36)\"},\"yaxis\":{\"automargin\":true,\"gridcolor\":\"rgb(232,232,232)\",\"linecolor\":\"rgb(36,36,36)\",\"showgrid\":false,\"showline\":true,\"ticks\":\"outside\",\"title\":{\"standoff\":15},\"zeroline\":false,\"zerolinecolor\":\"rgb(36,36,36)\"}}},\"xaxis\":{\"anchor\":\"y\",\"domain\":[0.0,1.0],\"title\":{\"text\":\"\"},\"visible\":false,\"range\":[2.6428751230239866,22.838200092315674]},\"yaxis\":{\"anchor\":\"x\",\"domain\":[0.0,1.0],\"title\":{\"text\":\"\"},\"visible\":false,\"range\":[-1.180207109451294,21.28393611907959]},\"legend\":{\"tracegroupgap\":0,\"itemsizing\":\"constant\"},\"margin\":{\"t\":60},\"title\":{\"font\":{\"size\":22,\"color\":\"Black\"},\"text\":\"\\u003cb\\u003eIntertopic Distance Map\\u003c\\u002fb\\u003e\",\"y\":0.95,\"x\":0.5,\"xanchor\":\"center\",\"yanchor\":\"top\"},\"hoverlabel\":{\"font\":{\"size\":16,\"family\":\"Rockwell\"},\"bgcolor\":\"white\"},\"width\":650,\"height\":650,\"sliders\":[{\"active\":0,\"pad\":{\"t\":50},\"steps\":[{\"args\":[{\"marker.color\":[[\"red\",\"#B0BEC5\",\"#B0BEC5\",\"#B0BEC5\",\"#B0BEC5\",\"#B0BEC5\",\"#B0BEC5\",\"#B0BEC5\",\"#B0BEC5\",\"#B0BEC5\",\"#B0BEC5\",\"#B0BEC5\"]]}],\"label\":\"Topic 0\",\"method\":\"update\"},{\"args\":[{\"marker.color\":[[\"#B0BEC5\",\"red\",\"#B0BEC5\",\"#B0BEC5\",\"#B0BEC5\",\"#B0BEC5\",\"#B0BEC5\",\"#B0BEC5\",\"#B0BEC5\",\"#B0BEC5\",\"#B0BEC5\",\"#B0BEC5\"]]}],\"label\":\"Topic 1\",\"method\":\"update\"},{\"args\":[{\"marker.color\":[[\"#B0BEC5\",\"#B0BEC5\",\"red\",\"#B0BEC5\",\"#B0BEC5\",\"#B0BEC5\",\"#B0BEC5\",\"#B0BEC5\",\"#B0BEC5\",\"#B0BEC5\",\"#B0BEC5\",\"#B0BEC5\"]]}],\"label\":\"Topic 2\",\"method\":\"update\"},{\"args\":[{\"marker.color\":[[\"#B0BEC5\",\"#B0BEC5\",\"#B0BEC5\",\"red\",\"#B0BEC5\",\"#B0BEC5\",\"#B0BEC5\",\"#B0BEC5\",\"#B0BEC5\",\"#B0BEC5\",\"#B0BEC5\",\"#B0BEC5\"]]}],\"label\":\"Topic 3\",\"method\":\"update\"},{\"args\":[{\"marker.color\":[[\"#B0BEC5\",\"#B0BEC5\",\"#B0BEC5\",\"#B0BEC5\",\"red\",\"#B0BEC5\",\"#B0BEC5\",\"#B0BEC5\",\"#B0BEC5\",\"#B0BEC5\",\"#B0BEC5\",\"#B0BEC5\"]]}],\"label\":\"Topic 4\",\"method\":\"update\"},{\"args\":[{\"marker.color\":[[\"#B0BEC5\",\"#B0BEC5\",\"#B0BEC5\",\"#B0BEC5\",\"#B0BEC5\",\"red\",\"#B0BEC5\",\"#B0BEC5\",\"#B0BEC5\",\"#B0BEC5\",\"#B0BEC5\",\"#B0BEC5\"]]}],\"label\":\"Topic 5\",\"method\":\"update\"},{\"args\":[{\"marker.color\":[[\"#B0BEC5\",\"#B0BEC5\",\"#B0BEC5\",\"#B0BEC5\",\"#B0BEC5\",\"#B0BEC5\",\"red\",\"#B0BEC5\",\"#B0BEC5\",\"#B0BEC5\",\"#B0BEC5\",\"#B0BEC5\"]]}],\"label\":\"Topic 6\",\"method\":\"update\"},{\"args\":[{\"marker.color\":[[\"#B0BEC5\",\"#B0BEC5\",\"#B0BEC5\",\"#B0BEC5\",\"#B0BEC5\",\"#B0BEC5\",\"#B0BEC5\",\"red\",\"#B0BEC5\",\"#B0BEC5\",\"#B0BEC5\",\"#B0BEC5\"]]}],\"label\":\"Topic 7\",\"method\":\"update\"},{\"args\":[{\"marker.color\":[[\"#B0BEC5\",\"#B0BEC5\",\"#B0BEC5\",\"#B0BEC5\",\"#B0BEC5\",\"#B0BEC5\",\"#B0BEC5\",\"#B0BEC5\",\"red\",\"#B0BEC5\",\"#B0BEC5\",\"#B0BEC5\"]]}],\"label\":\"Topic 8\",\"method\":\"update\"},{\"args\":[{\"marker.color\":[[\"#B0BEC5\",\"#B0BEC5\",\"#B0BEC5\",\"#B0BEC5\",\"#B0BEC5\",\"#B0BEC5\",\"#B0BEC5\",\"#B0BEC5\",\"#B0BEC5\",\"red\",\"#B0BEC5\",\"#B0BEC5\"]]}],\"label\":\"Topic 9\",\"method\":\"update\"},{\"args\":[{\"marker.color\":[[\"#B0BEC5\",\"#B0BEC5\",\"#B0BEC5\",\"#B0BEC5\",\"#B0BEC5\",\"#B0BEC5\",\"#B0BEC5\",\"#B0BEC5\",\"#B0BEC5\",\"#B0BEC5\",\"red\",\"#B0BEC5\"]]}],\"label\":\"Topic 10\",\"method\":\"update\"},{\"args\":[{\"marker.color\":[[\"#B0BEC5\",\"#B0BEC5\",\"#B0BEC5\",\"#B0BEC5\",\"#B0BEC5\",\"#B0BEC5\",\"#B0BEC5\",\"#B0BEC5\",\"#B0BEC5\",\"#B0BEC5\",\"#B0BEC5\",\"red\"]]}],\"label\":\"Topic 11\",\"method\":\"update\"}]}],\"shapes\":[{\"line\":{\"color\":\"#CFD8DC\",\"width\":2},\"type\":\"line\",\"x0\":12.74053760766983,\"x1\":12.74053760766983,\"y0\":-1.180207109451294,\"y1\":21.28393611907959},{\"line\":{\"color\":\"#9E9E9E\",\"width\":2},\"type\":\"line\",\"x0\":2.6428751230239866,\"x1\":22.838200092315674,\"y0\":10.051864504814148,\"y1\":10.051864504814148}],\"annotations\":[{\"showarrow\":false,\"text\":\"D1\",\"x\":2.6428751230239866,\"y\":10.051864504814148,\"yshift\":10},{\"showarrow\":false,\"text\":\"D2\",\"x\":12.74053760766983,\"xshift\":10,\"y\":21.28393611907959}]},                        {\"responsive\": true}                    ).then(function(){\n",
       "                            \n",
       "var gd = document.getElementById('360906be-c2ab-4a1e-987e-1216aecba14d');\n",
       "var x = new MutationObserver(function (mutations, observer) {{\n",
       "        var display = window.getComputedStyle(gd).display;\n",
       "        if (!display || display === 'none') {{\n",
       "            console.log([gd, 'removed!']);\n",
       "            Plotly.purge(gd);\n",
       "            observer.disconnect();\n",
       "        }}\n",
       "}});\n",
       "\n",
       "// Listen for the removal of the full notebook cells\n",
       "var notebookContainer = gd.closest('#notebook-container');\n",
       "if (notebookContainer) {{\n",
       "    x.observe(notebookContainer, {childList: true});\n",
       "}}\n",
       "\n",
       "// Listen for the clearing of the current output cell\n",
       "var outputEl = gd.closest('.output');\n",
       "if (outputEl) {{\n",
       "    x.observe(outputEl, {childList: true});\n",
       "}}\n",
       "\n",
       "                        })                };                });            </script>        </div>"
      ]
     },
     "metadata": {},
     "output_type": "display_data"
    }
   ],
   "source": [
    "topic_model.visualize_topics()"
   ]
  },
  {
   "cell_type": "code",
   "execution_count": null,
   "id": "9eda302c-5ab7-4486-a5c8-aab6307f1931",
   "metadata": {},
   "outputs": [],
   "source": []
  }
 ],
 "metadata": {
  "kernelspec": {
   "display_name": "ai-house-disinformation-detection",
   "language": "python",
   "name": "ai-house-disinformation-detection"
  },
  "language_info": {
   "codemirror_mode": {
    "name": "ipython",
    "version": 3
   },
   "file_extension": ".py",
   "mimetype": "text/x-python",
   "name": "python",
   "nbconvert_exporter": "python",
   "pygments_lexer": "ipython3",
   "version": "3.10.13"
  }
 },
 "nbformat": 4,
 "nbformat_minor": 5
}
