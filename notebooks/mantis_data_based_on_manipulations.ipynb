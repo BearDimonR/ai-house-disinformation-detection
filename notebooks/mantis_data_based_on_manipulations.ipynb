{
 "cells": [
  {
   "cell_type": "code",
   "execution_count": 47,
   "outputs": [],
   "source": [
    "import os\n",
    "import pandas as pd\n",
    "import numpy as np\n"
   ],
   "metadata": {
    "collapsed": false,
    "ExecuteTime": {
     "start_time": "2023-11-18T18:25:53.901265Z",
     "end_time": "2023-11-18T18:25:53.911034Z"
    }
   }
  },
  {
   "cell_type": "code",
   "execution_count": 48,
   "metadata": {
    "collapsed": true,
    "ExecuteTime": {
     "start_time": "2023-11-18T18:25:54.118426Z",
     "end_time": "2023-11-18T18:25:54.132447Z"
    }
   },
   "outputs": [],
   "source": [
    "root_dir = '../datasets/'\n",
    "mantis_dir = 'mantis_rus_dataset/mantis_rus_dataset'\n",
    "dirs2check = [\"dev\", \"train\", \"test\"]\n",
    "file_pair = {}\n",
    "\n",
    "for d2check in dirs2check:\n",
    "    for fname in os.listdir(os.path.join(root_dir, mantis_dir, d2check)):\n",
    "        name = os.path.join(d2check, fname.split(\".\")[0])\n",
    "        file_pair[name] = file_pair.get(name, []) + [fname]"
   ]
  },
  {
   "cell_type": "code",
   "execution_count": 49,
   "outputs": [],
   "source": [
    "texts = []\n",
    "manips = []\n",
    "for k, v in file_pair.items():\n",
    "    with open(os.path.join(root_dir, mantis_dir, k + \".txt\"), \"r\") as f:\n",
    "        texts.append(\" \".join(f.readlines()))\n",
    "\n",
    "    with open(os.path.join(root_dir, mantis_dir, k + \".labels.tsv\"), \"r\") as f:\n",
    "        manips.append(f.readlines())"
   ],
   "metadata": {
    "collapsed": false,
    "ExecuteTime": {
     "start_time": "2023-11-18T18:25:54.503926Z",
     "end_time": "2023-11-18T18:25:54.762089Z"
    }
   }
  },
  {
   "cell_type": "code",
   "execution_count": 50,
   "outputs": [
    {
     "name": "stdout",
     "output_type": "stream",
     "text": [
      "Объявленные в отношении ВТБ санкции позволяют банку и контрагентам в США постепенно завершить операции, заявил член правления ВТБ.\n",
      "['00534_05653\\tAppeal_to_Authority\\t104\\t130\\n']\n"
     ]
    }
   ],
   "source": [
    "print(texts[0])\n",
    "print(manips[0])"
   ],
   "metadata": {
    "collapsed": false,
    "ExecuteTime": {
     "start_time": "2023-11-18T18:25:55.165050Z",
     "end_time": "2023-11-18T18:25:55.173063Z"
    }
   }
  },
  {
   "cell_type": "code",
   "execution_count": 51,
   "outputs": [],
   "source": [
    "manip_df = pd.DataFrame({\"Content\": texts, \"manipulations\": manips}, columns=[\"Content\", \"manipulations\"])"
   ],
   "metadata": {
    "collapsed": false,
    "ExecuteTime": {
     "start_time": "2023-11-18T18:25:57.338181Z",
     "end_time": "2023-11-18T18:25:57.343440Z"
    }
   }
  },
  {
   "cell_type": "code",
   "execution_count": 52,
   "outputs": [],
   "source": [
    "manip_df[\"manipulations_nums\"] = manip_df[\"manipulations\"].apply(lambda x: len(x))"
   ],
   "metadata": {
    "collapsed": false,
    "ExecuteTime": {
     "start_time": "2023-11-18T18:25:57.711568Z",
     "end_time": "2023-11-18T18:25:57.717240Z"
    }
   }
  },
  {
   "cell_type": "code",
   "execution_count": 53,
   "outputs": [
    {
     "data": {
      "text/plain": "                                             Content   \n0  Объявленные в отношении ВТБ санкции позволяют ...  \\\n1  Советник главы офиса президента Украины Михаил...   \n2  Советник главы Офиса президента Арестович заяв...   \n3  Стало известно, почему был нанесен удар по кие...   \n4  А все потому, что шаббат заканчивается в суббо...   \n\n                                       manipulations  manipulations_nums  \n0     [00534_05653\\tAppeal_to_Authority\\t104\\t130\\n]                   1  \n1  [00890_05009\\tLoaded_Language\\t136\\t161\\n, 008...                   2  \n2  [00339_07749\\tAppeal_to_Authority\\t166\\t181\\n,...                   2  \n3  [08765_07686\\tCausal_Oversimplification\\t16\\t8...                   1  \n4                                                 []                   0  ",
      "text/html": "<div>\n<style scoped>\n    .dataframe tbody tr th:only-of-type {\n        vertical-align: middle;\n    }\n\n    .dataframe tbody tr th {\n        vertical-align: top;\n    }\n\n    .dataframe thead th {\n        text-align: right;\n    }\n</style>\n<table border=\"1\" class=\"dataframe\">\n  <thead>\n    <tr style=\"text-align: right;\">\n      <th></th>\n      <th>Content</th>\n      <th>manipulations</th>\n      <th>manipulations_nums</th>\n    </tr>\n  </thead>\n  <tbody>\n    <tr>\n      <th>0</th>\n      <td>Объявленные в отношении ВТБ санкции позволяют ...</td>\n      <td>[00534_05653\\tAppeal_to_Authority\\t104\\t130\\n]</td>\n      <td>1</td>\n    </tr>\n    <tr>\n      <th>1</th>\n      <td>Советник главы офиса президента Украины Михаил...</td>\n      <td>[00890_05009\\tLoaded_Language\\t136\\t161\\n, 008...</td>\n      <td>2</td>\n    </tr>\n    <tr>\n      <th>2</th>\n      <td>Советник главы Офиса президента Арестович заяв...</td>\n      <td>[00339_07749\\tAppeal_to_Authority\\t166\\t181\\n,...</td>\n      <td>2</td>\n    </tr>\n    <tr>\n      <th>3</th>\n      <td>Стало известно, почему был нанесен удар по кие...</td>\n      <td>[08765_07686\\tCausal_Oversimplification\\t16\\t8...</td>\n      <td>1</td>\n    </tr>\n    <tr>\n      <th>4</th>\n      <td>А все потому, что шаббат заканчивается в суббо...</td>\n      <td>[]</td>\n      <td>0</td>\n    </tr>\n  </tbody>\n</table>\n</div>"
     },
     "execution_count": 53,
     "metadata": {},
     "output_type": "execute_result"
    }
   ],
   "source": [
    "manip_df.head()"
   ],
   "metadata": {
    "collapsed": false,
    "ExecuteTime": {
     "start_time": "2023-11-18T18:25:58.481487Z",
     "end_time": "2023-11-18T18:25:58.487971Z"
    }
   }
  },
  {
   "cell_type": "code",
   "execution_count": 54,
   "outputs": [
    {
     "data": {
      "text/plain": "       manipulations_nums\ncount         1255.000000\nmean             2.115538\nstd              4.073708\nmin              0.000000\n25%              0.000000\n50%              1.000000\n75%              2.000000\nmax             58.000000",
      "text/html": "<div>\n<style scoped>\n    .dataframe tbody tr th:only-of-type {\n        vertical-align: middle;\n    }\n\n    .dataframe tbody tr th {\n        vertical-align: top;\n    }\n\n    .dataframe thead th {\n        text-align: right;\n    }\n</style>\n<table border=\"1\" class=\"dataframe\">\n  <thead>\n    <tr style=\"text-align: right;\">\n      <th></th>\n      <th>manipulations_nums</th>\n    </tr>\n  </thead>\n  <tbody>\n    <tr>\n      <th>count</th>\n      <td>1255.000000</td>\n    </tr>\n    <tr>\n      <th>mean</th>\n      <td>2.115538</td>\n    </tr>\n    <tr>\n      <th>std</th>\n      <td>4.073708</td>\n    </tr>\n    <tr>\n      <th>min</th>\n      <td>0.000000</td>\n    </tr>\n    <tr>\n      <th>25%</th>\n      <td>0.000000</td>\n    </tr>\n    <tr>\n      <th>50%</th>\n      <td>1.000000</td>\n    </tr>\n    <tr>\n      <th>75%</th>\n      <td>2.000000</td>\n    </tr>\n    <tr>\n      <th>max</th>\n      <td>58.000000</td>\n    </tr>\n  </tbody>\n</table>\n</div>"
     },
     "execution_count": 54,
     "metadata": {},
     "output_type": "execute_result"
    }
   ],
   "source": [
    "manip_df.describe()"
   ],
   "metadata": {
    "collapsed": false,
    "ExecuteTime": {
     "start_time": "2023-11-18T18:26:00.046710Z",
     "end_time": "2023-11-18T18:26:00.052535Z"
    }
   }
  },
  {
   "cell_type": "code",
   "execution_count": 55,
   "outputs": [],
   "source": [
    "# Split the DataFrame into three based on the specified conditions\n",
    "df_0_to_20 = manip_df[(manip_df['manipulations_nums'] >= 0) & (manip_df['manipulations_nums'] <= 10)]\n",
    "df_21_to_40 = manip_df[(manip_df['manipulations_nums'] > 10) & (manip_df['manipulations_nums'] <= 15)]\n",
    "df_41_to_60 = manip_df[(manip_df['manipulations_nums'] > 15) & (manip_df['manipulations_nums'] <= 60)]\n"
   ],
   "metadata": {
    "collapsed": false,
    "ExecuteTime": {
     "start_time": "2023-11-18T18:26:02.336465Z",
     "end_time": "2023-11-18T18:26:02.347063Z"
    }
   }
  },
  {
   "cell_type": "code",
   "execution_count": 56,
   "outputs": [],
   "source": [
    "def average_manipulations(dataframe):\n",
    "    # Calculate the average of manipulations_nums\n",
    "    average_manipulations_nums = dataframe['manipulations_nums'].mean()\n",
    "\n",
    "    # Display the result\n",
    "    print(f\"Average manipulations_nums: {average_manipulations_nums}. Count of rows: {len(dataframe)}\")"
   ],
   "metadata": {
    "collapsed": false,
    "ExecuteTime": {
     "start_time": "2023-11-18T18:26:02.757937Z",
     "end_time": "2023-11-18T18:26:02.767506Z"
    }
   }
  },
  {
   "cell_type": "code",
   "execution_count": 57,
   "outputs": [
    {
     "name": "stdout",
     "output_type": "stream",
     "text": [
      "Average manipulations_nums: 2.1155378486055776. Count of rows: 1255\n",
      "Average manipulations_nums: 1.5474031327287716. Count of rows: 1213\n",
      "Average manipulations_nums: 12.818181818181818. Count of rows: 22\n",
      "Average manipulations_nums: 24.8. Count of rows: 20\n"
     ]
    }
   ],
   "source": [
    "average_manipulations(manip_df)\n",
    "\n",
    "average_manipulations(df_0_to_20)\n",
    "average_manipulations(df_21_to_40)\n",
    "average_manipulations(df_41_to_60)"
   ],
   "metadata": {
    "collapsed": false,
    "ExecuteTime": {
     "start_time": "2023-11-18T18:26:03.293366Z",
     "end_time": "2023-11-18T18:26:03.302100Z"
    }
   }
  },
  {
   "cell_type": "code",
   "execution_count": 58,
   "outputs": [],
   "source": [
    "conditions = [\n",
    "    (manip_df['manipulations_nums'] >= 0) & (manip_df['manipulations_nums'] <= 10),\n",
    "    (manip_df['manipulations_nums'] > 15) & (manip_df['manipulations_nums'] <= 15),\n",
    "    (manip_df['manipulations_nums'] > 15) & (manip_df['manipulations_nums'] <= 60)\n",
    "]\n",
    "\n",
    "# Define the values to be set for each condition\n",
    "values = [1, 2, 3]\n",
    "\n",
    "# Use numpy's select function to apply the conditions\n",
    "manip_df['Suspicious_Level'] = np.select(conditions, values)"
   ],
   "metadata": {
    "collapsed": false,
    "ExecuteTime": {
     "start_time": "2023-11-18T18:26:06.954029Z",
     "end_time": "2023-11-18T18:26:06.965374Z"
    }
   }
  },
  {
   "cell_type": "code",
   "execution_count": 60,
   "outputs": [],
   "source": [
    "import random\n",
    "from datetime import datetime, timedelta\n",
    "\n",
    "# Assuming manip_df is your existing DataFrame\n",
    "# Create a sample DataFrame for the new columns\n",
    "new_columns_data = {\n",
    "    'ChannelName': ['Channel_A', 'Channel_B', 'Channel_C', 'Channel_A', 'Channel_B', 'Channel_C', 'Channel_A', 'Channel_B'],\n",
    "    'ChannelId': [str(random.randint(10**9, 10**10 - 1)) for _ in range(8)],  # Generates a random 10-digit number\n",
    "    'MessageId': [str(random.randint(10000, 99999)) for _ in range(8)],  # Generates a random 5-digit number\n",
    "    'Date': [datetime(2023, 1, 1) + timedelta(days=i) for i in range(8)],\n",
    "    'EditDate': [datetime(2023, 1, 2) + timedelta(days=i+1) for i in range(8)]  # Ensure EditDate is greater than Date\n",
    "}\n",
    "\n",
    "new_columns_df = pd.DataFrame(new_columns_data)\n",
    "\n",
    "# Concatenate the existing manip_df with the new_columns_df\n",
    "manip_df = pd.concat([manip_df, new_columns_df], axis=1)\n",
    "\n",
    "# Format 'Date' and 'EditDate' columns\n",
    "manip_df['Date'] = manip_df['Date'].dt.strftime('%Y-%m-%d %H:%M:%S')\n",
    "manip_df['EditDate'] = manip_df['EditDate'].dt.strftime('%Y-%m-%d %H:%M:%S')"
   ],
   "metadata": {
    "collapsed": false,
    "ExecuteTime": {
     "start_time": "2023-11-18T18:33:29.021645Z",
     "end_time": "2023-11-18T18:33:29.027271Z"
    }
   }
  },
  {
   "cell_type": "code",
   "execution_count": 64,
   "outputs": [],
   "source": [
    "manip_df = manip_df.drop(['manipulations', 'manipulations_nums'], axis=1)"
   ],
   "metadata": {
    "collapsed": false,
    "ExecuteTime": {
     "start_time": "2023-11-18T18:35:25.905817Z",
     "end_time": "2023-11-18T18:35:25.907477Z"
    }
   }
  },
  {
   "cell_type": "code",
   "execution_count": 65,
   "outputs": [
    {
     "data": {
      "text/plain": "                                             Content  Suspicious_Level   \n0  Объявленные в отношении ВТБ санкции позволяют ...                 1  \\\n1  Советник главы офиса президента Украины Михаил...                 1   \n2  Советник главы Офиса президента Арестович заяв...                 1   \n3  Стало известно, почему был нанесен удар по кие...                 1   \n4  А все потому, что шаббат заканчивается в суббо...                 1   \n\n  ChannelName   ChannelId MessageId                 Date             EditDate  \n0   Channel_A  2905871876     15985  2023-01-01 00:00:00  2023-01-03 00:00:00  \n1   Channel_B  4698619027     80166  2023-01-02 00:00:00  2023-01-04 00:00:00  \n2   Channel_C  8982396021     45117  2023-01-03 00:00:00  2023-01-05 00:00:00  \n3   Channel_A  2431123677     16923  2023-01-04 00:00:00  2023-01-06 00:00:00  \n4   Channel_B  3536374004     53849  2023-01-05 00:00:00  2023-01-07 00:00:00  ",
      "text/html": "<div>\n<style scoped>\n    .dataframe tbody tr th:only-of-type {\n        vertical-align: middle;\n    }\n\n    .dataframe tbody tr th {\n        vertical-align: top;\n    }\n\n    .dataframe thead th {\n        text-align: right;\n    }\n</style>\n<table border=\"1\" class=\"dataframe\">\n  <thead>\n    <tr style=\"text-align: right;\">\n      <th></th>\n      <th>Content</th>\n      <th>Suspicious_Level</th>\n      <th>ChannelName</th>\n      <th>ChannelId</th>\n      <th>MessageId</th>\n      <th>Date</th>\n      <th>EditDate</th>\n    </tr>\n  </thead>\n  <tbody>\n    <tr>\n      <th>0</th>\n      <td>Объявленные в отношении ВТБ санкции позволяют ...</td>\n      <td>1</td>\n      <td>Channel_A</td>\n      <td>2905871876</td>\n      <td>15985</td>\n      <td>2023-01-01 00:00:00</td>\n      <td>2023-01-03 00:00:00</td>\n    </tr>\n    <tr>\n      <th>1</th>\n      <td>Советник главы офиса президента Украины Михаил...</td>\n      <td>1</td>\n      <td>Channel_B</td>\n      <td>4698619027</td>\n      <td>80166</td>\n      <td>2023-01-02 00:00:00</td>\n      <td>2023-01-04 00:00:00</td>\n    </tr>\n    <tr>\n      <th>2</th>\n      <td>Советник главы Офиса президента Арестович заяв...</td>\n      <td>1</td>\n      <td>Channel_C</td>\n      <td>8982396021</td>\n      <td>45117</td>\n      <td>2023-01-03 00:00:00</td>\n      <td>2023-01-05 00:00:00</td>\n    </tr>\n    <tr>\n      <th>3</th>\n      <td>Стало известно, почему был нанесен удар по кие...</td>\n      <td>1</td>\n      <td>Channel_A</td>\n      <td>2431123677</td>\n      <td>16923</td>\n      <td>2023-01-04 00:00:00</td>\n      <td>2023-01-06 00:00:00</td>\n    </tr>\n    <tr>\n      <th>4</th>\n      <td>А все потому, что шаббат заканчивается в суббо...</td>\n      <td>1</td>\n      <td>Channel_B</td>\n      <td>3536374004</td>\n      <td>53849</td>\n      <td>2023-01-05 00:00:00</td>\n      <td>2023-01-07 00:00:00</td>\n    </tr>\n  </tbody>\n</table>\n</div>"
     },
     "execution_count": 65,
     "metadata": {},
     "output_type": "execute_result"
    }
   ],
   "source": [
    "manip_df.head()"
   ],
   "metadata": {
    "collapsed": false,
    "ExecuteTime": {
     "start_time": "2023-11-18T18:35:26.912290Z",
     "end_time": "2023-11-18T18:35:26.915797Z"
    }
   }
  },
  {
   "cell_type": "code",
   "execution_count": 66,
   "outputs": [],
   "source": [
    "manip_df.to_csv(os.path.join(root_dir, 'mantis_rus_data.csv'), index=False)"
   ],
   "metadata": {
    "collapsed": false,
    "ExecuteTime": {
     "start_time": "2023-11-18T18:35:32.278993Z",
     "end_time": "2023-11-18T18:35:32.297358Z"
    }
   }
  },
  {
   "cell_type": "code",
   "execution_count": null,
   "outputs": [],
   "source": [],
   "metadata": {
    "collapsed": false
   }
  }
 ],
 "metadata": {
  "kernelspec": {
   "display_name": "Python 3",
   "language": "python",
   "name": "python3"
  },
  "language_info": {
   "codemirror_mode": {
    "name": "ipython",
    "version": 2
   },
   "file_extension": ".py",
   "mimetype": "text/x-python",
   "name": "python",
   "nbconvert_exporter": "python",
   "pygments_lexer": "ipython2",
   "version": "2.7.6"
  }
 },
 "nbformat": 4,
 "nbformat_minor": 0
}
