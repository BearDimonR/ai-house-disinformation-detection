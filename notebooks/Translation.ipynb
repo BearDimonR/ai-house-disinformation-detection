{
 "cells": [
  {
   "cell_type": "code",
   "execution_count": 1,
   "id": "2148007a-3969-43fd-9faf-909b1d0d2cc3",
   "metadata": {},
   "outputs": [
    {
     "name": "stderr",
     "output_type": "stream",
     "text": [
      "\n",
      "KeyboardInterrupt\n",
      "\n"
     ]
    }
   ],
   "source": [
    "!pip install --quiet transformers sacremoses"
   ]
  },
  {
   "cell_type": "code",
   "execution_count": null,
   "id": "c8141483-5087-4d9c-b92e-011a4e3b915a",
   "metadata": {},
   "outputs": [],
   "source": [
    "import torch\n",
    "import torch.nn as nn\n",
    "import pandas as pd\n",
    "import numpy as np\n",
    "import nltk\n",
    "import re\n",
    "import sklearn\n",
    "\n",
    "from tqdm import tqdm\n",
    "from transformers import Trainer, TrainingArguments\n",
    "from transformers import AutoTokenizer, AutoModelForSeq2SeqLM, AutoModelForSequenceClassification\n",
    "from transformers import FSMTForConditionalGeneration, FSMTTokenizer\n",
    "from sklearn.model_selection import StratifiedKFold\n",
    "from nltk.tokenize import word_tokenize\n",
    "from nltk.stem.snowball import SnowballStemmer\n",
    "from nltk import tokenize"
   ]
  },
  {
   "cell_type": "code",
   "execution_count": null,
   "id": "b9ac17e9-e216-40e4-95f7-4c277f7642c1",
   "metadata": {},
   "outputs": [],
   "source": [
    "device = \"cuda:0\" if torch.cuda.is_available() else \"cpu\"\n",
    "\n",
    "if torch.backends.mps.is_available():\n",
    "    device = torch.device(\"mps\")\n",
    "else:\n",
    "    print (\"MPS device not found.\")\n",
    "    \n",
    "print(f\"Current device: {device}\")"
   ]
  },
  {
   "cell_type": "code",
   "execution_count": null,
   "id": "4b0c0921-fa72-4a76-b66f-ab6c69db4e3f",
   "metadata": {},
   "outputs": [],
   "source": [
    "train_df = pd.read_csv('../datasets/train.csv')\n",
    "test_df = pd.read_csv('../datasets/test.csv')"
   ]
  },
  {
   "cell_type": "code",
   "execution_count": null,
   "id": "702c7b8e-f124-4d56-9e87-a9dbc212aedc",
   "metadata": {},
   "outputs": [],
   "source": [
    "X_train, y_train = train_df.iloc[:10]['Content'].values.tolist(), train_df.iloc[:10]['Suspicious_Level']\n",
    "X_test = test_df.iloc[:10]['Content'].values.tolist()"
   ]
  },
  {
   "cell_type": "markdown",
   "id": "b5cb5b0e-3a36-4b2c-9930-0f3e4ff600fc",
   "metadata": {},
   "source": [
    "### Processing"
   ]
  },
  {
   "cell_type": "code",
   "execution_count": null,
   "id": "d85cec86-62cf-4efd-95fc-e02fdd86ae50",
   "metadata": {},
   "outputs": [],
   "source": [
    "# Download the Snowball stemmer for Russian language\n",
    "nltk.download('stopwords')\n",
    "nltk.download('punkt')\n",
    "\n",
    "# Create a Snowball stemmer for Russian\n",
    "stemmer = SnowballStemmer(\"russian\")\n",
    "\n",
    "def collapse_dots(input):\n",
    "    # Collapse sequential dots\n",
    "    input = re.sub(\"\\.+\", \".\", input)\n",
    "    # Collapse dots separated by whitespaces\n",
    "    all_collapsed = False\n",
    "    while not all_collapsed:\n",
    "        output = re.sub(r\"\\.(( )*)\\.\", \".\", input)\n",
    "        all_collapsed = input == output\n",
    "        input = output\n",
    "    return output\n",
    "\n",
    "def process_text(input):\n",
    "    if isinstance(input, str):\n",
    "        input = \" \".join(tokenize.sent_tokenize(input))\n",
    "        input = re.sub(r\"http\\S+\", \"\", input)\n",
    "        input = re.sub(r\"\\n+\", \". \", input)\n",
    "        for symb in [\"!\", \",\", \":\", \";\", \"?\"]:\n",
    "            input = re.sub(rf\"\\{symb}\\.\", symb, input)\n",
    "        input = re.sub(\"[^а-яА-Яa-zA-Z0-9!\\\"#$%&'()*+,-./:;<=>?@[\\\\]^_`{|}~ё]+\", \" \", input)\n",
    "        input = re.sub(r\"#\\S+\", \"\", input)\n",
    "        input = collapse_dots(input)\n",
    "        input = input.strip()\n",
    "        # input = input.lower()\n",
    "    return input\n",
    "\n",
    "train_df[\"Content_processed\"] = train_df[\"Content\"].apply(process_text)\n",
    "test_df[\"Content_processed\"] = test_df[\"Content\"].apply(process_text)\n",
    "\n",
    "# Tokenize the text using NLTK for Russian language\n",
    "train_df['Content_tokenized'] = train_df['Content_processed'].apply(lambda x: ' '.join([stemmer.stem(word) for word in word_tokenize(x, language='russian')]))\n",
    "test_df['Content_tokenized'] = test_df['Content_processed'].apply(lambda x: ' '.join([stemmer.stem(word) for word in word_tokenize(x, language='russian')]))"
   ]
  },
  {
   "cell_type": "markdown",
   "id": "329fa758-cb89-4c80-81f0-a9d9cef451db",
   "metadata": {},
   "source": [
    "### Translator & Fake detector"
   ]
  },
  {
   "cell_type": "code",
   "execution_count": null,
   "id": "34f91d50-5a8d-459a-9b60-dbc1275504a7",
   "metadata": {},
   "outputs": [],
   "source": [
    "mname = \"Helsinki-NLP/opus-mt-ru-en\"\n",
    "translation_tokenizer = AutoTokenizer.from_pretrained(mname)\n",
    "translation_model = AutoModelForSeq2SeqLM.from_pretrained(mname)\n",
    "translation_model.to(device)"
   ]
  },
  {
   "cell_type": "markdown",
   "id": "fa7b8032-bf04-440c-aa9a-09fe386e73a8",
   "metadata": {},
   "source": [
    "### Fake detection"
   ]
  },
  {
   "cell_type": "code",
   "execution_count": null,
   "id": "f45ee100-4eb1-49d1-89e1-c4fea56b91df",
   "metadata": {},
   "outputs": [],
   "source": [
    "fake_detection_tokenizer = AutoTokenizer.from_pretrained(\"vikram71198/distilroberta-base-finetuned-fake-news-detection\")\n",
    "fake_detection_model = AutoModelForSequenceClassification.from_pretrained(\"vikram71198/distilroberta-base-finetuned-fake-news-detection\")\n",
    "fake_detection_model.to(device)"
   ]
  },
  {
   "cell_type": "code",
   "execution_count": null,
   "id": "5c0b8a73-5506-40eb-afb1-55b3a073a79c",
   "metadata": {},
   "outputs": [],
   "source": [
    "def translate_and_predict_fake(X_train):\n",
    "    y_pred = np.array([])\n",
    "    \n",
    "    for x_train in tqdm(X_train):\n",
    "        x_train_translated_ids = translation_tokenizer(\n",
    "            x_train,\n",
    "            max_length=512,\n",
    "            truncation=True,\n",
    "            return_tensors=\"pt\"\n",
    "        ).to(device).input_ids\n",
    "\n",
    "        x_train_output = translation_model.generate(input_ids=x_train_translated_ids)\n",
    "\n",
    "        x_train_translated = translation_tokenizer.batch_decode(\n",
    "            x_train_output, \n",
    "            skip_special_tokens=True\n",
    "        )\n",
    "\n",
    "        x_train_fake_detection_input = fake_detection_tokenizer(\n",
    "            x_train_translated, \n",
    "            truncation=True,\n",
    "            max_length=512,\n",
    "            return_tensors='pt'\n",
    "        ).to(device)\n",
    "\n",
    "        x_train_fake_detection_output = fake_detection_model(**x_train_fake_detection_input)[\"logits\"]\n",
    "        x_train_fake_detection_detached_output = x_train_fake_detection_output.detach()\n",
    "\n",
    "        fake_detection_softmax = nn.Softmax(dim = 1)\n",
    "        x_train_fake_detection_prediction_probabilities = list(fake_detection_softmax(x_train_fake_detection_detached_output))\n",
    "\n",
    "        x, y = x_train_fake_detection_prediction_probabilities[0]\n",
    "        print(x_train_fake_detection_prediction_probabilities)\n",
    "        \n",
    "        y_sample = 1 if x < y else 3\n",
    "        y_pred = np.append(y_pred, y_sample)\n",
    "        \n",
    "        print(f\"Prediction for sentence {x_train_translated} is {y_sample}\")\n",
    "        \n",
    "    return y_pred"
   ]
  },
  {
   "cell_type": "markdown",
   "id": "7e27819a-67b6-4eb4-8dea-5ad1a17ecb36",
   "metadata": {},
   "source": [
    "### Fine-tuning"
   ]
  },
  {
   "cell_type": "code",
   "execution_count": null,
   "id": "f934e387-58be-469f-9133-bbf1fa2bceff",
   "metadata": {},
   "outputs": [],
   "source": [
    "!pip install --quiet accelerate -U\n",
    "!pip install --quiet 'transformers[torch]' datasets"
   ]
  },
  {
   "cell_type": "code",
   "execution_count": null,
   "id": "4bebd3e5-a519-45a6-8aa8-0fe742ac0c15",
   "metadata": {},
   "outputs": [],
   "source": [
    "from torch.utils.data import Dataset\n",
    "from datasets import load_metric"
   ]
  },
  {
   "cell_type": "code",
   "execution_count": null,
   "id": "449e6ab1-9bea-4fc9-bd2b-ebb866ea69e7",
   "metadata": {},
   "outputs": [],
   "source": [
    "class NewsDataset(Dataset):\n",
    "    \n",
    "    def __init__(self, encodings, labels):\n",
    "        self.encodings = encodings\n",
    "        self.labels = labels\n",
    "    \n",
    "    # convert to pytorch tensors\n",
    "    def __getitem__(self, idx):\n",
    "        item = {key: torch.tensor(val[idx]) for key, val in self.encodings.items()}\n",
    "        item['labels'] = torch.tensor(self.labels[idx])\n",
    "        return item \n",
    "    \n",
    "    def __len__(self):\n",
    "        return len(self.labels)"
   ]
  },
  {
   "cell_type": "code",
   "execution_count": null,
   "id": "9f5c3448-0d38-4b72-bc8b-57788c1b776f",
   "metadata": {},
   "outputs": [],
   "source": [
    "acc_metric = load_metric(\"accuracy\")\n",
    "precision_metric = load_metric(\"precision\")\n",
    "recall_metric = load_metric(\"recall\")\n",
    "f1_metric = load_metric(\"f1\")\n",
    "\n",
    "# we'll log several evaluation metrics as accuracy alone does not show the whole picture \n",
    "def compute_metrics(eval_pred):\n",
    "    predictions, labels = eval_pred\n",
    "    predictions = np.argmax(predictions, axis=1)\n",
    "    acc = acc_metric.compute(predictions=predictions, references=labels)[\"accuracy\"]\n",
    "    precision = precision_metric.compute(predictions=predictions, references=labels)[\"precision\"]\n",
    "    recall = recall_metric.compute(predictions=predictions, references=labels)[\"recall\"]\n",
    "    f1 = f1_metric.compute(predictions=predictions, references=labels)[\"f1\"]\n",
    "    return {\"acc\": acc, \"precision\": precision, \"recall\": recall, \"f1 score\": f1}"
   ]
  },
  {
   "cell_type": "code",
   "execution_count": null,
   "id": "d7eb8e34-2781-4b33-9296-778edd80032f",
   "metadata": {},
   "outputs": [],
   "source": [
    "seed = 18\n",
    "\n",
    "# separate data into data and labels \n",
    "features = train_df['Content_processed'].tolist()\n",
    "targets = train_df['Suspicious_Level'].tolist()\n",
    "\n",
    "# splitting data into training, testing, and validation sets \n",
    "X_train, X_test, y_train, y_test = sklearn.model_selection.train_test_split(features, targets, test_size=0.20, random_state=seed)\n",
    "X_train, X_val, y_train, y_val = sklearn.model_selection.train_test_split(X_train, y_train, test_size=0.10, random_state=seed)"
   ]
  },
  {
   "cell_type": "code",
   "execution_count": null,
   "id": "d7118eef-6c42-40df-8948-02a4f1e4698f",
   "metadata": {},
   "outputs": [],
   "source": [
    "train_encodings = fake_detection_tokenizer(X_train, truncation=True, padding=True)         \n",
    "test_encodings = fake_detection_tokenizer(X_test, truncation=True, padding=True)      \n",
    "val_encodings = fake_detection_tokenizer(X_val, truncation=True, padding=True)"
   ]
  },
  {
   "cell_type": "code",
   "execution_count": null,
   "id": "02dc68d8-0f51-4050-98e8-9ae5a9b1f3c8",
   "metadata": {},
   "outputs": [],
   "source": [
    "train_dataset = NewsDataset(train_encodings, y_train)\n",
    "test_dataset = NewsDataset(test_encodings, y_test)\n",
    "val_dataset = NewsDataset(val_encodings, y_val)"
   ]
  },
  {
   "cell_type": "code",
   "execution_count": null,
   "id": "a9d8fb06-2e45-45d8-944e-54d6ab038bc6",
   "metadata": {},
   "outputs": [],
   "source": [
    "training_args = TrainingArguments(\n",
    "    output_dir=\"./results\",\n",
    "    num_train_epochs=1,\n",
    "    per_device_train_batch_size=32,\n",
    "    per_device_eval_batch_size=32,\n",
    "    warmup_steps=500,\n",
    "    learning_rate=5e-5,\n",
    "    weight_decay=0.01,\n",
    "    logging_dir=\"./logs\",\n",
    "    evaluation_strategy=\"steps\",\n",
    "    eval_steps=100,\n",
    "    logging_steps=100,\n",
    ")"
   ]
  },
  {
   "cell_type": "code",
   "execution_count": null,
   "id": "4d919ba4-48df-43cc-bf58-cd80bf532d67",
   "metadata": {},
   "outputs": [],
   "source": [
    "trainer = Trainer(\n",
    "    model=fake_detection_model,\n",
    "    args=training_args,\n",
    "    train_dataset=train_dataset,\n",
    "    eval_dataset=val_dataset,\n",
    "    compute_metrics=compute_metrics\n",
    ")"
   ]
  },
  {
   "cell_type": "code",
   "execution_count": null,
   "id": "33309f8b-4415-482b-b776-a79f98c2737c",
   "metadata": {},
   "outputs": [],
   "source": [
    "trainer.train()"
   ]
  },
  {
   "cell_type": "code",
   "execution_count": null,
   "id": "71c99f8e-188f-4908-831f-7412b53c5819",
   "metadata": {},
   "outputs": [],
   "source": [
    "trainer.evaluate(test_dataset)"
   ]
  },
  {
   "cell_type": "markdown",
   "id": "3c99c13c-25d4-49ca-aa9f-6ab5e7b38801",
   "metadata": {},
   "source": [
    "### Evaluation"
   ]
  },
  {
   "cell_type": "code",
   "execution_count": null,
   "id": "92e7844e-f79b-4c6e-94af-9b4b9063c519",
   "metadata": {},
   "outputs": [],
   "source": [
    "X_test = test_df['Content_processed'].tolist()\n",
    "y_test = translate_and_predict_fake(X_test)"
   ]
  },
  {
   "cell_type": "code",
   "execution_count": null,
   "id": "f9865c1f-6090-478c-b904-b7d301c6bfcc",
   "metadata": {},
   "outputs": [],
   "source": [
    "test_df['Suspicious_Level'] = y_test"
   ]
  },
  {
   "cell_type": "code",
   "execution_count": null,
   "id": "8b6192c7-2a59-4dc0-8d21-7326fc8d9a8e",
   "metadata": {},
   "outputs": [],
   "source": [
    "test_df[['MessageId', 'Suspicious_Level']].to_csv('translation_submission.csv', index=False)"
   ]
  }
 ],
 "metadata": {
  "kernelspec": {
   "display_name": "disinformation_3.10",
   "language": "python",
   "name": "pyenv_disinformation_3.10"
  },
  "language_info": {
   "codemirror_mode": {
    "name": "ipython",
    "version": 3
   },
   "file_extension": ".py",
   "mimetype": "text/x-python",
   "name": "python",
   "nbconvert_exporter": "python",
   "pygments_lexer": "ipython3",
   "version": "3.10.11"
  }
 },
 "nbformat": 4,
 "nbformat_minor": 5
}
