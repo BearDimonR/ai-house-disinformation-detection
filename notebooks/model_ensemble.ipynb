{
 "cells": [
  {
   "cell_type": "code",
   "execution_count": 1,
   "metadata": {
    "collapsed": true,
    "ExecuteTime": {
     "start_time": "2023-11-19T01:13:25.065460Z",
     "end_time": "2023-11-19T01:13:26.186853Z"
    }
   },
   "outputs": [],
   "source": [
    "import os\n",
    "import pandas as pd\n",
    "\n",
    "import re\n",
    "import time\n",
    "import random\n",
    "import string\n",
    "from typing import Any\n",
    "\n",
    "import numpy as np\n",
    "import pandas as pd\n",
    "import nltk\n",
    "from nltk.corpus import stopwords\n",
    "from tqdm import tqdm\n",
    "from sklearn.feature_extraction.text import CountVectorizer\n",
    "from sklearn.metrics import f1_score\n",
    "from sklearn.model_selection import train_test_split\n",
    "from sklearn.feature_extraction.text import TfidfVectorizer\n",
    "from sklearn.linear_model import LogisticRegression\n",
    "from sklearn.preprocessing import LabelEncoder\n",
    "\n",
    "\n",
    "import matplotlib.pyplot as plt\n",
    "%matplotlib inline"
   ]
  },
  {
   "cell_type": "code",
   "execution_count": 2,
   "outputs": [],
   "source": [
    "RANDOM_SEED = 42\n",
    "ROOT_DIR = '../predictions/'"
   ],
   "metadata": {
    "collapsed": false,
    "ExecuteTime": {
     "start_time": "2023-11-19T01:13:26.187572Z",
     "end_time": "2023-11-19T01:13:26.189657Z"
    }
   }
  },
  {
   "cell_type": "code",
   "execution_count": 3,
   "outputs": [],
   "source": [
    "def seed_all(seed_value):\n",
    "    random.seed(seed_value)\n",
    "    np.random.seed(seed_value)\n",
    "seed_all(RANDOM_SEED)"
   ],
   "metadata": {
    "collapsed": false,
    "ExecuteTime": {
     "start_time": "2023-11-19T01:13:26.190672Z",
     "end_time": "2023-11-19T01:13:26.192400Z"
    }
   }
  },
  {
   "cell_type": "code",
   "execution_count": 6,
   "outputs": [],
   "source": [
    "embeddings = pd.read_csv(os.path.join(ROOT_DIR, 'embeddings_submission.csv'))\n",
    "naive_bayes_simple = pd.read_csv(os.path.join(ROOT_DIR, 'naive_bayes_simple_all_level.csv'))\n",
    "naive_bayes_laplace = pd.read_csv(os.path.join(ROOT_DIR, 'naive_bayes_laplace_all_level.csv'))\n",
    "\n",
    "final = pd.concat([embeddings, naive_bayes_simple, naive_bayes_laplace], axis=1)"
   ],
   "metadata": {
    "collapsed": false,
    "ExecuteTime": {
     "start_time": "2023-11-19T01:15:47.437182Z",
     "end_time": "2023-11-19T01:15:47.444618Z"
    }
   }
  },
  {
   "cell_type": "code",
   "execution_count": 7,
   "outputs": [
    {
     "data": {
      "text/plain": "   MessageId  Suspicious_Level  MessageId   \n0     168641                 3     168641  \\\n1      36569                 1      36569   \n2      19697                 1      19697   \n3      49296                 3      49296   \n4      11784                 1      11784   \n\n   NaiveBayesSimple_Suspicious_Level_0  NaiveBayesSimple_Suspicious_Level_1   \n0                             0.594159                             0.199875  \\\n1                             2.180644                            -2.523844   \n2                             2.321289                            -4.937329   \n3                             0.075663                            -1.904409   \n4                             3.333188                            -3.221182   \n\n   NaiveBayesSimple_Suspicious_Level_2  MessageId   \n0                            -3.354664     168641  \\\n1                            -0.721312      36569   \n2                            -4.238373      19697   \n3                            -1.538347      49296   \n4                            -3.515524      11784   \n\n   NaiveBayes_Suspicious_Level_0  NaiveBayes_Suspicious_Level_1   \n0                       0.004438                       0.003675  \\\n1                       0.017506                       0.000243   \n2                       0.998395                       0.000428   \n3                       0.119164                       0.008813   \n4                       0.492804                       0.000353   \n\n   NaiveBayes_Suspicious_Level_2  \n0                       0.000213  \n1                       0.000552  \n2                       0.000687  \n3                       0.013954  \n4                       0.000346  ",
      "text/html": "<div>\n<style scoped>\n    .dataframe tbody tr th:only-of-type {\n        vertical-align: middle;\n    }\n\n    .dataframe tbody tr th {\n        vertical-align: top;\n    }\n\n    .dataframe thead th {\n        text-align: right;\n    }\n</style>\n<table border=\"1\" class=\"dataframe\">\n  <thead>\n    <tr style=\"text-align: right;\">\n      <th></th>\n      <th>MessageId</th>\n      <th>Suspicious_Level</th>\n      <th>MessageId</th>\n      <th>NaiveBayesSimple_Suspicious_Level_0</th>\n      <th>NaiveBayesSimple_Suspicious_Level_1</th>\n      <th>NaiveBayesSimple_Suspicious_Level_2</th>\n      <th>MessageId</th>\n      <th>NaiveBayes_Suspicious_Level_0</th>\n      <th>NaiveBayes_Suspicious_Level_1</th>\n      <th>NaiveBayes_Suspicious_Level_2</th>\n    </tr>\n  </thead>\n  <tbody>\n    <tr>\n      <th>0</th>\n      <td>168641</td>\n      <td>3</td>\n      <td>168641</td>\n      <td>0.594159</td>\n      <td>0.199875</td>\n      <td>-3.354664</td>\n      <td>168641</td>\n      <td>0.004438</td>\n      <td>0.003675</td>\n      <td>0.000213</td>\n    </tr>\n    <tr>\n      <th>1</th>\n      <td>36569</td>\n      <td>1</td>\n      <td>36569</td>\n      <td>2.180644</td>\n      <td>-2.523844</td>\n      <td>-0.721312</td>\n      <td>36569</td>\n      <td>0.017506</td>\n      <td>0.000243</td>\n      <td>0.000552</td>\n    </tr>\n    <tr>\n      <th>2</th>\n      <td>19697</td>\n      <td>1</td>\n      <td>19697</td>\n      <td>2.321289</td>\n      <td>-4.937329</td>\n      <td>-4.238373</td>\n      <td>19697</td>\n      <td>0.998395</td>\n      <td>0.000428</td>\n      <td>0.000687</td>\n    </tr>\n    <tr>\n      <th>3</th>\n      <td>49296</td>\n      <td>3</td>\n      <td>49296</td>\n      <td>0.075663</td>\n      <td>-1.904409</td>\n      <td>-1.538347</td>\n      <td>49296</td>\n      <td>0.119164</td>\n      <td>0.008813</td>\n      <td>0.013954</td>\n    </tr>\n    <tr>\n      <th>4</th>\n      <td>11784</td>\n      <td>1</td>\n      <td>11784</td>\n      <td>3.333188</td>\n      <td>-3.221182</td>\n      <td>-3.515524</td>\n      <td>11784</td>\n      <td>0.492804</td>\n      <td>0.000353</td>\n      <td>0.000346</td>\n    </tr>\n  </tbody>\n</table>\n</div>"
     },
     "execution_count": 7,
     "metadata": {},
     "output_type": "execute_result"
    }
   ],
   "source": [
    "final.head()"
   ],
   "metadata": {
    "collapsed": false,
    "ExecuteTime": {
     "start_time": "2023-11-19T01:15:52.172996Z",
     "end_time": "2023-11-19T01:15:52.184604Z"
    }
   }
  }
 ],
 "metadata": {
  "kernelspec": {
   "display_name": "Python 3",
   "language": "python",
   "name": "python3"
  },
  "language_info": {
   "codemirror_mode": {
    "name": "ipython",
    "version": 2
   },
   "file_extension": ".py",
   "mimetype": "text/x-python",
   "name": "python",
   "nbconvert_exporter": "python",
   "pygments_lexer": "ipython2",
   "version": "2.7.6"
  }
 },
 "nbformat": 4,
 "nbformat_minor": 0
}
