{
 "cells": [
  {
   "cell_type": "code",
   "execution_count": 18,
   "metadata": {
    "collapsed": true,
    "ExecuteTime": {
     "start_time": "2023-11-19T02:31:24.425592Z",
     "end_time": "2023-11-19T02:31:24.428007Z"
    }
   },
   "outputs": [],
   "source": [
    "import os\n",
    "import pandas as pd\n",
    "\n",
    "import re\n",
    "import time\n",
    "import random\n",
    "import string\n",
    "from typing import Any\n",
    "\n",
    "import numpy as np\n",
    "import pandas as pd\n",
    "import nltk\n",
    "from nltk.corpus import stopwords\n",
    "from tqdm import tqdm\n",
    "from sklearn.feature_extraction.text import CountVectorizer\n",
    "from sklearn.metrics import f1_score\n",
    "from sklearn.model_selection import train_test_split\n",
    "from sklearn.feature_extraction.text import TfidfVectorizer\n",
    "from sklearn.linear_model import LogisticRegression\n",
    "from sklearn.preprocessing import LabelEncoder\n",
    "\n",
    "\n",
    "import matplotlib.pyplot as plt\n",
    "%matplotlib inline"
   ]
  },
  {
   "cell_type": "code",
   "execution_count": 19,
   "outputs": [],
   "source": [
    "RANDOM_SEED = 42\n",
    "ROOT_DIR = '../predictions/'"
   ],
   "metadata": {
    "collapsed": false,
    "ExecuteTime": {
     "start_time": "2023-11-19T02:31:24.784371Z",
     "end_time": "2023-11-19T02:31:24.788145Z"
    }
   }
  },
  {
   "cell_type": "code",
   "execution_count": 20,
   "outputs": [],
   "source": [
    "def seed_all(seed_value):\n",
    "    random.seed(seed_value)\n",
    "    np.random.seed(seed_value)\n",
    "seed_all(RANDOM_SEED)"
   ],
   "metadata": {
    "collapsed": false,
    "ExecuteTime": {
     "start_time": "2023-11-19T02:31:25.159773Z",
     "end_time": "2023-11-19T02:31:25.162365Z"
    }
   }
  },
  {
   "cell_type": "code",
   "execution_count": 21,
   "outputs": [],
   "source": [
    "train_embeddings = pd.read_csv(os.path.join(ROOT_DIR, 'train_embeddings_submission.csv'))\n",
    "train_naive_bayes = pd.read_csv(os.path.join(ROOT_DIR, 'naive_bayes_laplace_normalised_train.csv'))\n",
    "train_linear_regression = pd.read_csv(os.path.join(ROOT_DIR, 'train_linear_regression.csv'))"
   ],
   "metadata": {
    "collapsed": false,
    "ExecuteTime": {
     "start_time": "2023-11-19T02:31:25.717379Z",
     "end_time": "2023-11-19T02:31:25.738867Z"
    }
   }
  },
  {
   "cell_type": "code",
   "execution_count": 24,
   "outputs": [],
   "source": [
    "train_embeddings['Embeddings_Suspicious_Level'] = train_embeddings['Suspicious_Level']\n",
    "train_embeddings = train_embeddings.drop(['Suspicious_Level'], axis=1)"
   ],
   "metadata": {
    "collapsed": false,
    "ExecuteTime": {
     "start_time": "2023-11-19T02:32:11.376440Z",
     "end_time": "2023-11-19T02:32:11.379981Z"
    }
   }
  },
  {
   "cell_type": "code",
   "execution_count": 28,
   "outputs": [],
   "source": [
    "train_naive_bayes = train_naive_bayes.drop(['Suspicious_Level'], axis=1)"
   ],
   "metadata": {
    "collapsed": false,
    "ExecuteTime": {
     "start_time": "2023-11-19T02:33:08.095266Z",
     "end_time": "2023-11-19T02:33:08.100065Z"
    }
   }
  },
  {
   "cell_type": "code",
   "execution_count": 31,
   "outputs": [],
   "source": [
    "train_linear_regression = train_linear_regression.drop(['Suspicious_Level'], axis=1)\n",
    "train_linear_regression['Linear_Level1']=train_linear_regression['0']\n",
    "train_linear_regression['Linear_Level2']=train_linear_regression['1']\n",
    "train_linear_regression['Linear_Level3']=train_linear_regression['2']\n",
    "train_linear_regression = train_linear_regression.drop(['0', '1', '2'], axis=1)"
   ],
   "metadata": {
    "collapsed": false,
    "ExecuteTime": {
     "start_time": "2023-11-19T02:35:05.366356Z",
     "end_time": "2023-11-19T02:35:05.370242Z"
    }
   }
  },
  {
   "cell_type": "code",
   "execution_count": 32,
   "outputs": [
    {
     "data": {
      "text/plain": "    ChannelName   ChannelId  MessageId                 Date   \n0  boris_rozhin  1101806611      91626  2023-07-08 16:11:34  \\\n1     sashakots  1109403194      40853  2023-07-08 16:44:44   \n2        swodki  1144180066     280668  2023-07-09 02:00:23   \n3  boris_rozhin  1101806611      91573  2023-07-08 02:07:05   \n4        swodki  1144180066     280695  2023-07-09 07:01:49   \n\n              EditDate                                            Content   \n0  2023-07-08 16:11:47  Работа наших бойцов к югу от Артемовска. Работ...  \\\n1  2023-07-08 16:44:58  Анкара нарушила договорённости, отпустив глава...   \n2  2023-07-09 02:05:53  ЭТО ЕДИНСТВЕННЫЙ СПОСОБ ПОМОЧЬ НАМ! \\n\\nПополн...   \n3  2023-07-08 02:07:19  МТ-ЛБ с 32-зарядной авиационной пусковой устан...   \n4  2023-07-09 07:05:08  ЭТО ЕДИНСТВЕННЫЙ СПОСОБ ПОМОЧЬ НАМ! \\n\\nПополн...   \n\n    Sensitive Topic  num_sensitive Sentiment  Sentiment_Score    Emotion   \n0  weapons,politics              2   neutral         0.948454    neutral  \\\n1   politics,racism              2   neutral         0.498936  gratitude   \n2              none              0   neutral         0.788881  gratitude   \n3           weapons              1   neutral         0.973560    neutral   \n4              none              0   neutral         0.788881  gratitude   \n\n   Emotion_Score  Dangerous  Dangerous_Score  Linear_Level1  Linear_Level2   \n0       0.745498      False         0.913780       0.059677       0.925722  \\\n1       0.868692      False         0.948626       0.907052       0.067565   \n2       0.769272      False         0.949768       0.979169       0.011484   \n3       0.906539      False         0.940683       0.822248       0.121834   \n4       0.769272      False         0.949768       0.979169       0.011484   \n\n   Linear_Level3  \n0       0.014601  \n1       0.025382  \n2       0.009347  \n3       0.055918  \n4       0.009347  ",
      "text/html": "<div>\n<style scoped>\n    .dataframe tbody tr th:only-of-type {\n        vertical-align: middle;\n    }\n\n    .dataframe tbody tr th {\n        vertical-align: top;\n    }\n\n    .dataframe thead th {\n        text-align: right;\n    }\n</style>\n<table border=\"1\" class=\"dataframe\">\n  <thead>\n    <tr style=\"text-align: right;\">\n      <th></th>\n      <th>ChannelName</th>\n      <th>ChannelId</th>\n      <th>MessageId</th>\n      <th>Date</th>\n      <th>EditDate</th>\n      <th>Content</th>\n      <th>Sensitive Topic</th>\n      <th>num_sensitive</th>\n      <th>Sentiment</th>\n      <th>Sentiment_Score</th>\n      <th>Emotion</th>\n      <th>Emotion_Score</th>\n      <th>Dangerous</th>\n      <th>Dangerous_Score</th>\n      <th>Linear_Level1</th>\n      <th>Linear_Level2</th>\n      <th>Linear_Level3</th>\n    </tr>\n  </thead>\n  <tbody>\n    <tr>\n      <th>0</th>\n      <td>boris_rozhin</td>\n      <td>1101806611</td>\n      <td>91626</td>\n      <td>2023-07-08 16:11:34</td>\n      <td>2023-07-08 16:11:47</td>\n      <td>Работа наших бойцов к югу от Артемовска. Работ...</td>\n      <td>weapons,politics</td>\n      <td>2</td>\n      <td>neutral</td>\n      <td>0.948454</td>\n      <td>neutral</td>\n      <td>0.745498</td>\n      <td>False</td>\n      <td>0.913780</td>\n      <td>0.059677</td>\n      <td>0.925722</td>\n      <td>0.014601</td>\n    </tr>\n    <tr>\n      <th>1</th>\n      <td>sashakots</td>\n      <td>1109403194</td>\n      <td>40853</td>\n      <td>2023-07-08 16:44:44</td>\n      <td>2023-07-08 16:44:58</td>\n      <td>Анкара нарушила договорённости, отпустив глава...</td>\n      <td>politics,racism</td>\n      <td>2</td>\n      <td>neutral</td>\n      <td>0.498936</td>\n      <td>gratitude</td>\n      <td>0.868692</td>\n      <td>False</td>\n      <td>0.948626</td>\n      <td>0.907052</td>\n      <td>0.067565</td>\n      <td>0.025382</td>\n    </tr>\n    <tr>\n      <th>2</th>\n      <td>swodki</td>\n      <td>1144180066</td>\n      <td>280668</td>\n      <td>2023-07-09 02:00:23</td>\n      <td>2023-07-09 02:05:53</td>\n      <td>ЭТО ЕДИНСТВЕННЫЙ СПОСОБ ПОМОЧЬ НАМ! \\n\\nПополн...</td>\n      <td>none</td>\n      <td>0</td>\n      <td>neutral</td>\n      <td>0.788881</td>\n      <td>gratitude</td>\n      <td>0.769272</td>\n      <td>False</td>\n      <td>0.949768</td>\n      <td>0.979169</td>\n      <td>0.011484</td>\n      <td>0.009347</td>\n    </tr>\n    <tr>\n      <th>3</th>\n      <td>boris_rozhin</td>\n      <td>1101806611</td>\n      <td>91573</td>\n      <td>2023-07-08 02:07:05</td>\n      <td>2023-07-08 02:07:19</td>\n      <td>МТ-ЛБ с 32-зарядной авиационной пусковой устан...</td>\n      <td>weapons</td>\n      <td>1</td>\n      <td>neutral</td>\n      <td>0.973560</td>\n      <td>neutral</td>\n      <td>0.906539</td>\n      <td>False</td>\n      <td>0.940683</td>\n      <td>0.822248</td>\n      <td>0.121834</td>\n      <td>0.055918</td>\n    </tr>\n    <tr>\n      <th>4</th>\n      <td>swodki</td>\n      <td>1144180066</td>\n      <td>280695</td>\n      <td>2023-07-09 07:01:49</td>\n      <td>2023-07-09 07:05:08</td>\n      <td>ЭТО ЕДИНСТВЕННЫЙ СПОСОБ ПОМОЧЬ НАМ! \\n\\nПополн...</td>\n      <td>none</td>\n      <td>0</td>\n      <td>neutral</td>\n      <td>0.788881</td>\n      <td>gratitude</td>\n      <td>0.769272</td>\n      <td>False</td>\n      <td>0.949768</td>\n      <td>0.979169</td>\n      <td>0.011484</td>\n      <td>0.009347</td>\n    </tr>\n  </tbody>\n</table>\n</div>"
     },
     "execution_count": 32,
     "metadata": {},
     "output_type": "execute_result"
    }
   ],
   "source": [
    "train_linear_regression.head()"
   ],
   "metadata": {
    "collapsed": false,
    "ExecuteTime": {
     "start_time": "2023-11-19T02:35:11.046516Z",
     "end_time": "2023-11-19T02:35:11.055126Z"
    }
   }
  },
  {
   "cell_type": "code",
   "execution_count": 34,
   "outputs": [],
   "source": [
    "train_original = pd.read_csv('../datasets/train.csv')\n"
   ],
   "metadata": {
    "collapsed": false,
    "ExecuteTime": {
     "start_time": "2023-11-19T02:36:20.687710Z",
     "end_time": "2023-11-19T02:36:20.710487Z"
    }
   }
  },
  {
   "cell_type": "code",
   "execution_count": 37,
   "outputs": [],
   "source": [
    "total_train = pd.concat([train_embeddings, train_naive_bayes, train_linear_regression], axis=1)\n",
    "total_train = total_train.drop_duplicates(subset='MessageId')"
   ],
   "metadata": {
    "collapsed": false,
    "ExecuteTime": {
     "start_time": "2023-11-19T02:43:37.983900Z",
     "end_time": "2023-11-19T02:43:37.989207Z"
    }
   }
  },
  {
   "cell_type": "code",
   "execution_count": 41,
   "outputs": [
    {
     "data": {
      "text/plain": "   MessageId  Embeddings_Suspicious_Level  MessageId  Bayes_Suspicious_Level1   \n0      91626                            1      91626                 0.000277  \\\n1      40853                            3      40853                 0.921367   \n2     280668                            2     280668                 0.902208   \n3      91573                            1      91573                 0.412115   \n4     280695                            2     280695                 0.902208   \n\n   Bayes_Suspicious_Level2  Bayes_Suspicious_Level3   ChannelName   ChannelId   \n0                 0.436488                 0.000084  boris_rozhin  1101806611  \\\n1                 0.000017                 0.000014     sashakots  1109403194   \n2                 0.000016                 0.000016        swodki  1144180066   \n3                 0.000089                 0.000092  boris_rozhin  1101806611   \n4                 0.000016                 0.000016        swodki  1144180066   \n\n   MessageId                 Date  ... Sentiment Sentiment_Score    Emotion   \n0      91626  2023-07-08 16:11:34  ...   neutral        0.948454    neutral  \\\n1      40853  2023-07-08 16:44:44  ...   neutral        0.498936  gratitude   \n2     280668  2023-07-09 02:00:23  ...   neutral        0.788881  gratitude   \n3      91573  2023-07-08 02:07:05  ...   neutral        0.973560    neutral   \n4     280695  2023-07-09 07:01:49  ...   neutral        0.788881  gratitude   \n\n   Emotion_Score Dangerous  Dangerous_Score Linear_Level1  Linear_Level2   \n0       0.745498     False         0.913780      0.059677       0.925722  \\\n1       0.868692     False         0.948626      0.907052       0.067565   \n2       0.769272     False         0.949768      0.979169       0.011484   \n3       0.906539     False         0.940683      0.822248       0.121834   \n4       0.769272     False         0.949768      0.979169       0.011484   \n\n   Linear_Level3  Suspicious_Level  \n0       0.014601                 2  \n1       0.025382                 1  \n2       0.009347                 1  \n3       0.055918                 1  \n4       0.009347                 1  \n\n[5 rows x 24 columns]",
      "text/html": "<div>\n<style scoped>\n    .dataframe tbody tr th:only-of-type {\n        vertical-align: middle;\n    }\n\n    .dataframe tbody tr th {\n        vertical-align: top;\n    }\n\n    .dataframe thead th {\n        text-align: right;\n    }\n</style>\n<table border=\"1\" class=\"dataframe\">\n  <thead>\n    <tr style=\"text-align: right;\">\n      <th></th>\n      <th>MessageId</th>\n      <th>Embeddings_Suspicious_Level</th>\n      <th>MessageId</th>\n      <th>Bayes_Suspicious_Level1</th>\n      <th>Bayes_Suspicious_Level2</th>\n      <th>Bayes_Suspicious_Level3</th>\n      <th>ChannelName</th>\n      <th>ChannelId</th>\n      <th>MessageId</th>\n      <th>Date</th>\n      <th>...</th>\n      <th>Sentiment</th>\n      <th>Sentiment_Score</th>\n      <th>Emotion</th>\n      <th>Emotion_Score</th>\n      <th>Dangerous</th>\n      <th>Dangerous_Score</th>\n      <th>Linear_Level1</th>\n      <th>Linear_Level2</th>\n      <th>Linear_Level3</th>\n      <th>Suspicious_Level</th>\n    </tr>\n  </thead>\n  <tbody>\n    <tr>\n      <th>0</th>\n      <td>91626</td>\n      <td>1</td>\n      <td>91626</td>\n      <td>0.000277</td>\n      <td>0.436488</td>\n      <td>0.000084</td>\n      <td>boris_rozhin</td>\n      <td>1101806611</td>\n      <td>91626</td>\n      <td>2023-07-08 16:11:34</td>\n      <td>...</td>\n      <td>neutral</td>\n      <td>0.948454</td>\n      <td>neutral</td>\n      <td>0.745498</td>\n      <td>False</td>\n      <td>0.913780</td>\n      <td>0.059677</td>\n      <td>0.925722</td>\n      <td>0.014601</td>\n      <td>2</td>\n    </tr>\n    <tr>\n      <th>1</th>\n      <td>40853</td>\n      <td>3</td>\n      <td>40853</td>\n      <td>0.921367</td>\n      <td>0.000017</td>\n      <td>0.000014</td>\n      <td>sashakots</td>\n      <td>1109403194</td>\n      <td>40853</td>\n      <td>2023-07-08 16:44:44</td>\n      <td>...</td>\n      <td>neutral</td>\n      <td>0.498936</td>\n      <td>gratitude</td>\n      <td>0.868692</td>\n      <td>False</td>\n      <td>0.948626</td>\n      <td>0.907052</td>\n      <td>0.067565</td>\n      <td>0.025382</td>\n      <td>1</td>\n    </tr>\n    <tr>\n      <th>2</th>\n      <td>280668</td>\n      <td>2</td>\n      <td>280668</td>\n      <td>0.902208</td>\n      <td>0.000016</td>\n      <td>0.000016</td>\n      <td>swodki</td>\n      <td>1144180066</td>\n      <td>280668</td>\n      <td>2023-07-09 02:00:23</td>\n      <td>...</td>\n      <td>neutral</td>\n      <td>0.788881</td>\n      <td>gratitude</td>\n      <td>0.769272</td>\n      <td>False</td>\n      <td>0.949768</td>\n      <td>0.979169</td>\n      <td>0.011484</td>\n      <td>0.009347</td>\n      <td>1</td>\n    </tr>\n    <tr>\n      <th>3</th>\n      <td>91573</td>\n      <td>1</td>\n      <td>91573</td>\n      <td>0.412115</td>\n      <td>0.000089</td>\n      <td>0.000092</td>\n      <td>boris_rozhin</td>\n      <td>1101806611</td>\n      <td>91573</td>\n      <td>2023-07-08 02:07:05</td>\n      <td>...</td>\n      <td>neutral</td>\n      <td>0.973560</td>\n      <td>neutral</td>\n      <td>0.906539</td>\n      <td>False</td>\n      <td>0.940683</td>\n      <td>0.822248</td>\n      <td>0.121834</td>\n      <td>0.055918</td>\n      <td>1</td>\n    </tr>\n    <tr>\n      <th>4</th>\n      <td>280695</td>\n      <td>2</td>\n      <td>280695</td>\n      <td>0.902208</td>\n      <td>0.000016</td>\n      <td>0.000016</td>\n      <td>swodki</td>\n      <td>1144180066</td>\n      <td>280695</td>\n      <td>2023-07-09 07:01:49</td>\n      <td>...</td>\n      <td>neutral</td>\n      <td>0.788881</td>\n      <td>gratitude</td>\n      <td>0.769272</td>\n      <td>False</td>\n      <td>0.949768</td>\n      <td>0.979169</td>\n      <td>0.011484</td>\n      <td>0.009347</td>\n      <td>1</td>\n    </tr>\n  </tbody>\n</table>\n<p>5 rows × 24 columns</p>\n</div>"
     },
     "execution_count": 41,
     "metadata": {},
     "output_type": "execute_result"
    }
   ],
   "source": [
    "total_train.head()"
   ],
   "metadata": {
    "collapsed": false,
    "ExecuteTime": {
     "start_time": "2023-11-19T02:45:16.848860Z",
     "end_time": "2023-11-19T02:45:16.853991Z"
    }
   }
  },
  {
   "cell_type": "code",
   "execution_count": 40,
   "outputs": [],
   "source": [
    "total_train['Suspicious_Level'] = train_original['Suspicious_Level']"
   ],
   "metadata": {
    "collapsed": false,
    "ExecuteTime": {
     "start_time": "2023-11-19T02:45:14.161908Z",
     "end_time": "2023-11-19T02:45:14.165964Z"
    }
   }
  },
  {
   "cell_type": "code",
   "execution_count": 45,
   "outputs": [],
   "source": [
    "# Deduplicate based on 'MessageId'\n",
    "total_train = total_train.drop_duplicates(subset='MessageId', keep='first')"
   ],
   "metadata": {
    "collapsed": false,
    "ExecuteTime": {
     "start_time": "2023-11-19T02:46:56.088208Z",
     "end_time": "2023-11-19T02:46:56.092852Z"
    }
   }
  },
  {
   "cell_type": "code",
   "execution_count": 46,
   "outputs": [
    {
     "data": {
      "text/plain": "   MessageId  Embeddings_Suspicious_Level  MessageId  Bayes_Suspicious_Level1   \n0      91626                            1      91626                 0.000277  \\\n1      40853                            3      40853                 0.921367   \n2     280668                            2     280668                 0.902208   \n3      91573                            1      91573                 0.412115   \n4     280695                            2     280695                 0.902208   \n\n   Bayes_Suspicious_Level2  Bayes_Suspicious_Level3   ChannelName   ChannelId   \n0                 0.436488                 0.000084  boris_rozhin  1101806611  \\\n1                 0.000017                 0.000014     sashakots  1109403194   \n2                 0.000016                 0.000016        swodki  1144180066   \n3                 0.000089                 0.000092  boris_rozhin  1101806611   \n4                 0.000016                 0.000016        swodki  1144180066   \n\n   MessageId                 Date  ... Sentiment Sentiment_Score    Emotion   \n0      91626  2023-07-08 16:11:34  ...   neutral        0.948454    neutral  \\\n1      40853  2023-07-08 16:44:44  ...   neutral        0.498936  gratitude   \n2     280668  2023-07-09 02:00:23  ...   neutral        0.788881  gratitude   \n3      91573  2023-07-08 02:07:05  ...   neutral        0.973560    neutral   \n4     280695  2023-07-09 07:01:49  ...   neutral        0.788881  gratitude   \n\n   Emotion_Score Dangerous  Dangerous_Score Linear_Level1  Linear_Level2   \n0       0.745498     False         0.913780      0.059677       0.925722  \\\n1       0.868692     False         0.948626      0.907052       0.067565   \n2       0.769272     False         0.949768      0.979169       0.011484   \n3       0.906539     False         0.940683      0.822248       0.121834   \n4       0.769272     False         0.949768      0.979169       0.011484   \n\n   Linear_Level3  Suspicious_Level  \n0       0.014601                 2  \n1       0.025382                 1  \n2       0.009347                 1  \n3       0.055918                 1  \n4       0.009347                 1  \n\n[5 rows x 24 columns]",
      "text/html": "<div>\n<style scoped>\n    .dataframe tbody tr th:only-of-type {\n        vertical-align: middle;\n    }\n\n    .dataframe tbody tr th {\n        vertical-align: top;\n    }\n\n    .dataframe thead th {\n        text-align: right;\n    }\n</style>\n<table border=\"1\" class=\"dataframe\">\n  <thead>\n    <tr style=\"text-align: right;\">\n      <th></th>\n      <th>MessageId</th>\n      <th>Embeddings_Suspicious_Level</th>\n      <th>MessageId</th>\n      <th>Bayes_Suspicious_Level1</th>\n      <th>Bayes_Suspicious_Level2</th>\n      <th>Bayes_Suspicious_Level3</th>\n      <th>ChannelName</th>\n      <th>ChannelId</th>\n      <th>MessageId</th>\n      <th>Date</th>\n      <th>...</th>\n      <th>Sentiment</th>\n      <th>Sentiment_Score</th>\n      <th>Emotion</th>\n      <th>Emotion_Score</th>\n      <th>Dangerous</th>\n      <th>Dangerous_Score</th>\n      <th>Linear_Level1</th>\n      <th>Linear_Level2</th>\n      <th>Linear_Level3</th>\n      <th>Suspicious_Level</th>\n    </tr>\n  </thead>\n  <tbody>\n    <tr>\n      <th>0</th>\n      <td>91626</td>\n      <td>1</td>\n      <td>91626</td>\n      <td>0.000277</td>\n      <td>0.436488</td>\n      <td>0.000084</td>\n      <td>boris_rozhin</td>\n      <td>1101806611</td>\n      <td>91626</td>\n      <td>2023-07-08 16:11:34</td>\n      <td>...</td>\n      <td>neutral</td>\n      <td>0.948454</td>\n      <td>neutral</td>\n      <td>0.745498</td>\n      <td>False</td>\n      <td>0.913780</td>\n      <td>0.059677</td>\n      <td>0.925722</td>\n      <td>0.014601</td>\n      <td>2</td>\n    </tr>\n    <tr>\n      <th>1</th>\n      <td>40853</td>\n      <td>3</td>\n      <td>40853</td>\n      <td>0.921367</td>\n      <td>0.000017</td>\n      <td>0.000014</td>\n      <td>sashakots</td>\n      <td>1109403194</td>\n      <td>40853</td>\n      <td>2023-07-08 16:44:44</td>\n      <td>...</td>\n      <td>neutral</td>\n      <td>0.498936</td>\n      <td>gratitude</td>\n      <td>0.868692</td>\n      <td>False</td>\n      <td>0.948626</td>\n      <td>0.907052</td>\n      <td>0.067565</td>\n      <td>0.025382</td>\n      <td>1</td>\n    </tr>\n    <tr>\n      <th>2</th>\n      <td>280668</td>\n      <td>2</td>\n      <td>280668</td>\n      <td>0.902208</td>\n      <td>0.000016</td>\n      <td>0.000016</td>\n      <td>swodki</td>\n      <td>1144180066</td>\n      <td>280668</td>\n      <td>2023-07-09 02:00:23</td>\n      <td>...</td>\n      <td>neutral</td>\n      <td>0.788881</td>\n      <td>gratitude</td>\n      <td>0.769272</td>\n      <td>False</td>\n      <td>0.949768</td>\n      <td>0.979169</td>\n      <td>0.011484</td>\n      <td>0.009347</td>\n      <td>1</td>\n    </tr>\n    <tr>\n      <th>3</th>\n      <td>91573</td>\n      <td>1</td>\n      <td>91573</td>\n      <td>0.412115</td>\n      <td>0.000089</td>\n      <td>0.000092</td>\n      <td>boris_rozhin</td>\n      <td>1101806611</td>\n      <td>91573</td>\n      <td>2023-07-08 02:07:05</td>\n      <td>...</td>\n      <td>neutral</td>\n      <td>0.973560</td>\n      <td>neutral</td>\n      <td>0.906539</td>\n      <td>False</td>\n      <td>0.940683</td>\n      <td>0.822248</td>\n      <td>0.121834</td>\n      <td>0.055918</td>\n      <td>1</td>\n    </tr>\n    <tr>\n      <th>4</th>\n      <td>280695</td>\n      <td>2</td>\n      <td>280695</td>\n      <td>0.902208</td>\n      <td>0.000016</td>\n      <td>0.000016</td>\n      <td>swodki</td>\n      <td>1144180066</td>\n      <td>280695</td>\n      <td>2023-07-09 07:01:49</td>\n      <td>...</td>\n      <td>neutral</td>\n      <td>0.788881</td>\n      <td>gratitude</td>\n      <td>0.769272</td>\n      <td>False</td>\n      <td>0.949768</td>\n      <td>0.979169</td>\n      <td>0.011484</td>\n      <td>0.009347</td>\n      <td>1</td>\n    </tr>\n  </tbody>\n</table>\n<p>5 rows × 24 columns</p>\n</div>"
     },
     "execution_count": 46,
     "metadata": {},
     "output_type": "execute_result"
    }
   ],
   "source": [
    "total_train.head()"
   ],
   "metadata": {
    "collapsed": false,
    "ExecuteTime": {
     "start_time": "2023-11-19T02:46:57.864197Z",
     "end_time": "2023-11-19T02:46:57.868416Z"
    }
   }
  },
  {
   "cell_type": "code",
   "execution_count": 47,
   "outputs": [],
   "source": [
    "total_train.to_csv(os.path.join(ROOT_DIR, 'total_train.csv'), index=False)"
   ],
   "metadata": {
    "collapsed": false,
    "ExecuteTime": {
     "start_time": "2023-11-19T02:47:29.743071Z",
     "end_time": "2023-11-19T02:47:29.779934Z"
    }
   }
  },
  {
   "cell_type": "code",
   "execution_count": 48,
   "outputs": [],
   "source": [
    "total_train = total_train.drop(['MessageId'], axis=1)"
   ],
   "metadata": {
    "collapsed": false,
    "ExecuteTime": {
     "start_time": "2023-11-19T02:48:43.753496Z",
     "end_time": "2023-11-19T02:48:43.793194Z"
    }
   }
  },
  {
   "cell_type": "code",
   "execution_count": 49,
   "outputs": [
    {
     "data": {
      "text/plain": "   Embeddings_Suspicious_Level  Bayes_Suspicious_Level1   \n0                            1                 0.000277  \\\n1                            3                 0.921367   \n2                            2                 0.902208   \n3                            1                 0.412115   \n4                            2                 0.902208   \n\n   Bayes_Suspicious_Level2  Bayes_Suspicious_Level3   ChannelName   ChannelId   \n0                 0.436488                 0.000084  boris_rozhin  1101806611  \\\n1                 0.000017                 0.000014     sashakots  1109403194   \n2                 0.000016                 0.000016        swodki  1144180066   \n3                 0.000089                 0.000092  boris_rozhin  1101806611   \n4                 0.000016                 0.000016        swodki  1144180066   \n\n                  Date             EditDate   \n0  2023-07-08 16:11:34  2023-07-08 16:11:47  \\\n1  2023-07-08 16:44:44  2023-07-08 16:44:58   \n2  2023-07-09 02:00:23  2023-07-09 02:05:53   \n3  2023-07-08 02:07:05  2023-07-08 02:07:19   \n4  2023-07-09 07:01:49  2023-07-09 07:05:08   \n\n                                             Content   Sensitive Topic  ...   \n0  Работа наших бойцов к югу от Артемовска. Работ...  weapons,politics  ...  \\\n1  Анкара нарушила договорённости, отпустив глава...   politics,racism  ...   \n2  ЭТО ЕДИНСТВЕННЫЙ СПОСОБ ПОМОЧЬ НАМ! \\n\\nПополн...              none  ...   \n3  МТ-ЛБ с 32-зарядной авиационной пусковой устан...           weapons  ...   \n4  ЭТО ЕДИНСТВЕННЫЙ СПОСОБ ПОМОЧЬ НАМ! \\n\\nПополн...              none  ...   \n\n   Sentiment Sentiment_Score    Emotion Emotion_Score  Dangerous   \n0    neutral        0.948454    neutral      0.745498      False  \\\n1    neutral        0.498936  gratitude      0.868692      False   \n2    neutral        0.788881  gratitude      0.769272      False   \n3    neutral        0.973560    neutral      0.906539      False   \n4    neutral        0.788881  gratitude      0.769272      False   \n\n   Dangerous_Score  Linear_Level1  Linear_Level2  Linear_Level3   \n0         0.913780       0.059677       0.925722       0.014601  \\\n1         0.948626       0.907052       0.067565       0.025382   \n2         0.949768       0.979169       0.011484       0.009347   \n3         0.940683       0.822248       0.121834       0.055918   \n4         0.949768       0.979169       0.011484       0.009347   \n\n   Suspicious_Level  \n0                 2  \n1                 1  \n2                 1  \n3                 1  \n4                 1  \n\n[5 rows x 21 columns]",
      "text/html": "<div>\n<style scoped>\n    .dataframe tbody tr th:only-of-type {\n        vertical-align: middle;\n    }\n\n    .dataframe tbody tr th {\n        vertical-align: top;\n    }\n\n    .dataframe thead th {\n        text-align: right;\n    }\n</style>\n<table border=\"1\" class=\"dataframe\">\n  <thead>\n    <tr style=\"text-align: right;\">\n      <th></th>\n      <th>Embeddings_Suspicious_Level</th>\n      <th>Bayes_Suspicious_Level1</th>\n      <th>Bayes_Suspicious_Level2</th>\n      <th>Bayes_Suspicious_Level3</th>\n      <th>ChannelName</th>\n      <th>ChannelId</th>\n      <th>Date</th>\n      <th>EditDate</th>\n      <th>Content</th>\n      <th>Sensitive Topic</th>\n      <th>...</th>\n      <th>Sentiment</th>\n      <th>Sentiment_Score</th>\n      <th>Emotion</th>\n      <th>Emotion_Score</th>\n      <th>Dangerous</th>\n      <th>Dangerous_Score</th>\n      <th>Linear_Level1</th>\n      <th>Linear_Level2</th>\n      <th>Linear_Level3</th>\n      <th>Suspicious_Level</th>\n    </tr>\n  </thead>\n  <tbody>\n    <tr>\n      <th>0</th>\n      <td>1</td>\n      <td>0.000277</td>\n      <td>0.436488</td>\n      <td>0.000084</td>\n      <td>boris_rozhin</td>\n      <td>1101806611</td>\n      <td>2023-07-08 16:11:34</td>\n      <td>2023-07-08 16:11:47</td>\n      <td>Работа наших бойцов к югу от Артемовска. Работ...</td>\n      <td>weapons,politics</td>\n      <td>...</td>\n      <td>neutral</td>\n      <td>0.948454</td>\n      <td>neutral</td>\n      <td>0.745498</td>\n      <td>False</td>\n      <td>0.913780</td>\n      <td>0.059677</td>\n      <td>0.925722</td>\n      <td>0.014601</td>\n      <td>2</td>\n    </tr>\n    <tr>\n      <th>1</th>\n      <td>3</td>\n      <td>0.921367</td>\n      <td>0.000017</td>\n      <td>0.000014</td>\n      <td>sashakots</td>\n      <td>1109403194</td>\n      <td>2023-07-08 16:44:44</td>\n      <td>2023-07-08 16:44:58</td>\n      <td>Анкара нарушила договорённости, отпустив глава...</td>\n      <td>politics,racism</td>\n      <td>...</td>\n      <td>neutral</td>\n      <td>0.498936</td>\n      <td>gratitude</td>\n      <td>0.868692</td>\n      <td>False</td>\n      <td>0.948626</td>\n      <td>0.907052</td>\n      <td>0.067565</td>\n      <td>0.025382</td>\n      <td>1</td>\n    </tr>\n    <tr>\n      <th>2</th>\n      <td>2</td>\n      <td>0.902208</td>\n      <td>0.000016</td>\n      <td>0.000016</td>\n      <td>swodki</td>\n      <td>1144180066</td>\n      <td>2023-07-09 02:00:23</td>\n      <td>2023-07-09 02:05:53</td>\n      <td>ЭТО ЕДИНСТВЕННЫЙ СПОСОБ ПОМОЧЬ НАМ! \\n\\nПополн...</td>\n      <td>none</td>\n      <td>...</td>\n      <td>neutral</td>\n      <td>0.788881</td>\n      <td>gratitude</td>\n      <td>0.769272</td>\n      <td>False</td>\n      <td>0.949768</td>\n      <td>0.979169</td>\n      <td>0.011484</td>\n      <td>0.009347</td>\n      <td>1</td>\n    </tr>\n    <tr>\n      <th>3</th>\n      <td>1</td>\n      <td>0.412115</td>\n      <td>0.000089</td>\n      <td>0.000092</td>\n      <td>boris_rozhin</td>\n      <td>1101806611</td>\n      <td>2023-07-08 02:07:05</td>\n      <td>2023-07-08 02:07:19</td>\n      <td>МТ-ЛБ с 32-зарядной авиационной пусковой устан...</td>\n      <td>weapons</td>\n      <td>...</td>\n      <td>neutral</td>\n      <td>0.973560</td>\n      <td>neutral</td>\n      <td>0.906539</td>\n      <td>False</td>\n      <td>0.940683</td>\n      <td>0.822248</td>\n      <td>0.121834</td>\n      <td>0.055918</td>\n      <td>1</td>\n    </tr>\n    <tr>\n      <th>4</th>\n      <td>2</td>\n      <td>0.902208</td>\n      <td>0.000016</td>\n      <td>0.000016</td>\n      <td>swodki</td>\n      <td>1144180066</td>\n      <td>2023-07-09 07:01:49</td>\n      <td>2023-07-09 07:05:08</td>\n      <td>ЭТО ЕДИНСТВЕННЫЙ СПОСОБ ПОМОЧЬ НАМ! \\n\\nПополн...</td>\n      <td>none</td>\n      <td>...</td>\n      <td>neutral</td>\n      <td>0.788881</td>\n      <td>gratitude</td>\n      <td>0.769272</td>\n      <td>False</td>\n      <td>0.949768</td>\n      <td>0.979169</td>\n      <td>0.011484</td>\n      <td>0.009347</td>\n      <td>1</td>\n    </tr>\n  </tbody>\n</table>\n<p>5 rows × 21 columns</p>\n</div>"
     },
     "execution_count": 49,
     "metadata": {},
     "output_type": "execute_result"
    }
   ],
   "source": [
    "total_train.head()"
   ],
   "metadata": {
    "collapsed": false,
    "ExecuteTime": {
     "start_time": "2023-11-19T02:48:46.272291Z",
     "end_time": "2023-11-19T02:48:46.281451Z"
    }
   }
  },
  {
   "cell_type": "code",
   "execution_count": 50,
   "outputs": [],
   "source": [
    "total_train = total_train.drop(['Content'], axis=1)"
   ],
   "metadata": {
    "collapsed": false,
    "ExecuteTime": {
     "start_time": "2023-11-19T02:49:14.802629Z",
     "end_time": "2023-11-19T02:49:14.823100Z"
    }
   }
  },
  {
   "cell_type": "code",
   "execution_count": 51,
   "outputs": [
    {
     "data": {
      "text/plain": "   Embeddings_Suspicious_Level  Bayes_Suspicious_Level1   \n0                            1                 0.000277  \\\n1                            3                 0.921367   \n2                            2                 0.902208   \n3                            1                 0.412115   \n4                            2                 0.902208   \n\n   Bayes_Suspicious_Level2  Bayes_Suspicious_Level3   ChannelName   ChannelId   \n0                 0.436488                 0.000084  boris_rozhin  1101806611  \\\n1                 0.000017                 0.000014     sashakots  1109403194   \n2                 0.000016                 0.000016        swodki  1144180066   \n3                 0.000089                 0.000092  boris_rozhin  1101806611   \n4                 0.000016                 0.000016        swodki  1144180066   \n\n                  Date             EditDate   Sensitive Topic  num_sensitive   \n0  2023-07-08 16:11:34  2023-07-08 16:11:47  weapons,politics              2  \\\n1  2023-07-08 16:44:44  2023-07-08 16:44:58   politics,racism              2   \n2  2023-07-09 02:00:23  2023-07-09 02:05:53              none              0   \n3  2023-07-08 02:07:05  2023-07-08 02:07:19           weapons              1   \n4  2023-07-09 07:01:49  2023-07-09 07:05:08              none              0   \n\n  Sentiment  Sentiment_Score    Emotion  Emotion_Score  Dangerous   \n0   neutral         0.948454    neutral       0.745498      False  \\\n1   neutral         0.498936  gratitude       0.868692      False   \n2   neutral         0.788881  gratitude       0.769272      False   \n3   neutral         0.973560    neutral       0.906539      False   \n4   neutral         0.788881  gratitude       0.769272      False   \n\n   Dangerous_Score  Linear_Level1  Linear_Level2  Linear_Level3   \n0         0.913780       0.059677       0.925722       0.014601  \\\n1         0.948626       0.907052       0.067565       0.025382   \n2         0.949768       0.979169       0.011484       0.009347   \n3         0.940683       0.822248       0.121834       0.055918   \n4         0.949768       0.979169       0.011484       0.009347   \n\n   Suspicious_Level  \n0                 2  \n1                 1  \n2                 1  \n3                 1  \n4                 1  ",
      "text/html": "<div>\n<style scoped>\n    .dataframe tbody tr th:only-of-type {\n        vertical-align: middle;\n    }\n\n    .dataframe tbody tr th {\n        vertical-align: top;\n    }\n\n    .dataframe thead th {\n        text-align: right;\n    }\n</style>\n<table border=\"1\" class=\"dataframe\">\n  <thead>\n    <tr style=\"text-align: right;\">\n      <th></th>\n      <th>Embeddings_Suspicious_Level</th>\n      <th>Bayes_Suspicious_Level1</th>\n      <th>Bayes_Suspicious_Level2</th>\n      <th>Bayes_Suspicious_Level3</th>\n      <th>ChannelName</th>\n      <th>ChannelId</th>\n      <th>Date</th>\n      <th>EditDate</th>\n      <th>Sensitive Topic</th>\n      <th>num_sensitive</th>\n      <th>Sentiment</th>\n      <th>Sentiment_Score</th>\n      <th>Emotion</th>\n      <th>Emotion_Score</th>\n      <th>Dangerous</th>\n      <th>Dangerous_Score</th>\n      <th>Linear_Level1</th>\n      <th>Linear_Level2</th>\n      <th>Linear_Level3</th>\n      <th>Suspicious_Level</th>\n    </tr>\n  </thead>\n  <tbody>\n    <tr>\n      <th>0</th>\n      <td>1</td>\n      <td>0.000277</td>\n      <td>0.436488</td>\n      <td>0.000084</td>\n      <td>boris_rozhin</td>\n      <td>1101806611</td>\n      <td>2023-07-08 16:11:34</td>\n      <td>2023-07-08 16:11:47</td>\n      <td>weapons,politics</td>\n      <td>2</td>\n      <td>neutral</td>\n      <td>0.948454</td>\n      <td>neutral</td>\n      <td>0.745498</td>\n      <td>False</td>\n      <td>0.913780</td>\n      <td>0.059677</td>\n      <td>0.925722</td>\n      <td>0.014601</td>\n      <td>2</td>\n    </tr>\n    <tr>\n      <th>1</th>\n      <td>3</td>\n      <td>0.921367</td>\n      <td>0.000017</td>\n      <td>0.000014</td>\n      <td>sashakots</td>\n      <td>1109403194</td>\n      <td>2023-07-08 16:44:44</td>\n      <td>2023-07-08 16:44:58</td>\n      <td>politics,racism</td>\n      <td>2</td>\n      <td>neutral</td>\n      <td>0.498936</td>\n      <td>gratitude</td>\n      <td>0.868692</td>\n      <td>False</td>\n      <td>0.948626</td>\n      <td>0.907052</td>\n      <td>0.067565</td>\n      <td>0.025382</td>\n      <td>1</td>\n    </tr>\n    <tr>\n      <th>2</th>\n      <td>2</td>\n      <td>0.902208</td>\n      <td>0.000016</td>\n      <td>0.000016</td>\n      <td>swodki</td>\n      <td>1144180066</td>\n      <td>2023-07-09 02:00:23</td>\n      <td>2023-07-09 02:05:53</td>\n      <td>none</td>\n      <td>0</td>\n      <td>neutral</td>\n      <td>0.788881</td>\n      <td>gratitude</td>\n      <td>0.769272</td>\n      <td>False</td>\n      <td>0.949768</td>\n      <td>0.979169</td>\n      <td>0.011484</td>\n      <td>0.009347</td>\n      <td>1</td>\n    </tr>\n    <tr>\n      <th>3</th>\n      <td>1</td>\n      <td>0.412115</td>\n      <td>0.000089</td>\n      <td>0.000092</td>\n      <td>boris_rozhin</td>\n      <td>1101806611</td>\n      <td>2023-07-08 02:07:05</td>\n      <td>2023-07-08 02:07:19</td>\n      <td>weapons</td>\n      <td>1</td>\n      <td>neutral</td>\n      <td>0.973560</td>\n      <td>neutral</td>\n      <td>0.906539</td>\n      <td>False</td>\n      <td>0.940683</td>\n      <td>0.822248</td>\n      <td>0.121834</td>\n      <td>0.055918</td>\n      <td>1</td>\n    </tr>\n    <tr>\n      <th>4</th>\n      <td>2</td>\n      <td>0.902208</td>\n      <td>0.000016</td>\n      <td>0.000016</td>\n      <td>swodki</td>\n      <td>1144180066</td>\n      <td>2023-07-09 07:01:49</td>\n      <td>2023-07-09 07:05:08</td>\n      <td>none</td>\n      <td>0</td>\n      <td>neutral</td>\n      <td>0.788881</td>\n      <td>gratitude</td>\n      <td>0.769272</td>\n      <td>False</td>\n      <td>0.949768</td>\n      <td>0.979169</td>\n      <td>0.011484</td>\n      <td>0.009347</td>\n      <td>1</td>\n    </tr>\n  </tbody>\n</table>\n</div>"
     },
     "execution_count": 51,
     "metadata": {},
     "output_type": "execute_result"
    }
   ],
   "source": [
    "total_train.head()"
   ],
   "metadata": {
    "collapsed": false,
    "ExecuteTime": {
     "start_time": "2023-11-19T02:49:17.580834Z",
     "end_time": "2023-11-19T02:49:17.584547Z"
    }
   }
  },
  {
   "cell_type": "code",
   "execution_count": 53,
   "outputs": [],
   "source": [
    "total_train = total_train.drop(['ChannelName', 'ChannelId', 'Date', 'EditDate', 'Sensitive Topic'], axis=1)"
   ],
   "metadata": {
    "collapsed": false,
    "ExecuteTime": {
     "start_time": "2023-11-19T02:50:35.151128Z",
     "end_time": "2023-11-19T02:50:35.155752Z"
    }
   }
  },
  {
   "cell_type": "code",
   "execution_count": 57,
   "outputs": [
    {
     "data": {
      "text/plain": "   Embeddings_Suspicious_Level  Bayes_Suspicious_Level1   \n0                            1                 0.000277  \\\n1                            3                 0.921367   \n2                            2                 0.902208   \n3                            1                 0.412115   \n4                            2                 0.902208   \n\n   Bayes_Suspicious_Level2  Bayes_Suspicious_Level3  num_sensitive Sentiment   \n0                 0.436488                 0.000084              2   neutral  \\\n1                 0.000017                 0.000014              2   neutral   \n2                 0.000016                 0.000016              0   neutral   \n3                 0.000089                 0.000092              1   neutral   \n4                 0.000016                 0.000016              0   neutral   \n\n   Sentiment_Score    Emotion  Emotion_Score  Dangerous  Dangerous_Score   \n0         0.948454    neutral       0.745498      False         0.913780  \\\n1         0.498936  gratitude       0.868692      False         0.948626   \n2         0.788881  gratitude       0.769272      False         0.949768   \n3         0.973560    neutral       0.906539      False         0.940683   \n4         0.788881  gratitude       0.769272      False         0.949768   \n\n   Linear_Level1  Linear_Level2  Linear_Level3  Suspicious_Level  \n0       0.059677       0.925722       0.014601                 2  \n1       0.907052       0.067565       0.025382                 1  \n2       0.979169       0.011484       0.009347                 1  \n3       0.822248       0.121834       0.055918                 1  \n4       0.979169       0.011484       0.009347                 1  ",
      "text/html": "<div>\n<style scoped>\n    .dataframe tbody tr th:only-of-type {\n        vertical-align: middle;\n    }\n\n    .dataframe tbody tr th {\n        vertical-align: top;\n    }\n\n    .dataframe thead th {\n        text-align: right;\n    }\n</style>\n<table border=\"1\" class=\"dataframe\">\n  <thead>\n    <tr style=\"text-align: right;\">\n      <th></th>\n      <th>Embeddings_Suspicious_Level</th>\n      <th>Bayes_Suspicious_Level1</th>\n      <th>Bayes_Suspicious_Level2</th>\n      <th>Bayes_Suspicious_Level3</th>\n      <th>num_sensitive</th>\n      <th>Sentiment</th>\n      <th>Sentiment_Score</th>\n      <th>Emotion</th>\n      <th>Emotion_Score</th>\n      <th>Dangerous</th>\n      <th>Dangerous_Score</th>\n      <th>Linear_Level1</th>\n      <th>Linear_Level2</th>\n      <th>Linear_Level3</th>\n      <th>Suspicious_Level</th>\n    </tr>\n  </thead>\n  <tbody>\n    <tr>\n      <th>0</th>\n      <td>1</td>\n      <td>0.000277</td>\n      <td>0.436488</td>\n      <td>0.000084</td>\n      <td>2</td>\n      <td>neutral</td>\n      <td>0.948454</td>\n      <td>neutral</td>\n      <td>0.745498</td>\n      <td>False</td>\n      <td>0.913780</td>\n      <td>0.059677</td>\n      <td>0.925722</td>\n      <td>0.014601</td>\n      <td>2</td>\n    </tr>\n    <tr>\n      <th>1</th>\n      <td>3</td>\n      <td>0.921367</td>\n      <td>0.000017</td>\n      <td>0.000014</td>\n      <td>2</td>\n      <td>neutral</td>\n      <td>0.498936</td>\n      <td>gratitude</td>\n      <td>0.868692</td>\n      <td>False</td>\n      <td>0.948626</td>\n      <td>0.907052</td>\n      <td>0.067565</td>\n      <td>0.025382</td>\n      <td>1</td>\n    </tr>\n    <tr>\n      <th>2</th>\n      <td>2</td>\n      <td>0.902208</td>\n      <td>0.000016</td>\n      <td>0.000016</td>\n      <td>0</td>\n      <td>neutral</td>\n      <td>0.788881</td>\n      <td>gratitude</td>\n      <td>0.769272</td>\n      <td>False</td>\n      <td>0.949768</td>\n      <td>0.979169</td>\n      <td>0.011484</td>\n      <td>0.009347</td>\n      <td>1</td>\n    </tr>\n    <tr>\n      <th>3</th>\n      <td>1</td>\n      <td>0.412115</td>\n      <td>0.000089</td>\n      <td>0.000092</td>\n      <td>1</td>\n      <td>neutral</td>\n      <td>0.973560</td>\n      <td>neutral</td>\n      <td>0.906539</td>\n      <td>False</td>\n      <td>0.940683</td>\n      <td>0.822248</td>\n      <td>0.121834</td>\n      <td>0.055918</td>\n      <td>1</td>\n    </tr>\n    <tr>\n      <th>4</th>\n      <td>2</td>\n      <td>0.902208</td>\n      <td>0.000016</td>\n      <td>0.000016</td>\n      <td>0</td>\n      <td>neutral</td>\n      <td>0.788881</td>\n      <td>gratitude</td>\n      <td>0.769272</td>\n      <td>False</td>\n      <td>0.949768</td>\n      <td>0.979169</td>\n      <td>0.011484</td>\n      <td>0.009347</td>\n      <td>1</td>\n    </tr>\n  </tbody>\n</table>\n</div>"
     },
     "execution_count": 57,
     "metadata": {},
     "output_type": "execute_result"
    }
   ],
   "source": [
    "total_train.head()"
   ],
   "metadata": {
    "collapsed": false,
    "ExecuteTime": {
     "start_time": "2023-11-19T02:55:33.970636Z",
     "end_time": "2023-11-19T02:55:33.973611Z"
    }
   }
  },
  {
   "cell_type": "code",
   "execution_count": 55,
   "outputs": [],
   "source": [
    "total_train.to_csv(os.path.join(ROOT_DIR, 'filtered_total_train.csv'), index=False)"
   ],
   "metadata": {
    "collapsed": false,
    "ExecuteTime": {
     "start_time": "2023-11-19T02:51:05.793690Z",
     "end_time": "2023-11-19T02:51:05.817067Z"
    }
   }
  },
  {
   "cell_type": "code",
   "execution_count": 102,
   "outputs": [
    {
     "name": "stdout",
     "output_type": "stream",
     "text": [
      "     Bayes_Suspicious_Level1  Bayes_Suspicious_Level2   \n",
      "131                 0.999997                 0.000002  \\\n",
      "153                 0.308114                 0.000132   \n",
      "77                  0.000137                 0.763460   \n",
      "437                 0.000062                 0.931017   \n",
      "255                 0.891699                 0.000030   \n",
      "..                       ...                      ...   \n",
      "71                  0.701555                 0.000059   \n",
      "106                 0.911197                 0.003032   \n",
      "270                 0.980798                 0.000004   \n",
      "435                 0.735804                 0.000049   \n",
      "102                 0.000037                 0.999963   \n",
      "\n",
      "     Bayes_Suspicious_Level3  Dangerous  Dangerous_Score   \n",
      "131             1.153699e-06      False         0.941817  \\\n",
      "153             1.162452e-04      False         0.935295   \n",
      "77              1.537169e-04      False         0.937550   \n",
      "437             2.305625e-05      False         0.952586   \n",
      "255             1.857842e-05      False         0.951010   \n",
      "..                       ...        ...              ...   \n",
      "71              5.975116e-05      False         0.954482   \n",
      "106             2.255687e-05      False         0.932930   \n",
      "270             3.492277e-06      False         0.947753   \n",
      "435             4.116888e-05      False         0.952161   \n",
      "102             7.629471e-14      False         0.944538   \n",
      "\n",
      "     Embeddings_Suspicious_Level  Emotion_Score  Linear_Level1  Linear_Level2   \n",
      "131                            1       0.125007       0.965272       0.017724  \\\n",
      "153                            3       0.771672       0.852797       0.093086   \n",
      "77                             1       0.802737       0.025288       0.944475   \n",
      "437                            1       0.556125       0.017898       0.975687   \n",
      "255                            1       0.389826       0.942267       0.047335   \n",
      "..                           ...            ...            ...            ...   \n",
      "71                             2       0.359880       0.909713       0.047553   \n",
      "106                            2       0.864217       0.702694       0.278349   \n",
      "270                            1       0.187908       0.964138       0.023225   \n",
      "435                            1       0.842887       0.849617       0.100536   \n",
      "102                            1       0.551999       0.016867       0.979991   \n",
      "\n",
      "     Linear_Level3  Sentiment_Score  num_sensitive  Sentiment_neutral   \n",
      "131       0.017004         0.560413              1               True  \\\n",
      "153       0.054117         0.979059              1               True   \n",
      "77        0.030237         0.558697              2               True   \n",
      "437       0.006414         0.766003              1               True   \n",
      "255       0.010398         0.710903              2               True   \n",
      "..             ...              ...            ...                ...   \n",
      "71        0.042734         0.951831              1               True   \n",
      "106       0.018958         0.899550              2               True   \n",
      "270       0.012638         0.938591              1               True   \n",
      "435       0.049847         0.987612              1               True   \n",
      "102       0.003142         0.592237              1              False   \n",
      "\n",
      "     Sentiment_positive  \n",
      "131               False  \n",
      "153               False  \n",
      "77                False  \n",
      "437               False  \n",
      "255               False  \n",
      "..                  ...  \n",
      "71                False  \n",
      "106               False  \n",
      "270               False  \n",
      "435               False  \n",
      "102               False  \n",
      "\n",
      "[469 rows x 14 columns]\n",
      "Test Accuracy: 80.51%\n",
      "F1 Score: 72.02%\n",
      "Classification Report:\n",
      "               precision    recall  f1-score   support\n",
      "\n",
      "           1       0.83      0.92      0.87        75\n",
      "           2       0.70      0.70      0.70        27\n",
      "           3       0.88      0.44      0.58        16\n",
      "\n",
      "    accuracy                           0.81       118\n",
      "   macro avg       0.80      0.69      0.72       118\n",
      "weighted avg       0.81      0.81      0.80       118\n",
      "\n"
     ]
    }
   ],
   "source": [
    "import pandas as pd\n",
    "from sklearn.model_selection import train_test_split\n",
    "from sklearn.ensemble import RandomForestClassifier\n",
    "from sklearn.metrics import classification_report, accuracy_score\n",
    "\n",
    "# Assuming you have a DataFrame named 'df' with 15 columns\n",
    "# The first 14 columns are your features, and the last column ('Suspicious_Level') is your target\n",
    "\n",
    "# Separate features and target variable based on column names\n",
    "target_column = 'Suspicious_Level'\n",
    "\n",
    "X = total_train.drop(['Suspicious_Level'], axis=1)  # Features\n",
    "X = X.drop(['Emotion'], axis=1)\n",
    "X = X.drop(['num_sensitive'], axis=1)\n",
    "# Sort columns alphabetically\n",
    "X = X.reindex(sorted(X.columns), axis=1)\n",
    "y = total_train['Suspicious_Level']  # Target variable\n",
    "\n",
    "# Convert categorical columns (like 'Sentiment') to numerical using one-hot encoding\n",
    "X = pd.get_dummies(X, columns=['Sentiment'], drop_first=True)\n",
    "# X = pd.get_dummies(X, columns=['Emotion'], drop_first=True)\n",
    "\n",
    "# Split the data into training and testing sets\n",
    "X_train, X_test, y_train, y_test = train_test_split(X, y, test_size=0.2, random_state=42)\n",
    "\n",
    "print(X_train)\n",
    "\n",
    "# Create and train the RandomForestClassifier\n",
    "classifier = RandomForestClassifier(n_estimators=100, random_state=42)\n",
    "classifier.fit(X_train, y_train)\n",
    "\n",
    "# Make predictions on the test set\n",
    "y_pred = classifier.predict(X_test)\n",
    "\n",
    "# Evaluate the model\n",
    "accuracy = accuracy_score(y_test, y_pred)\n",
    "print(f'Test Accuracy: {accuracy * 100:.2f}%')\n",
    "\n",
    "f1_ensemble_score = f1_score(y_test, y_pred, average='macro')\n",
    "print(f'F1 Score: {f1_ensemble_score * 100:.2f}%')\n",
    "\n",
    "# Display classification report\n",
    "print('Classification Report:\\n', classification_report(y_test, y_pred))\n"
   ],
   "metadata": {
    "collapsed": false,
    "ExecuteTime": {
     "start_time": "2023-11-19T03:22:38.586783Z",
     "end_time": "2023-11-19T03:22:38.651966Z"
    }
   }
  },
  {
   "cell_type": "code",
   "execution_count": 103,
   "outputs": [
    {
     "data": {
      "text/plain": "   Bayes_Suspicious_Level1  Bayes_Suspicious_Level2  Bayes_Suspicious_Level3   \n0                 0.000277                 0.436488                 0.000084  \\\n1                 0.921367                 0.000017                 0.000014   \n2                 0.902208                 0.000016                 0.000016   \n3                 0.412115                 0.000089                 0.000092   \n4                 0.902208                 0.000016                 0.000016   \n\n   Dangerous  Dangerous_Score  Embeddings_Suspicious_Level  Emotion_Score   \n0      False         0.913780                            1       0.745498  \\\n1      False         0.948626                            3       0.868692   \n2      False         0.949768                            2       0.769272   \n3      False         0.940683                            1       0.906539   \n4      False         0.949768                            2       0.769272   \n\n   Linear_Level1  Linear_Level2  Linear_Level3  Sentiment_Score   \n0       0.059677       0.925722       0.014601         0.948454  \\\n1       0.907052       0.067565       0.025382         0.498936   \n2       0.979169       0.011484       0.009347         0.788881   \n3       0.822248       0.121834       0.055918         0.973560   \n4       0.979169       0.011484       0.009347         0.788881   \n\n   num_sensitive  Sentiment_neutral  Sentiment_positive  \n0              2               True               False  \n1              2               True               False  \n2              0               True               False  \n3              1               True               False  \n4              0               True               False  ",
      "text/html": "<div>\n<style scoped>\n    .dataframe tbody tr th:only-of-type {\n        vertical-align: middle;\n    }\n\n    .dataframe tbody tr th {\n        vertical-align: top;\n    }\n\n    .dataframe thead th {\n        text-align: right;\n    }\n</style>\n<table border=\"1\" class=\"dataframe\">\n  <thead>\n    <tr style=\"text-align: right;\">\n      <th></th>\n      <th>Bayes_Suspicious_Level1</th>\n      <th>Bayes_Suspicious_Level2</th>\n      <th>Bayes_Suspicious_Level3</th>\n      <th>Dangerous</th>\n      <th>Dangerous_Score</th>\n      <th>Embeddings_Suspicious_Level</th>\n      <th>Emotion_Score</th>\n      <th>Linear_Level1</th>\n      <th>Linear_Level2</th>\n      <th>Linear_Level3</th>\n      <th>Sentiment_Score</th>\n      <th>num_sensitive</th>\n      <th>Sentiment_neutral</th>\n      <th>Sentiment_positive</th>\n    </tr>\n  </thead>\n  <tbody>\n    <tr>\n      <th>0</th>\n      <td>0.000277</td>\n      <td>0.436488</td>\n      <td>0.000084</td>\n      <td>False</td>\n      <td>0.913780</td>\n      <td>1</td>\n      <td>0.745498</td>\n      <td>0.059677</td>\n      <td>0.925722</td>\n      <td>0.014601</td>\n      <td>0.948454</td>\n      <td>2</td>\n      <td>True</td>\n      <td>False</td>\n    </tr>\n    <tr>\n      <th>1</th>\n      <td>0.921367</td>\n      <td>0.000017</td>\n      <td>0.000014</td>\n      <td>False</td>\n      <td>0.948626</td>\n      <td>3</td>\n      <td>0.868692</td>\n      <td>0.907052</td>\n      <td>0.067565</td>\n      <td>0.025382</td>\n      <td>0.498936</td>\n      <td>2</td>\n      <td>True</td>\n      <td>False</td>\n    </tr>\n    <tr>\n      <th>2</th>\n      <td>0.902208</td>\n      <td>0.000016</td>\n      <td>0.000016</td>\n      <td>False</td>\n      <td>0.949768</td>\n      <td>2</td>\n      <td>0.769272</td>\n      <td>0.979169</td>\n      <td>0.011484</td>\n      <td>0.009347</td>\n      <td>0.788881</td>\n      <td>0</td>\n      <td>True</td>\n      <td>False</td>\n    </tr>\n    <tr>\n      <th>3</th>\n      <td>0.412115</td>\n      <td>0.000089</td>\n      <td>0.000092</td>\n      <td>False</td>\n      <td>0.940683</td>\n      <td>1</td>\n      <td>0.906539</td>\n      <td>0.822248</td>\n      <td>0.121834</td>\n      <td>0.055918</td>\n      <td>0.973560</td>\n      <td>1</td>\n      <td>True</td>\n      <td>False</td>\n    </tr>\n    <tr>\n      <th>4</th>\n      <td>0.902208</td>\n      <td>0.000016</td>\n      <td>0.000016</td>\n      <td>False</td>\n      <td>0.949768</td>\n      <td>2</td>\n      <td>0.769272</td>\n      <td>0.979169</td>\n      <td>0.011484</td>\n      <td>0.009347</td>\n      <td>0.788881</td>\n      <td>0</td>\n      <td>True</td>\n      <td>False</td>\n    </tr>\n  </tbody>\n</table>\n</div>"
     },
     "execution_count": 103,
     "metadata": {},
     "output_type": "execute_result"
    }
   ],
   "source": [
    "X.head()"
   ],
   "metadata": {
    "collapsed": false,
    "ExecuteTime": {
     "start_time": "2023-11-19T03:22:40.428640Z",
     "end_time": "2023-11-19T03:22:40.437830Z"
    }
   }
  },
  {
   "cell_type": "code",
   "execution_count": 66,
   "outputs": [],
   "source": [
    "test_embeddings = pd.read_csv(os.path.join(ROOT_DIR, 'test_embeddings_submission.csv'))\n",
    "test_naive_bayes = pd.read_csv(os.path.join(ROOT_DIR, 'naive_bayes_laplace_normalised_test.csv'))\n",
    "test_linear_regression = pd.read_csv(os.path.join(ROOT_DIR, 'test_linear_regression.csv'))"
   ],
   "metadata": {
    "collapsed": false,
    "ExecuteTime": {
     "start_time": "2023-11-19T03:10:51.304765Z",
     "end_time": "2023-11-19T03:10:51.334796Z"
    }
   }
  },
  {
   "cell_type": "code",
   "execution_count": 70,
   "outputs": [
    {
     "data": {
      "text/plain": "   MessageId  Embeddings_Suspicious_Level\n0     168641                            3\n1      36569                            1\n2      19697                            1\n3      49296                            3\n4      11784                            1",
      "text/html": "<div>\n<style scoped>\n    .dataframe tbody tr th:only-of-type {\n        vertical-align: middle;\n    }\n\n    .dataframe tbody tr th {\n        vertical-align: top;\n    }\n\n    .dataframe thead th {\n        text-align: right;\n    }\n</style>\n<table border=\"1\" class=\"dataframe\">\n  <thead>\n    <tr style=\"text-align: right;\">\n      <th></th>\n      <th>MessageId</th>\n      <th>Embeddings_Suspicious_Level</th>\n    </tr>\n  </thead>\n  <tbody>\n    <tr>\n      <th>0</th>\n      <td>168641</td>\n      <td>3</td>\n    </tr>\n    <tr>\n      <th>1</th>\n      <td>36569</td>\n      <td>1</td>\n    </tr>\n    <tr>\n      <th>2</th>\n      <td>19697</td>\n      <td>1</td>\n    </tr>\n    <tr>\n      <th>3</th>\n      <td>49296</td>\n      <td>3</td>\n    </tr>\n    <tr>\n      <th>4</th>\n      <td>11784</td>\n      <td>1</td>\n    </tr>\n  </tbody>\n</table>\n</div>"
     },
     "execution_count": 70,
     "metadata": {},
     "output_type": "execute_result"
    }
   ],
   "source": [
    "test_embeddings.head()"
   ],
   "metadata": {
    "collapsed": false,
    "ExecuteTime": {
     "start_time": "2023-11-19T03:11:52.316889Z",
     "end_time": "2023-11-19T03:11:52.320418Z"
    }
   }
  },
  {
   "cell_type": "code",
   "execution_count": 68,
   "outputs": [],
   "source": [
    "test_embeddings['Embeddings_Suspicious_Level'] = test_embeddings['Suspicious_Level']\n",
    "test_embeddings = test_embeddings.drop(['Suspicious_Level'], axis=1)"
   ],
   "metadata": {
    "collapsed": false,
    "ExecuteTime": {
     "start_time": "2023-11-19T03:11:46.203009Z",
     "end_time": "2023-11-19T03:11:46.212428Z"
    }
   }
  },
  {
   "cell_type": "code",
   "execution_count": 71,
   "outputs": [
    {
     "data": {
      "text/plain": "   MessageId  Suspicious_Level  Bayes_Suspicious_Level1   \n0     168641                 1                 0.003797  \\\n1      36569                 1                 0.010007   \n2      19697                 1                 0.998182   \n3      49296                 1                 0.089458   \n4      11784                 1                 0.372208   \n\n   Bayes_Suspicious_Level2  Bayes_Suspicious_Level3  \n0                 0.002835                 0.000208  \n1                 0.000267                 0.000529  \n2                 0.000510                 0.000558  \n3                 0.007711                 0.010189  \n4                 0.000410                 0.000372  ",
      "text/html": "<div>\n<style scoped>\n    .dataframe tbody tr th:only-of-type {\n        vertical-align: middle;\n    }\n\n    .dataframe tbody tr th {\n        vertical-align: top;\n    }\n\n    .dataframe thead th {\n        text-align: right;\n    }\n</style>\n<table border=\"1\" class=\"dataframe\">\n  <thead>\n    <tr style=\"text-align: right;\">\n      <th></th>\n      <th>MessageId</th>\n      <th>Suspicious_Level</th>\n      <th>Bayes_Suspicious_Level1</th>\n      <th>Bayes_Suspicious_Level2</th>\n      <th>Bayes_Suspicious_Level3</th>\n    </tr>\n  </thead>\n  <tbody>\n    <tr>\n      <th>0</th>\n      <td>168641</td>\n      <td>1</td>\n      <td>0.003797</td>\n      <td>0.002835</td>\n      <td>0.000208</td>\n    </tr>\n    <tr>\n      <th>1</th>\n      <td>36569</td>\n      <td>1</td>\n      <td>0.010007</td>\n      <td>0.000267</td>\n      <td>0.000529</td>\n    </tr>\n    <tr>\n      <th>2</th>\n      <td>19697</td>\n      <td>1</td>\n      <td>0.998182</td>\n      <td>0.000510</td>\n      <td>0.000558</td>\n    </tr>\n    <tr>\n      <th>3</th>\n      <td>49296</td>\n      <td>1</td>\n      <td>0.089458</td>\n      <td>0.007711</td>\n      <td>0.010189</td>\n    </tr>\n    <tr>\n      <th>4</th>\n      <td>11784</td>\n      <td>1</td>\n      <td>0.372208</td>\n      <td>0.000410</td>\n      <td>0.000372</td>\n    </tr>\n  </tbody>\n</table>\n</div>"
     },
     "execution_count": 71,
     "metadata": {},
     "output_type": "execute_result"
    }
   ],
   "source": [
    "test_naive_bayes.head()"
   ],
   "metadata": {
    "collapsed": false,
    "ExecuteTime": {
     "start_time": "2023-11-19T03:12:04.673260Z",
     "end_time": "2023-11-19T03:12:04.676640Z"
    }
   }
  },
  {
   "cell_type": "code",
   "execution_count": 72,
   "outputs": [],
   "source": [
    "test_naive_bayes = test_naive_bayes.drop(['Suspicious_Level'], axis=1)"
   ],
   "metadata": {
    "collapsed": false,
    "ExecuteTime": {
     "start_time": "2023-11-19T03:12:12.688537Z",
     "end_time": "2023-11-19T03:12:12.716160Z"
    }
   }
  },
  {
   "cell_type": "code",
   "execution_count": 73,
   "outputs": [
    {
     "data": {
      "text/plain": "      ChannelName   ChannelId  MessageId                 Date   \n0      ukraina_ru  1175084215     168641  2023-09-11 16:57:36  \\\n1         bear007  1505866568      36569  2023-09-11 14:52:01   \n2  zakharprilepin  1217080686      19697  2023-09-11 08:26:09   \n3       denazi_ua  1783083983      49296  2023-09-11 12:30:37   \n4      spletnicca  1287596810      11784  2023-09-11 08:47:19   \n\n              EditDate                                            Content   \n0  2023-09-11 16:57:50  ⚡️Администрация Байдена близка к тому, чтобы о...  \\\n1  2023-09-11 14:52:12  РИА Новости публикует первые кадры с места гиб...   \n2                  NaN  Вице-спикер Госдумы Петр Толстой - о сроках ок...   \n3  2023-09-11 12:32:55  В Германии не осталось действующих специалисто...   \n4                  NaN  Военные медики рассказали правду о войне и её ...   \n\n          Sensitive Topic Sentiment  Sentiment_Score     Emotion   \n0        weapons,politics  negative         0.608944     neutral  \\\n1  offline_crime,politics   neutral         0.955055     neutral   \n2      terrorism,politics  negative         0.850013  admiration   \n3                 weapons   neutral         0.769793     neutral   \n4                politics   neutral         0.858099   curiosity   \n\n   Emotion_Score  Dangerous  Dangerous_Score  num_sensitive  Suspicious_Level   \n0       0.513087      False         0.954423              2                 1  \\\n1       0.714759      False         0.948009              2                 1   \n2       0.257196      False         0.954249              2                 1   \n3       0.287832      False         0.955604              1                 1   \n4       0.818388      False         0.958531              1                 1   \n\n          0         1         2  \n0  0.759211  0.146267  0.094522  \n1  0.343281  0.323890  0.332828  \n2  0.657900  0.012299  0.329801  \n3  0.326257  0.457862  0.215881  \n4  0.733633  0.208342  0.058025  ",
      "text/html": "<div>\n<style scoped>\n    .dataframe tbody tr th:only-of-type {\n        vertical-align: middle;\n    }\n\n    .dataframe tbody tr th {\n        vertical-align: top;\n    }\n\n    .dataframe thead th {\n        text-align: right;\n    }\n</style>\n<table border=\"1\" class=\"dataframe\">\n  <thead>\n    <tr style=\"text-align: right;\">\n      <th></th>\n      <th>ChannelName</th>\n      <th>ChannelId</th>\n      <th>MessageId</th>\n      <th>Date</th>\n      <th>EditDate</th>\n      <th>Content</th>\n      <th>Sensitive Topic</th>\n      <th>Sentiment</th>\n      <th>Sentiment_Score</th>\n      <th>Emotion</th>\n      <th>Emotion_Score</th>\n      <th>Dangerous</th>\n      <th>Dangerous_Score</th>\n      <th>num_sensitive</th>\n      <th>Suspicious_Level</th>\n      <th>0</th>\n      <th>1</th>\n      <th>2</th>\n    </tr>\n  </thead>\n  <tbody>\n    <tr>\n      <th>0</th>\n      <td>ukraina_ru</td>\n      <td>1175084215</td>\n      <td>168641</td>\n      <td>2023-09-11 16:57:36</td>\n      <td>2023-09-11 16:57:50</td>\n      <td>⚡️Администрация Байдена близка к тому, чтобы о...</td>\n      <td>weapons,politics</td>\n      <td>negative</td>\n      <td>0.608944</td>\n      <td>neutral</td>\n      <td>0.513087</td>\n      <td>False</td>\n      <td>0.954423</td>\n      <td>2</td>\n      <td>1</td>\n      <td>0.759211</td>\n      <td>0.146267</td>\n      <td>0.094522</td>\n    </tr>\n    <tr>\n      <th>1</th>\n      <td>bear007</td>\n      <td>1505866568</td>\n      <td>36569</td>\n      <td>2023-09-11 14:52:01</td>\n      <td>2023-09-11 14:52:12</td>\n      <td>РИА Новости публикует первые кадры с места гиб...</td>\n      <td>offline_crime,politics</td>\n      <td>neutral</td>\n      <td>0.955055</td>\n      <td>neutral</td>\n      <td>0.714759</td>\n      <td>False</td>\n      <td>0.948009</td>\n      <td>2</td>\n      <td>1</td>\n      <td>0.343281</td>\n      <td>0.323890</td>\n      <td>0.332828</td>\n    </tr>\n    <tr>\n      <th>2</th>\n      <td>zakharprilepin</td>\n      <td>1217080686</td>\n      <td>19697</td>\n      <td>2023-09-11 08:26:09</td>\n      <td>NaN</td>\n      <td>Вице-спикер Госдумы Петр Толстой - о сроках ок...</td>\n      <td>terrorism,politics</td>\n      <td>negative</td>\n      <td>0.850013</td>\n      <td>admiration</td>\n      <td>0.257196</td>\n      <td>False</td>\n      <td>0.954249</td>\n      <td>2</td>\n      <td>1</td>\n      <td>0.657900</td>\n      <td>0.012299</td>\n      <td>0.329801</td>\n    </tr>\n    <tr>\n      <th>3</th>\n      <td>denazi_ua</td>\n      <td>1783083983</td>\n      <td>49296</td>\n      <td>2023-09-11 12:30:37</td>\n      <td>2023-09-11 12:32:55</td>\n      <td>В Германии не осталось действующих специалисто...</td>\n      <td>weapons</td>\n      <td>neutral</td>\n      <td>0.769793</td>\n      <td>neutral</td>\n      <td>0.287832</td>\n      <td>False</td>\n      <td>0.955604</td>\n      <td>1</td>\n      <td>1</td>\n      <td>0.326257</td>\n      <td>0.457862</td>\n      <td>0.215881</td>\n    </tr>\n    <tr>\n      <th>4</th>\n      <td>spletnicca</td>\n      <td>1287596810</td>\n      <td>11784</td>\n      <td>2023-09-11 08:47:19</td>\n      <td>NaN</td>\n      <td>Военные медики рассказали правду о войне и её ...</td>\n      <td>politics</td>\n      <td>neutral</td>\n      <td>0.858099</td>\n      <td>curiosity</td>\n      <td>0.818388</td>\n      <td>False</td>\n      <td>0.958531</td>\n      <td>1</td>\n      <td>1</td>\n      <td>0.733633</td>\n      <td>0.208342</td>\n      <td>0.058025</td>\n    </tr>\n  </tbody>\n</table>\n</div>"
     },
     "execution_count": 73,
     "metadata": {},
     "output_type": "execute_result"
    }
   ],
   "source": [
    "test_linear_regression.head()"
   ],
   "metadata": {
    "collapsed": false,
    "ExecuteTime": {
     "start_time": "2023-11-19T03:12:32.138010Z",
     "end_time": "2023-11-19T03:12:32.152423Z"
    }
   }
  },
  {
   "cell_type": "code",
   "execution_count": 74,
   "outputs": [],
   "source": [
    "test_linear_regression = test_linear_regression.drop(['Suspicious_Level'], axis=1)"
   ],
   "metadata": {
    "collapsed": false,
    "ExecuteTime": {
     "start_time": "2023-11-19T03:12:39.699753Z",
     "end_time": "2023-11-19T03:12:39.723580Z"
    }
   }
  },
  {
   "cell_type": "code",
   "execution_count": 75,
   "outputs": [],
   "source": [
    "test_linear_regression['Linear_Level1']=test_linear_regression['0']\n",
    "test_linear_regression['Linear_Level2']=test_linear_regression['1']\n",
    "test_linear_regression['Linear_Level3']=test_linear_regression['2']\n",
    "test_linear_regression = test_linear_regression.drop(['0', '1', '2'], axis=1)"
   ],
   "metadata": {
    "collapsed": false,
    "ExecuteTime": {
     "start_time": "2023-11-19T03:12:54.374525Z",
     "end_time": "2023-11-19T03:12:54.381154Z"
    }
   }
  },
  {
   "cell_type": "code",
   "execution_count": 76,
   "outputs": [
    {
     "data": {
      "text/plain": "      ChannelName   ChannelId  MessageId                 Date   \n0      ukraina_ru  1175084215     168641  2023-09-11 16:57:36  \\\n1         bear007  1505866568      36569  2023-09-11 14:52:01   \n2  zakharprilepin  1217080686      19697  2023-09-11 08:26:09   \n3       denazi_ua  1783083983      49296  2023-09-11 12:30:37   \n4      spletnicca  1287596810      11784  2023-09-11 08:47:19   \n\n              EditDate                                            Content   \n0  2023-09-11 16:57:50  ⚡️Администрация Байдена близка к тому, чтобы о...  \\\n1  2023-09-11 14:52:12  РИА Новости публикует первые кадры с места гиб...   \n2                  NaN  Вице-спикер Госдумы Петр Толстой - о сроках ок...   \n3  2023-09-11 12:32:55  В Германии не осталось действующих специалисто...   \n4                  NaN  Военные медики рассказали правду о войне и её ...   \n\n          Sensitive Topic Sentiment  Sentiment_Score     Emotion   \n0        weapons,politics  negative         0.608944     neutral  \\\n1  offline_crime,politics   neutral         0.955055     neutral   \n2      terrorism,politics  negative         0.850013  admiration   \n3                 weapons   neutral         0.769793     neutral   \n4                politics   neutral         0.858099   curiosity   \n\n   Emotion_Score  Dangerous  Dangerous_Score  num_sensitive  Linear_Level1   \n0       0.513087      False         0.954423              2       0.759211  \\\n1       0.714759      False         0.948009              2       0.343281   \n2       0.257196      False         0.954249              2       0.657900   \n3       0.287832      False         0.955604              1       0.326257   \n4       0.818388      False         0.958531              1       0.733633   \n\n   Linear_Level2  Linear_Level3  \n0       0.146267       0.094522  \n1       0.323890       0.332828  \n2       0.012299       0.329801  \n3       0.457862       0.215881  \n4       0.208342       0.058025  ",
      "text/html": "<div>\n<style scoped>\n    .dataframe tbody tr th:only-of-type {\n        vertical-align: middle;\n    }\n\n    .dataframe tbody tr th {\n        vertical-align: top;\n    }\n\n    .dataframe thead th {\n        text-align: right;\n    }\n</style>\n<table border=\"1\" class=\"dataframe\">\n  <thead>\n    <tr style=\"text-align: right;\">\n      <th></th>\n      <th>ChannelName</th>\n      <th>ChannelId</th>\n      <th>MessageId</th>\n      <th>Date</th>\n      <th>EditDate</th>\n      <th>Content</th>\n      <th>Sensitive Topic</th>\n      <th>Sentiment</th>\n      <th>Sentiment_Score</th>\n      <th>Emotion</th>\n      <th>Emotion_Score</th>\n      <th>Dangerous</th>\n      <th>Dangerous_Score</th>\n      <th>num_sensitive</th>\n      <th>Linear_Level1</th>\n      <th>Linear_Level2</th>\n      <th>Linear_Level3</th>\n    </tr>\n  </thead>\n  <tbody>\n    <tr>\n      <th>0</th>\n      <td>ukraina_ru</td>\n      <td>1175084215</td>\n      <td>168641</td>\n      <td>2023-09-11 16:57:36</td>\n      <td>2023-09-11 16:57:50</td>\n      <td>⚡️Администрация Байдена близка к тому, чтобы о...</td>\n      <td>weapons,politics</td>\n      <td>negative</td>\n      <td>0.608944</td>\n      <td>neutral</td>\n      <td>0.513087</td>\n      <td>False</td>\n      <td>0.954423</td>\n      <td>2</td>\n      <td>0.759211</td>\n      <td>0.146267</td>\n      <td>0.094522</td>\n    </tr>\n    <tr>\n      <th>1</th>\n      <td>bear007</td>\n      <td>1505866568</td>\n      <td>36569</td>\n      <td>2023-09-11 14:52:01</td>\n      <td>2023-09-11 14:52:12</td>\n      <td>РИА Новости публикует первые кадры с места гиб...</td>\n      <td>offline_crime,politics</td>\n      <td>neutral</td>\n      <td>0.955055</td>\n      <td>neutral</td>\n      <td>0.714759</td>\n      <td>False</td>\n      <td>0.948009</td>\n      <td>2</td>\n      <td>0.343281</td>\n      <td>0.323890</td>\n      <td>0.332828</td>\n    </tr>\n    <tr>\n      <th>2</th>\n      <td>zakharprilepin</td>\n      <td>1217080686</td>\n      <td>19697</td>\n      <td>2023-09-11 08:26:09</td>\n      <td>NaN</td>\n      <td>Вице-спикер Госдумы Петр Толстой - о сроках ок...</td>\n      <td>terrorism,politics</td>\n      <td>negative</td>\n      <td>0.850013</td>\n      <td>admiration</td>\n      <td>0.257196</td>\n      <td>False</td>\n      <td>0.954249</td>\n      <td>2</td>\n      <td>0.657900</td>\n      <td>0.012299</td>\n      <td>0.329801</td>\n    </tr>\n    <tr>\n      <th>3</th>\n      <td>denazi_ua</td>\n      <td>1783083983</td>\n      <td>49296</td>\n      <td>2023-09-11 12:30:37</td>\n      <td>2023-09-11 12:32:55</td>\n      <td>В Германии не осталось действующих специалисто...</td>\n      <td>weapons</td>\n      <td>neutral</td>\n      <td>0.769793</td>\n      <td>neutral</td>\n      <td>0.287832</td>\n      <td>False</td>\n      <td>0.955604</td>\n      <td>1</td>\n      <td>0.326257</td>\n      <td>0.457862</td>\n      <td>0.215881</td>\n    </tr>\n    <tr>\n      <th>4</th>\n      <td>spletnicca</td>\n      <td>1287596810</td>\n      <td>11784</td>\n      <td>2023-09-11 08:47:19</td>\n      <td>NaN</td>\n      <td>Военные медики рассказали правду о войне и её ...</td>\n      <td>politics</td>\n      <td>neutral</td>\n      <td>0.858099</td>\n      <td>curiosity</td>\n      <td>0.818388</td>\n      <td>False</td>\n      <td>0.958531</td>\n      <td>1</td>\n      <td>0.733633</td>\n      <td>0.208342</td>\n      <td>0.058025</td>\n    </tr>\n  </tbody>\n</table>\n</div>"
     },
     "execution_count": 76,
     "metadata": {},
     "output_type": "execute_result"
    }
   ],
   "source": [
    "test_linear_regression.head()"
   ],
   "metadata": {
    "collapsed": false,
    "ExecuteTime": {
     "start_time": "2023-11-19T03:13:00.924116Z",
     "end_time": "2023-11-19T03:13:00.950837Z"
    }
   }
  },
  {
   "cell_type": "code",
   "execution_count": 77,
   "outputs": [],
   "source": [
    "total_test = pd.concat([test_embeddings, test_naive_bayes, test_linear_regression], axis=1)\n",
    "total_test = total_test.drop_duplicates(subset='MessageId')"
   ],
   "metadata": {
    "collapsed": false,
    "ExecuteTime": {
     "start_time": "2023-11-19T03:13:51.769272Z",
     "end_time": "2023-11-19T03:13:51.788889Z"
    }
   }
  },
  {
   "cell_type": "code",
   "execution_count": 78,
   "outputs": [
    {
     "data": {
      "text/plain": "   MessageId  Embeddings_Suspicious_Level  MessageId  Bayes_Suspicious_Level1   \n0     168641                            3     168641                 0.003797  \\\n1      36569                            1      36569                 0.010007   \n2      19697                            1      19697                 0.998182   \n3      49296                            3      49296                 0.089458   \n4      11784                            1      11784                 0.372208   \n\n   Bayes_Suspicious_Level2  Bayes_Suspicious_Level3     ChannelName   \n0                 0.002835                 0.000208      ukraina_ru  \\\n1                 0.000267                 0.000529         bear007   \n2                 0.000510                 0.000558  zakharprilepin   \n3                 0.007711                 0.010189       denazi_ua   \n4                 0.000410                 0.000372      spletnicca   \n\n    ChannelId  MessageId                 Date  ... Sentiment Sentiment_Score   \n0  1175084215     168641  2023-09-11 16:57:36  ...  negative        0.608944  \\\n1  1505866568      36569  2023-09-11 14:52:01  ...   neutral        0.955055   \n2  1217080686      19697  2023-09-11 08:26:09  ...  negative        0.850013   \n3  1783083983      49296  2023-09-11 12:30:37  ...   neutral        0.769793   \n4  1287596810      11784  2023-09-11 08:47:19  ...   neutral        0.858099   \n\n      Emotion Emotion_Score  Dangerous Dangerous_Score  num_sensitive   \n0     neutral      0.513087      False        0.954423              2  \\\n1     neutral      0.714759      False        0.948009              2   \n2  admiration      0.257196      False        0.954249              2   \n3     neutral      0.287832      False        0.955604              1   \n4   curiosity      0.818388      False        0.958531              1   \n\n   Linear_Level1  Linear_Level2  Linear_Level3  \n0       0.759211       0.146267       0.094522  \n1       0.343281       0.323890       0.332828  \n2       0.657900       0.012299       0.329801  \n3       0.326257       0.457862       0.215881  \n4       0.733633       0.208342       0.058025  \n\n[5 rows x 23 columns]",
      "text/html": "<div>\n<style scoped>\n    .dataframe tbody tr th:only-of-type {\n        vertical-align: middle;\n    }\n\n    .dataframe tbody tr th {\n        vertical-align: top;\n    }\n\n    .dataframe thead th {\n        text-align: right;\n    }\n</style>\n<table border=\"1\" class=\"dataframe\">\n  <thead>\n    <tr style=\"text-align: right;\">\n      <th></th>\n      <th>MessageId</th>\n      <th>Embeddings_Suspicious_Level</th>\n      <th>MessageId</th>\n      <th>Bayes_Suspicious_Level1</th>\n      <th>Bayes_Suspicious_Level2</th>\n      <th>Bayes_Suspicious_Level3</th>\n      <th>ChannelName</th>\n      <th>ChannelId</th>\n      <th>MessageId</th>\n      <th>Date</th>\n      <th>...</th>\n      <th>Sentiment</th>\n      <th>Sentiment_Score</th>\n      <th>Emotion</th>\n      <th>Emotion_Score</th>\n      <th>Dangerous</th>\n      <th>Dangerous_Score</th>\n      <th>num_sensitive</th>\n      <th>Linear_Level1</th>\n      <th>Linear_Level2</th>\n      <th>Linear_Level3</th>\n    </tr>\n  </thead>\n  <tbody>\n    <tr>\n      <th>0</th>\n      <td>168641</td>\n      <td>3</td>\n      <td>168641</td>\n      <td>0.003797</td>\n      <td>0.002835</td>\n      <td>0.000208</td>\n      <td>ukraina_ru</td>\n      <td>1175084215</td>\n      <td>168641</td>\n      <td>2023-09-11 16:57:36</td>\n      <td>...</td>\n      <td>negative</td>\n      <td>0.608944</td>\n      <td>neutral</td>\n      <td>0.513087</td>\n      <td>False</td>\n      <td>0.954423</td>\n      <td>2</td>\n      <td>0.759211</td>\n      <td>0.146267</td>\n      <td>0.094522</td>\n    </tr>\n    <tr>\n      <th>1</th>\n      <td>36569</td>\n      <td>1</td>\n      <td>36569</td>\n      <td>0.010007</td>\n      <td>0.000267</td>\n      <td>0.000529</td>\n      <td>bear007</td>\n      <td>1505866568</td>\n      <td>36569</td>\n      <td>2023-09-11 14:52:01</td>\n      <td>...</td>\n      <td>neutral</td>\n      <td>0.955055</td>\n      <td>neutral</td>\n      <td>0.714759</td>\n      <td>False</td>\n      <td>0.948009</td>\n      <td>2</td>\n      <td>0.343281</td>\n      <td>0.323890</td>\n      <td>0.332828</td>\n    </tr>\n    <tr>\n      <th>2</th>\n      <td>19697</td>\n      <td>1</td>\n      <td>19697</td>\n      <td>0.998182</td>\n      <td>0.000510</td>\n      <td>0.000558</td>\n      <td>zakharprilepin</td>\n      <td>1217080686</td>\n      <td>19697</td>\n      <td>2023-09-11 08:26:09</td>\n      <td>...</td>\n      <td>negative</td>\n      <td>0.850013</td>\n      <td>admiration</td>\n      <td>0.257196</td>\n      <td>False</td>\n      <td>0.954249</td>\n      <td>2</td>\n      <td>0.657900</td>\n      <td>0.012299</td>\n      <td>0.329801</td>\n    </tr>\n    <tr>\n      <th>3</th>\n      <td>49296</td>\n      <td>3</td>\n      <td>49296</td>\n      <td>0.089458</td>\n      <td>0.007711</td>\n      <td>0.010189</td>\n      <td>denazi_ua</td>\n      <td>1783083983</td>\n      <td>49296</td>\n      <td>2023-09-11 12:30:37</td>\n      <td>...</td>\n      <td>neutral</td>\n      <td>0.769793</td>\n      <td>neutral</td>\n      <td>0.287832</td>\n      <td>False</td>\n      <td>0.955604</td>\n      <td>1</td>\n      <td>0.326257</td>\n      <td>0.457862</td>\n      <td>0.215881</td>\n    </tr>\n    <tr>\n      <th>4</th>\n      <td>11784</td>\n      <td>1</td>\n      <td>11784</td>\n      <td>0.372208</td>\n      <td>0.000410</td>\n      <td>0.000372</td>\n      <td>spletnicca</td>\n      <td>1287596810</td>\n      <td>11784</td>\n      <td>2023-09-11 08:47:19</td>\n      <td>...</td>\n      <td>neutral</td>\n      <td>0.858099</td>\n      <td>curiosity</td>\n      <td>0.818388</td>\n      <td>False</td>\n      <td>0.958531</td>\n      <td>1</td>\n      <td>0.733633</td>\n      <td>0.208342</td>\n      <td>0.058025</td>\n    </tr>\n  </tbody>\n</table>\n<p>5 rows × 23 columns</p>\n</div>"
     },
     "execution_count": 78,
     "metadata": {},
     "output_type": "execute_result"
    }
   ],
   "source": [
    "total_test.head()"
   ],
   "metadata": {
    "collapsed": false,
    "ExecuteTime": {
     "start_time": "2023-11-19T03:13:54.143020Z",
     "end_time": "2023-11-19T03:13:54.157567Z"
    }
   }
  },
  {
   "cell_type": "code",
   "execution_count": 79,
   "outputs": [],
   "source": [
    "total_test.to_csv(os.path.join(ROOT_DIR, 'total_test.csv'), index=False)"
   ],
   "metadata": {
    "collapsed": false,
    "ExecuteTime": {
     "start_time": "2023-11-19T03:14:22.508848Z",
     "end_time": "2023-11-19T03:14:22.543369Z"
    }
   }
  },
  {
   "cell_type": "code",
   "execution_count": 80,
   "outputs": [],
   "source": [
    "total_test = total_test.drop(['MessageId'], axis=1)"
   ],
   "metadata": {
    "collapsed": false,
    "ExecuteTime": {
     "start_time": "2023-11-19T03:14:26.626684Z",
     "end_time": "2023-11-19T03:14:26.647374Z"
    }
   }
  },
  {
   "cell_type": "code",
   "execution_count": 81,
   "outputs": [],
   "source": [
    "total_test = total_test.drop(['Content'], axis=1)"
   ],
   "metadata": {
    "collapsed": false,
    "ExecuteTime": {
     "start_time": "2023-11-19T03:14:49.616340Z",
     "end_time": "2023-11-19T03:14:49.638029Z"
    }
   }
  },
  {
   "cell_type": "code",
   "execution_count": 82,
   "outputs": [],
   "source": [
    "total_test = total_test.drop(['ChannelName', 'ChannelId', 'Date', 'EditDate', 'Sensitive Topic'], axis=1)"
   ],
   "metadata": {
    "collapsed": false,
    "ExecuteTime": {
     "start_time": "2023-11-19T03:14:53.389930Z",
     "end_time": "2023-11-19T03:14:53.415045Z"
    }
   }
  },
  {
   "cell_type": "code",
   "execution_count": 83,
   "outputs": [
    {
     "data": {
      "text/plain": "   Embeddings_Suspicious_Level  Bayes_Suspicious_Level1   \n0                            3                 0.003797  \\\n1                            1                 0.010007   \n2                            1                 0.998182   \n3                            3                 0.089458   \n4                            1                 0.372208   \n\n   Bayes_Suspicious_Level2  Bayes_Suspicious_Level3 Sentiment   \n0                 0.002835                 0.000208  negative  \\\n1                 0.000267                 0.000529   neutral   \n2                 0.000510                 0.000558  negative   \n3                 0.007711                 0.010189   neutral   \n4                 0.000410                 0.000372   neutral   \n\n   Sentiment_Score     Emotion  Emotion_Score  Dangerous  Dangerous_Score   \n0         0.608944     neutral       0.513087      False         0.954423  \\\n1         0.955055     neutral       0.714759      False         0.948009   \n2         0.850013  admiration       0.257196      False         0.954249   \n3         0.769793     neutral       0.287832      False         0.955604   \n4         0.858099   curiosity       0.818388      False         0.958531   \n\n   num_sensitive  Linear_Level1  Linear_Level2  Linear_Level3  \n0              2       0.759211       0.146267       0.094522  \n1              2       0.343281       0.323890       0.332828  \n2              2       0.657900       0.012299       0.329801  \n3              1       0.326257       0.457862       0.215881  \n4              1       0.733633       0.208342       0.058025  ",
      "text/html": "<div>\n<style scoped>\n    .dataframe tbody tr th:only-of-type {\n        vertical-align: middle;\n    }\n\n    .dataframe tbody tr th {\n        vertical-align: top;\n    }\n\n    .dataframe thead th {\n        text-align: right;\n    }\n</style>\n<table border=\"1\" class=\"dataframe\">\n  <thead>\n    <tr style=\"text-align: right;\">\n      <th></th>\n      <th>Embeddings_Suspicious_Level</th>\n      <th>Bayes_Suspicious_Level1</th>\n      <th>Bayes_Suspicious_Level2</th>\n      <th>Bayes_Suspicious_Level3</th>\n      <th>Sentiment</th>\n      <th>Sentiment_Score</th>\n      <th>Emotion</th>\n      <th>Emotion_Score</th>\n      <th>Dangerous</th>\n      <th>Dangerous_Score</th>\n      <th>num_sensitive</th>\n      <th>Linear_Level1</th>\n      <th>Linear_Level2</th>\n      <th>Linear_Level3</th>\n    </tr>\n  </thead>\n  <tbody>\n    <tr>\n      <th>0</th>\n      <td>3</td>\n      <td>0.003797</td>\n      <td>0.002835</td>\n      <td>0.000208</td>\n      <td>negative</td>\n      <td>0.608944</td>\n      <td>neutral</td>\n      <td>0.513087</td>\n      <td>False</td>\n      <td>0.954423</td>\n      <td>2</td>\n      <td>0.759211</td>\n      <td>0.146267</td>\n      <td>0.094522</td>\n    </tr>\n    <tr>\n      <th>1</th>\n      <td>1</td>\n      <td>0.010007</td>\n      <td>0.000267</td>\n      <td>0.000529</td>\n      <td>neutral</td>\n      <td>0.955055</td>\n      <td>neutral</td>\n      <td>0.714759</td>\n      <td>False</td>\n      <td>0.948009</td>\n      <td>2</td>\n      <td>0.343281</td>\n      <td>0.323890</td>\n      <td>0.332828</td>\n    </tr>\n    <tr>\n      <th>2</th>\n      <td>1</td>\n      <td>0.998182</td>\n      <td>0.000510</td>\n      <td>0.000558</td>\n      <td>negative</td>\n      <td>0.850013</td>\n      <td>admiration</td>\n      <td>0.257196</td>\n      <td>False</td>\n      <td>0.954249</td>\n      <td>2</td>\n      <td>0.657900</td>\n      <td>0.012299</td>\n      <td>0.329801</td>\n    </tr>\n    <tr>\n      <th>3</th>\n      <td>3</td>\n      <td>0.089458</td>\n      <td>0.007711</td>\n      <td>0.010189</td>\n      <td>neutral</td>\n      <td>0.769793</td>\n      <td>neutral</td>\n      <td>0.287832</td>\n      <td>False</td>\n      <td>0.955604</td>\n      <td>1</td>\n      <td>0.326257</td>\n      <td>0.457862</td>\n      <td>0.215881</td>\n    </tr>\n    <tr>\n      <th>4</th>\n      <td>1</td>\n      <td>0.372208</td>\n      <td>0.000410</td>\n      <td>0.000372</td>\n      <td>neutral</td>\n      <td>0.858099</td>\n      <td>curiosity</td>\n      <td>0.818388</td>\n      <td>False</td>\n      <td>0.958531</td>\n      <td>1</td>\n      <td>0.733633</td>\n      <td>0.208342</td>\n      <td>0.058025</td>\n    </tr>\n  </tbody>\n</table>\n</div>"
     },
     "execution_count": 83,
     "metadata": {},
     "output_type": "execute_result"
    }
   ],
   "source": [
    "total_test.head()"
   ],
   "metadata": {
    "collapsed": false,
    "ExecuteTime": {
     "start_time": "2023-11-19T03:14:56.533037Z",
     "end_time": "2023-11-19T03:14:56.555517Z"
    }
   }
  },
  {
   "cell_type": "code",
   "execution_count": 109,
   "outputs": [],
   "source": [
    "# Convert categorical columns (like 'Sentiment') to numerical using one-hot encoding\n",
    "X_test = pd.get_dummies(total_test, columns=['Sentiment'], drop_first=True)\n",
    "X_test = X_test.drop(['Emotion'], axis=1)\n",
    "\n",
    "X_test = X_test.reindex(sorted(X.columns), axis=1)\n",
    "# X_test = pd.get_dummies(X_test, columns=['Emotion'], drop_first=True)"
   ],
   "metadata": {
    "collapsed": false,
    "ExecuteTime": {
     "start_time": "2023-11-19T03:25:03.762611Z",
     "end_time": "2023-11-19T03:25:03.769777Z"
    }
   }
  },
  {
   "cell_type": "code",
   "execution_count": 110,
   "outputs": [],
   "source": [
    "# Move 'num_sensitive' column from last to third-to-last position\n",
    "column_order = list(X_test.columns)\n",
    "column_order.insert(-2, column_order.pop())\n",
    "\n",
    "# Reorder the columns\n",
    "X_test = X_test[column_order]\n"
   ],
   "metadata": {
    "collapsed": false,
    "ExecuteTime": {
     "start_time": "2023-11-19T03:25:08.456230Z",
     "end_time": "2023-11-19T03:25:08.472646Z"
    }
   }
  },
  {
   "cell_type": "code",
   "execution_count": 111,
   "outputs": [
    {
     "data": {
      "text/plain": "   Bayes_Suspicious_Level1  Bayes_Suspicious_Level2  Bayes_Suspicious_Level3   \n0                 0.003797                 0.002835                 0.000208  \\\n1                 0.010007                 0.000267                 0.000529   \n2                 0.998182                 0.000510                 0.000558   \n3                 0.089458                 0.007711                 0.010189   \n4                 0.372208                 0.000410                 0.000372   \n\n   Dangerous  Dangerous_Score  Embeddings_Suspicious_Level  Emotion_Score   \n0      False         0.954423                            3       0.513087  \\\n1      False         0.948009                            1       0.714759   \n2      False         0.954249                            1       0.257196   \n3      False         0.955604                            3       0.287832   \n4      False         0.958531                            1       0.818388   \n\n   Linear_Level1  Linear_Level2  Linear_Level3  Sentiment_Score   \n0       0.759211       0.146267       0.094522         0.608944  \\\n1       0.343281       0.323890       0.332828         0.955055   \n2       0.657900       0.012299       0.329801         0.850013   \n3       0.326257       0.457862       0.215881         0.769793   \n4       0.733633       0.208342       0.058025         0.858099   \n\n   num_sensitive  Sentiment_neutral  Sentiment_positive  \n0              2              False               False  \n1              2               True               False  \n2              2              False               False  \n3              1               True               False  \n4              1               True               False  ",
      "text/html": "<div>\n<style scoped>\n    .dataframe tbody tr th:only-of-type {\n        vertical-align: middle;\n    }\n\n    .dataframe tbody tr th {\n        vertical-align: top;\n    }\n\n    .dataframe thead th {\n        text-align: right;\n    }\n</style>\n<table border=\"1\" class=\"dataframe\">\n  <thead>\n    <tr style=\"text-align: right;\">\n      <th></th>\n      <th>Bayes_Suspicious_Level1</th>\n      <th>Bayes_Suspicious_Level2</th>\n      <th>Bayes_Suspicious_Level3</th>\n      <th>Dangerous</th>\n      <th>Dangerous_Score</th>\n      <th>Embeddings_Suspicious_Level</th>\n      <th>Emotion_Score</th>\n      <th>Linear_Level1</th>\n      <th>Linear_Level2</th>\n      <th>Linear_Level3</th>\n      <th>Sentiment_Score</th>\n      <th>num_sensitive</th>\n      <th>Sentiment_neutral</th>\n      <th>Sentiment_positive</th>\n    </tr>\n  </thead>\n  <tbody>\n    <tr>\n      <th>0</th>\n      <td>0.003797</td>\n      <td>0.002835</td>\n      <td>0.000208</td>\n      <td>False</td>\n      <td>0.954423</td>\n      <td>3</td>\n      <td>0.513087</td>\n      <td>0.759211</td>\n      <td>0.146267</td>\n      <td>0.094522</td>\n      <td>0.608944</td>\n      <td>2</td>\n      <td>False</td>\n      <td>False</td>\n    </tr>\n    <tr>\n      <th>1</th>\n      <td>0.010007</td>\n      <td>0.000267</td>\n      <td>0.000529</td>\n      <td>False</td>\n      <td>0.948009</td>\n      <td>1</td>\n      <td>0.714759</td>\n      <td>0.343281</td>\n      <td>0.323890</td>\n      <td>0.332828</td>\n      <td>0.955055</td>\n      <td>2</td>\n      <td>True</td>\n      <td>False</td>\n    </tr>\n    <tr>\n      <th>2</th>\n      <td>0.998182</td>\n      <td>0.000510</td>\n      <td>0.000558</td>\n      <td>False</td>\n      <td>0.954249</td>\n      <td>1</td>\n      <td>0.257196</td>\n      <td>0.657900</td>\n      <td>0.012299</td>\n      <td>0.329801</td>\n      <td>0.850013</td>\n      <td>2</td>\n      <td>False</td>\n      <td>False</td>\n    </tr>\n    <tr>\n      <th>3</th>\n      <td>0.089458</td>\n      <td>0.007711</td>\n      <td>0.010189</td>\n      <td>False</td>\n      <td>0.955604</td>\n      <td>3</td>\n      <td>0.287832</td>\n      <td>0.326257</td>\n      <td>0.457862</td>\n      <td>0.215881</td>\n      <td>0.769793</td>\n      <td>1</td>\n      <td>True</td>\n      <td>False</td>\n    </tr>\n    <tr>\n      <th>4</th>\n      <td>0.372208</td>\n      <td>0.000410</td>\n      <td>0.000372</td>\n      <td>False</td>\n      <td>0.958531</td>\n      <td>1</td>\n      <td>0.818388</td>\n      <td>0.733633</td>\n      <td>0.208342</td>\n      <td>0.058025</td>\n      <td>0.858099</td>\n      <td>1</td>\n      <td>True</td>\n      <td>False</td>\n    </tr>\n  </tbody>\n</table>\n</div>"
     },
     "execution_count": 111,
     "metadata": {},
     "output_type": "execute_result"
    }
   ],
   "source": [
    "X_test.head()"
   ],
   "metadata": {
    "collapsed": false,
    "ExecuteTime": {
     "start_time": "2023-11-19T03:25:09.520187Z",
     "end_time": "2023-11-19T03:25:09.529209Z"
    }
   }
  },
  {
   "cell_type": "code",
   "execution_count": 112,
   "outputs": [
    {
     "data": {
      "text/plain": "   Bayes_Suspicious_Level1  Bayes_Suspicious_Level2  Bayes_Suspicious_Level3   \n0                 0.000277                 0.436488                 0.000084  \\\n1                 0.921367                 0.000017                 0.000014   \n2                 0.902208                 0.000016                 0.000016   \n3                 0.412115                 0.000089                 0.000092   \n4                 0.902208                 0.000016                 0.000016   \n\n   Dangerous  Dangerous_Score  Embeddings_Suspicious_Level  Emotion_Score   \n0      False         0.913780                            1       0.745498  \\\n1      False         0.948626                            3       0.868692   \n2      False         0.949768                            2       0.769272   \n3      False         0.940683                            1       0.906539   \n4      False         0.949768                            2       0.769272   \n\n   Linear_Level1  Linear_Level2  Linear_Level3  Sentiment_Score   \n0       0.059677       0.925722       0.014601         0.948454  \\\n1       0.907052       0.067565       0.025382         0.498936   \n2       0.979169       0.011484       0.009347         0.788881   \n3       0.822248       0.121834       0.055918         0.973560   \n4       0.979169       0.011484       0.009347         0.788881   \n\n   num_sensitive  Sentiment_neutral  Sentiment_positive  \n0              2               True               False  \n1              2               True               False  \n2              0               True               False  \n3              1               True               False  \n4              0               True               False  ",
      "text/html": "<div>\n<style scoped>\n    .dataframe tbody tr th:only-of-type {\n        vertical-align: middle;\n    }\n\n    .dataframe tbody tr th {\n        vertical-align: top;\n    }\n\n    .dataframe thead th {\n        text-align: right;\n    }\n</style>\n<table border=\"1\" class=\"dataframe\">\n  <thead>\n    <tr style=\"text-align: right;\">\n      <th></th>\n      <th>Bayes_Suspicious_Level1</th>\n      <th>Bayes_Suspicious_Level2</th>\n      <th>Bayes_Suspicious_Level3</th>\n      <th>Dangerous</th>\n      <th>Dangerous_Score</th>\n      <th>Embeddings_Suspicious_Level</th>\n      <th>Emotion_Score</th>\n      <th>Linear_Level1</th>\n      <th>Linear_Level2</th>\n      <th>Linear_Level3</th>\n      <th>Sentiment_Score</th>\n      <th>num_sensitive</th>\n      <th>Sentiment_neutral</th>\n      <th>Sentiment_positive</th>\n    </tr>\n  </thead>\n  <tbody>\n    <tr>\n      <th>0</th>\n      <td>0.000277</td>\n      <td>0.436488</td>\n      <td>0.000084</td>\n      <td>False</td>\n      <td>0.913780</td>\n      <td>1</td>\n      <td>0.745498</td>\n      <td>0.059677</td>\n      <td>0.925722</td>\n      <td>0.014601</td>\n      <td>0.948454</td>\n      <td>2</td>\n      <td>True</td>\n      <td>False</td>\n    </tr>\n    <tr>\n      <th>1</th>\n      <td>0.921367</td>\n      <td>0.000017</td>\n      <td>0.000014</td>\n      <td>False</td>\n      <td>0.948626</td>\n      <td>3</td>\n      <td>0.868692</td>\n      <td>0.907052</td>\n      <td>0.067565</td>\n      <td>0.025382</td>\n      <td>0.498936</td>\n      <td>2</td>\n      <td>True</td>\n      <td>False</td>\n    </tr>\n    <tr>\n      <th>2</th>\n      <td>0.902208</td>\n      <td>0.000016</td>\n      <td>0.000016</td>\n      <td>False</td>\n      <td>0.949768</td>\n      <td>2</td>\n      <td>0.769272</td>\n      <td>0.979169</td>\n      <td>0.011484</td>\n      <td>0.009347</td>\n      <td>0.788881</td>\n      <td>0</td>\n      <td>True</td>\n      <td>False</td>\n    </tr>\n    <tr>\n      <th>3</th>\n      <td>0.412115</td>\n      <td>0.000089</td>\n      <td>0.000092</td>\n      <td>False</td>\n      <td>0.940683</td>\n      <td>1</td>\n      <td>0.906539</td>\n      <td>0.822248</td>\n      <td>0.121834</td>\n      <td>0.055918</td>\n      <td>0.973560</td>\n      <td>1</td>\n      <td>True</td>\n      <td>False</td>\n    </tr>\n    <tr>\n      <th>4</th>\n      <td>0.902208</td>\n      <td>0.000016</td>\n      <td>0.000016</td>\n      <td>False</td>\n      <td>0.949768</td>\n      <td>2</td>\n      <td>0.769272</td>\n      <td>0.979169</td>\n      <td>0.011484</td>\n      <td>0.009347</td>\n      <td>0.788881</td>\n      <td>0</td>\n      <td>True</td>\n      <td>False</td>\n    </tr>\n  </tbody>\n</table>\n</div>"
     },
     "execution_count": 112,
     "metadata": {},
     "output_type": "execute_result"
    }
   ],
   "source": [
    "X.head()"
   ],
   "metadata": {
    "collapsed": false,
    "ExecuteTime": {
     "start_time": "2023-11-19T03:25:12.468782Z",
     "end_time": "2023-11-19T03:25:12.476416Z"
    }
   }
  },
  {
   "cell_type": "code",
   "execution_count": 113,
   "outputs": [],
   "source": [
    "# Make predictions on the test set\n",
    "y_test_pred = classifier.predict(X_test)"
   ],
   "metadata": {
    "collapsed": false,
    "ExecuteTime": {
     "start_time": "2023-11-19T03:25:19.811232Z",
     "end_time": "2023-11-19T03:25:19.829730Z"
    }
   }
  },
  {
   "cell_type": "code",
   "execution_count": 114,
   "outputs": [],
   "source": [
    "df_result = pd.DataFrame(y_test_pred, columns=['Suspicious_Level'])"
   ],
   "metadata": {
    "collapsed": false,
    "ExecuteTime": {
     "start_time": "2023-11-19T03:25:36.865725Z",
     "end_time": "2023-11-19T03:25:36.896965Z"
    }
   }
  },
  {
   "cell_type": "code",
   "execution_count": 115,
   "outputs": [],
   "source": [
    "df_result['MessageId'] = test_embeddings['MessageId']"
   ],
   "metadata": {
    "collapsed": false,
    "ExecuteTime": {
     "start_time": "2023-11-19T03:25:48.717250Z",
     "end_time": "2023-11-19T03:25:48.746269Z"
    }
   }
  },
  {
   "cell_type": "code",
   "execution_count": 116,
   "outputs": [],
   "source": [
    "df_result[['MessageId', 'Suspicious_Level']].to_csv('model_ensemble_test.csv', index=False)"
   ],
   "metadata": {
    "collapsed": false,
    "ExecuteTime": {
     "start_time": "2023-11-19T03:27:07.632452Z",
     "end_time": "2023-11-19T03:27:07.667353Z"
    }
   }
  },
  {
   "cell_type": "code",
   "execution_count": null,
   "outputs": [],
   "source": [],
   "metadata": {
    "collapsed": false
   }
  }
 ],
 "metadata": {
  "kernelspec": {
   "display_name": "Python 3",
   "language": "python",
   "name": "python3"
  },
  "language_info": {
   "codemirror_mode": {
    "name": "ipython",
    "version": 2
   },
   "file_extension": ".py",
   "mimetype": "text/x-python",
   "name": "python",
   "nbconvert_exporter": "python",
   "pygments_lexer": "ipython2",
   "version": "2.7.6"
  }
 },
 "nbformat": 4,
 "nbformat_minor": 0
}
